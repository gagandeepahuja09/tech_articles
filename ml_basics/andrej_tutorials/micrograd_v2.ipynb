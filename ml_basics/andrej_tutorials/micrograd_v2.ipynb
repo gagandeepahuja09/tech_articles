{
 "cells": [
  {
   "cell_type": "code",
   "execution_count": 2,
   "metadata": {},
   "outputs": [
    {
     "name": "stdout",
     "output_type": "stream",
     "text": [
      "Requirement already satisfied: matplotlib in /opt/homebrew/lib/python3.11/site-packages (3.8.2)\n",
      "Requirement already satisfied: contourpy>=1.0.1 in /opt/homebrew/lib/python3.11/site-packages (from matplotlib) (1.2.0)\n",
      "Requirement already satisfied: cycler>=0.10 in /opt/homebrew/lib/python3.11/site-packages (from matplotlib) (0.12.1)\n",
      "Requirement already satisfied: fonttools>=4.22.0 in /opt/homebrew/lib/python3.11/site-packages (from matplotlib) (4.47.2)\n",
      "Requirement already satisfied: kiwisolver>=1.3.1 in /opt/homebrew/lib/python3.11/site-packages (from matplotlib) (1.4.5)\n",
      "Requirement already satisfied: numpy<2,>=1.21 in /opt/homebrew/lib/python3.11/site-packages (from matplotlib) (1.26.2)\n",
      "Requirement already satisfied: packaging>=20.0 in /opt/homebrew/lib/python3.11/site-packages (from matplotlib) (23.2)\n",
      "Requirement already satisfied: pillow>=8 in /opt/homebrew/lib/python3.11/site-packages (from matplotlib) (9.5.0)\n",
      "Requirement already satisfied: pyparsing>=2.3.1 in /opt/homebrew/lib/python3.11/site-packages (from matplotlib) (3.1.1)\n",
      "Requirement already satisfied: python-dateutil>=2.7 in /opt/homebrew/lib/python3.11/site-packages (from matplotlib) (2.8.2)\n",
      "Requirement already satisfied: six>=1.5 in /opt/homebrew/lib/python3.11/site-packages (from python-dateutil>=2.7->matplotlib) (1.16.0)\n",
      "\n",
      "\u001b[1m[\u001b[0m\u001b[34;49mnotice\u001b[0m\u001b[1;39;49m]\u001b[0m\u001b[39;49m A new release of pip is available: \u001b[0m\u001b[31;49m23.2.1\u001b[0m\u001b[39;49m -> \u001b[0m\u001b[32;49m23.3.2\u001b[0m\n",
      "\u001b[1m[\u001b[0m\u001b[34;49mnotice\u001b[0m\u001b[1;39;49m]\u001b[0m\u001b[39;49m To update, run: \u001b[0m\u001b[32;49mpython3.11 -m pip install --upgrade pip\u001b[0m\n",
      "Requirement already satisfied: graphviz in /opt/homebrew/lib/python3.11/site-packages (0.20.1)\n",
      "\n",
      "\u001b[1m[\u001b[0m\u001b[34;49mnotice\u001b[0m\u001b[1;39;49m]\u001b[0m\u001b[39;49m A new release of pip is available: \u001b[0m\u001b[31;49m23.2.1\u001b[0m\u001b[39;49m -> \u001b[0m\u001b[32;49m23.3.2\u001b[0m\n",
      "\u001b[1m[\u001b[0m\u001b[34;49mnotice\u001b[0m\u001b[1;39;49m]\u001b[0m\u001b[39;49m To update, run: \u001b[0m\u001b[32;49mpython3.11 -m pip install --upgrade pip\u001b[0m\n"
     ]
    }
   ],
   "source": [
    "!pip3 install matplotlib\n",
    "!pip3 install graphviz"
   ]
  },
  {
   "cell_type": "code",
   "execution_count": 3,
   "metadata": {},
   "outputs": [],
   "source": [
    "import math\n",
    "import numpy as np\n",
    "import matplotlib.pyplot as plt\n",
    "%matplotlib inline"
   ]
  },
  {
   "cell_type": "code",
   "execution_count": 4,
   "metadata": {},
   "outputs": [],
   "source": [
    "class Value:\n",
    "\n",
    "    def __init__(self, data, _children=(), _op = '', label = '', grad = 0.0):\n",
    "        self.data = data\n",
    "        self._prev = set(_children)\n",
    "        self._op = _op\n",
    "        self.label = label\n",
    "        self.grad = grad\n",
    "        # applicable for leaf node\n",
    "        self._backward = lambda: None\n",
    "\n",
    "    def __repr__(self):\n",
    "        return f\"Value(data={self.data}, label={self.label})\"\n",
    "\n",
    "    def __pow__(self, other):\n",
    "        assert isinstance(other, (int, float)), \"only supporting int/float powers\"\n",
    "        out = Value(self.data**other, (self,), f'**{other}')\n",
    "        \n",
    "        def _backward():\n",
    "            self.grad += other * self.data**(other - 1) * out.grad\n",
    "        out._backward = _backward\n",
    "        \n",
    "        return out\n",
    "    \n",
    "    def __add__(self, other):\n",
    "        # if not an instance of value, we'll assume that it is an integer and convert\n",
    "        # it into a Value instance.\n",
    "        other = other if isinstance(other, Value) else Value(other)\n",
    "        out = Value(self.data + other.data, (self, other), '+')\n",
    "\n",
    "        def _backward():\n",
    "            self.grad += 1.0 * out.grad\n",
    "            other.grad += 1.0 * out.grad\n",
    "        out._backward = _backward\n",
    "        \n",
    "        return out\n",
    "\n",
    "    def __sub__(self, other):\n",
    "        return self + (-other)\n",
    "\n",
    "    def __neg__(self):\n",
    "        return self * -1\n",
    "    \n",
    "    def __radd__(self, other): # other + self\n",
    "        return self + other\n",
    "\n",
    "    def __rmul__(self, other):\n",
    "        return self * other\n",
    "\n",
    "    def __mul__(self, other):\n",
    "        other = other if isinstance(other, Value) else Value(other)\n",
    "        out = Value(self.data * other.data, (self, other), '*')\n",
    "        \n",
    "        def _backward():\n",
    "            self.grad += other.data * out.grad\n",
    "            other.grad += self.data * out.grad\n",
    "        out._backward = _backward\n",
    "        \n",
    "        return out\n",
    "\n",
    "    def __truediv__(self, other):\n",
    "        return self * other**-1\n",
    "\n",
    "    def tanh(self):\n",
    "        x = self.data\n",
    "        t = (math.exp(2 * x) - 1) / (math.exp(2 * x) + 1)\n",
    "        out = Value(t, (self, ), 'tanh')\n",
    "\n",
    "        def _backward():\n",
    "            self.grad += (1 - t**2) * out.grad\n",
    "        out._backward = _backward\n",
    "        \n",
    "        return out\n",
    "\n",
    "    def exp(self):\n",
    "        x = self.data\n",
    "        out = Value(math.exp(x), (self, ), 'exp')\n",
    "\n",
    "        def _backward():\n",
    "            self.grad += out.data * out.grad\n",
    "        out._backward = _backward\n",
    "        \n",
    "        return out\n",
    "\n",
    "    def backward(self):\n",
    "        self.grad = 1\n",
    "        topo = []\n",
    "        visited = set()\n",
    "\n",
    "        def build_topo(v):\n",
    "            if v not in visited:\n",
    "                visited.add(v)\n",
    "                for child in v._prev:\n",
    "                    build_topo(child)\n",
    "                topo.append(v)\n",
    "        build_topo(self)\n",
    "\n",
    "        for node in reversed(topo):\n",
    "            node._backward()"
   ]
  },
  {
   "cell_type": "code",
   "execution_count": 5,
   "metadata": {},
   "outputs": [],
   "source": [
    "from graphviz import Digraph\n",
    "\n",
    "def trace(root):\n",
    "    nodes, edges = set(), set()\n",
    "    def build(v):\n",
    "        if v not in nodes:\n",
    "            nodes.add(v)\n",
    "        for child in v._prev:\n",
    "            edges.add((child, v))\n",
    "            build(child)\n",
    "    build(root)\n",
    "    return nodes, edges\n",
    "\n",
    "def draw_dot(root):\n",
    "    dot = Digraph(format='svg', graph_attr={'rankdir': 'LR'}) # LR = Left to Right\n",
    "\n",
    "    nodes, edges = trace(root)\n",
    "    for n in nodes:\n",
    "        uid = str(id(n))\n",
    "        # for any value in the graph, create a rectangular ('record') node for it\n",
    "        dot.node(name = uid, label=\"{ %s | data %.4f | grad %.4f }\" % (n.label, n.data, n.grad), shape='record')\n",
    "        if n._op:\n",
    "            # if this value is result of some operation, create an op node for it\n",
    "            dot.node(name = uid + n._op, label = n._op)\n",
    "            # and connect this op node to the result node\n",
    "            dot.edge(uid + n._op, uid)\n",
    "\n",
    "    for n1, n2 in edges:\n",
    "        # connect n1 to the op node of n2\n",
    "        dot.edge(str(id(n1)), str(id(n2)) + n2._op)\n",
    "\n",
    "    return dot"
   ]
  },
  {
   "cell_type": "code",
   "execution_count": 6,
   "metadata": {},
   "outputs": [
    {
     "data": {
      "image/svg+xml": "<?xml version=\"1.0\" encoding=\"UTF-8\" standalone=\"no\"?>\n<!DOCTYPE svg PUBLIC \"-//W3C//DTD SVG 1.1//EN\"\n \"http://www.w3.org/Graphics/SVG/1.1/DTD/svg11.dtd\">\n<!-- Generated by graphviz version 9.0.0 (20230911.1827)\n -->\n<!-- Pages: 1 -->\n<svg width=\"1589pt\" height=\"210pt\"\n viewBox=\"0.00 0.00 1589.00 210.00\" xmlns=\"http://www.w3.org/2000/svg\" xmlns:xlink=\"http://www.w3.org/1999/xlink\">\n<g id=\"graph0\" class=\"graph\" transform=\"scale(1 1) rotate(0) translate(4 206)\">\n<polygon fill=\"white\" stroke=\"none\" points=\"-4,4 -4,-206 1585,-206 1585,4 -4,4\"/>\n<!-- 4494558736 -->\n<g id=\"node1\" class=\"node\">\n<title>4494558736</title>\n<polygon fill=\"none\" stroke=\"black\" points=\"675.75,-82.5 675.75,-118.5 961.5,-118.5 961.5,-82.5 675.75,-82.5\"/>\n<text text-anchor=\"middle\" x=\"735.88\" y=\"-95.7\" font-family=\"Times,serif\" font-size=\"14.00\">x1 * w1 + x2 * w2</text>\n<polyline fill=\"none\" stroke=\"black\" points=\"796,-83 796,-118.5\"/>\n<text text-anchor=\"middle\" x=\"838.12\" y=\"-95.7\" font-family=\"Times,serif\" font-size=\"14.00\">data &#45;6.0000</text>\n<polyline fill=\"none\" stroke=\"black\" points=\"880.25,-83 880.25,-118.5\"/>\n<text text-anchor=\"middle\" x=\"920.88\" y=\"-95.7\" font-family=\"Times,serif\" font-size=\"14.00\">grad 0.5000</text>\n</g>\n<!-- 4495033808+ -->\n<g id=\"node15\" class=\"node\">\n<title>4495033808+</title>\n<ellipse fill=\"none\" stroke=\"black\" cx=\"1024.5\" cy=\"-127.5\" rx=\"27\" ry=\"18\"/>\n<text text-anchor=\"middle\" x=\"1024.5\" y=\"-122.45\" font-family=\"Times,serif\" font-size=\"14.00\">+</text>\n</g>\n<!-- 4494558736&#45;&gt;4495033808+ -->\n<g id=\"edge13\" class=\"edge\">\n<title>4494558736&#45;&gt;4495033808+</title>\n<path fill=\"none\" stroke=\"black\" d=\"M959.27,-118.99C968.92,-120.27 978.05,-121.48 986.23,-122.56\"/>\n<polygon fill=\"black\" stroke=\"black\" points=\"985.62,-126.01 995.99,-123.86 986.54,-119.07 985.62,-126.01\"/>\n</g>\n<!-- 4494558736+ -->\n<g id=\"node2\" class=\"node\">\n<title>4494558736+</title>\n<ellipse fill=\"none\" stroke=\"black\" cx=\"612.75\" cy=\"-100.5\" rx=\"27\" ry=\"18\"/>\n<text text-anchor=\"middle\" x=\"612.75\" y=\"-95.45\" font-family=\"Times,serif\" font-size=\"14.00\">+</text>\n</g>\n<!-- 4494558736+&#45;&gt;4494558736 -->\n<g id=\"edge1\" class=\"edge\">\n<title>4494558736+&#45;&gt;4494558736</title>\n<path fill=\"none\" stroke=\"black\" d=\"M639.99,-100.5C647.1,-100.5 655.33,-100.5 664.29,-100.5\"/>\n<polygon fill=\"black\" stroke=\"black\" points=\"664.02,-104 674.02,-100.5 664.02,-97 664.02,-104\"/>\n</g>\n<!-- 4495034448 -->\n<g id=\"node3\" class=\"node\">\n<title>4495034448</title>\n<polygon fill=\"none\" stroke=\"black\" points=\"324,-110.5 324,-146.5 549.75,-146.5 549.75,-110.5 324,-110.5\"/>\n<text text-anchor=\"middle\" x=\"354.12\" y=\"-123.7\" font-family=\"Times,serif\" font-size=\"14.00\">x1 * w1</text>\n<polyline fill=\"none\" stroke=\"black\" points=\"384.25,-111 384.25,-146.5\"/>\n<text text-anchor=\"middle\" x=\"426.38\" y=\"-123.7\" font-family=\"Times,serif\" font-size=\"14.00\">data &#45;6.0000</text>\n<polyline fill=\"none\" stroke=\"black\" points=\"468.5,-111 468.5,-146.5\"/>\n<text text-anchor=\"middle\" x=\"509.12\" y=\"-123.7\" font-family=\"Times,serif\" font-size=\"14.00\">grad 0.5000</text>\n</g>\n<!-- 4495034448&#45;&gt;4494558736+ -->\n<g id=\"edge6\" class=\"edge\">\n<title>4495034448&#45;&gt;4494558736+</title>\n<path fill=\"none\" stroke=\"black\" d=\"M549.96,-110.45C558.76,-109.03 567.18,-107.68 574.82,-106.45\"/>\n<polygon fill=\"black\" stroke=\"black\" points=\"575.31,-109.91 584.63,-104.87 574.2,-103 575.31,-109.91\"/>\n</g>\n<!-- 4495034448* -->\n<g id=\"node4\" class=\"node\">\n<title>4495034448*</title>\n<ellipse fill=\"none\" stroke=\"black\" cx=\"261\" cy=\"-128.5\" rx=\"27\" ry=\"18\"/>\n<text text-anchor=\"middle\" x=\"261\" y=\"-123.45\" font-family=\"Times,serif\" font-size=\"14.00\">*</text>\n</g>\n<!-- 4495034448*&#45;&gt;4495034448 -->\n<g id=\"edge2\" class=\"edge\">\n<title>4495034448*&#45;&gt;4495034448</title>\n<path fill=\"none\" stroke=\"black\" d=\"M288.41,-128.5C295.49,-128.5 303.63,-128.5 312.38,-128.5\"/>\n<polygon fill=\"black\" stroke=\"black\" points=\"312.24,-132 322.24,-128.5 312.24,-125 312.24,-132\"/>\n</g>\n<!-- 4495047312 -->\n<g id=\"node5\" class=\"node\">\n<title>4495047312</title>\n<polygon fill=\"none\" stroke=\"black\" points=\"1.5,-165.5 1.5,-201.5 196.5,-201.5 196.5,-165.5 1.5,-165.5\"/>\n<text text-anchor=\"middle\" x=\"16.25\" y=\"-178.7\" font-family=\"Times,serif\" font-size=\"14.00\">x1</text>\n<polyline fill=\"none\" stroke=\"black\" points=\"31,-166 31,-201.5\"/>\n<text text-anchor=\"middle\" x=\"70.88\" y=\"-178.7\" font-family=\"Times,serif\" font-size=\"14.00\">data 2.0000</text>\n<polyline fill=\"none\" stroke=\"black\" points=\"110.75,-166 110.75,-201.5\"/>\n<text text-anchor=\"middle\" x=\"153.62\" y=\"-178.7\" font-family=\"Times,serif\" font-size=\"14.00\">grad &#45;1.5000</text>\n</g>\n<!-- 4495047312&#45;&gt;4495034448* -->\n<g id=\"edge10\" class=\"edge\">\n<title>4495047312&#45;&gt;4495034448*</title>\n<path fill=\"none\" stroke=\"black\" d=\"M172.12,-165.01C180.9,-162.35 189.7,-159.5 198,-156.5 208.09,-152.86 218.82,-148.27 228.47,-143.88\"/>\n<polygon fill=\"black\" stroke=\"black\" points=\"229.86,-147.09 237.45,-139.69 226.9,-140.75 229.86,-147.09\"/>\n</g>\n<!-- 4495034512 -->\n<g id=\"node6\" class=\"node\">\n<title>4495034512</title>\n<polygon fill=\"none\" stroke=\"black\" points=\"726.75,-137.5 726.75,-173.5 910.5,-173.5 910.5,-137.5 726.75,-137.5\"/>\n<text text-anchor=\"middle\" x=\"738.12\" y=\"-150.7\" font-family=\"Times,serif\" font-size=\"14.00\">b</text>\n<polyline fill=\"none\" stroke=\"black\" points=\"749.5,-138 749.5,-173.5\"/>\n<text text-anchor=\"middle\" x=\"789.38\" y=\"-150.7\" font-family=\"Times,serif\" font-size=\"14.00\">data 6.8814</text>\n<polyline fill=\"none\" stroke=\"black\" points=\"829.25,-138 829.25,-173.5\"/>\n<text text-anchor=\"middle\" x=\"869.88\" y=\"-150.7\" font-family=\"Times,serif\" font-size=\"14.00\">grad 0.5000</text>\n</g>\n<!-- 4495034512&#45;&gt;4495033808+ -->\n<g id=\"edge9\" class=\"edge\">\n<title>4495034512&#45;&gt;4495033808+</title>\n<path fill=\"none\" stroke=\"black\" d=\"M910.83,-142.97C937.54,-139.31 965.25,-135.5 986.5,-132.58\"/>\n<polygon fill=\"black\" stroke=\"black\" points=\"986.97,-136.05 996.41,-131.22 986.02,-129.11 986.97,-136.05\"/>\n</g>\n<!-- 4427208912 -->\n<g id=\"node7\" class=\"node\">\n<title>4427208912</title>\n<polygon fill=\"none\" stroke=\"black\" points=\"1397.25,-109.5 1397.25,-145.5 1581,-145.5 1581,-109.5 1397.25,-109.5\"/>\n<text text-anchor=\"middle\" x=\"1408.62\" y=\"-122.7\" font-family=\"Times,serif\" font-size=\"14.00\">o</text>\n<polyline fill=\"none\" stroke=\"black\" points=\"1420,-110 1420,-145.5\"/>\n<text text-anchor=\"middle\" x=\"1459.88\" y=\"-122.7\" font-family=\"Times,serif\" font-size=\"14.00\">data 0.7071</text>\n<polyline fill=\"none\" stroke=\"black\" points=\"1499.75,-110 1499.75,-145.5\"/>\n<text text-anchor=\"middle\" x=\"1540.38\" y=\"-122.7\" font-family=\"Times,serif\" font-size=\"14.00\">grad 1.0000</text>\n</g>\n<!-- 4427208912tanh -->\n<g id=\"node8\" class=\"node\">\n<title>4427208912tanh</title>\n<ellipse fill=\"none\" stroke=\"black\" cx=\"1334.25\" cy=\"-127.5\" rx=\"27\" ry=\"18\"/>\n<text text-anchor=\"middle\" x=\"1334.25\" y=\"-122.45\" font-family=\"Times,serif\" font-size=\"14.00\">tanh</text>\n</g>\n<!-- 4427208912tanh&#45;&gt;4427208912 -->\n<g id=\"edge3\" class=\"edge\">\n<title>4427208912tanh&#45;&gt;4427208912</title>\n<path fill=\"none\" stroke=\"black\" d=\"M1361.53,-127.5C1368.67,-127.5 1376.86,-127.5 1385.57,-127.5\"/>\n<polygon fill=\"black\" stroke=\"black\" points=\"1385.31,-131 1395.31,-127.5 1385.31,-124 1385.31,-131\"/>\n</g>\n<!-- 4495034576 -->\n<g id=\"node9\" class=\"node\">\n<title>4495034576</title>\n<polygon fill=\"none\" stroke=\"black\" points=\"2.25,-55.5 2.25,-91.5 195.75,-91.5 195.75,-55.5 2.25,-55.5\"/>\n<text text-anchor=\"middle\" x=\"18.5\" y=\"-68.7\" font-family=\"Times,serif\" font-size=\"14.00\">w2</text>\n<polyline fill=\"none\" stroke=\"black\" points=\"34.75,-56 34.75,-91.5\"/>\n<text text-anchor=\"middle\" x=\"74.62\" y=\"-68.7\" font-family=\"Times,serif\" font-size=\"14.00\">data 1.0000</text>\n<polyline fill=\"none\" stroke=\"black\" points=\"114.5,-56 114.5,-91.5\"/>\n<text text-anchor=\"middle\" x=\"155.12\" y=\"-68.7\" font-family=\"Times,serif\" font-size=\"14.00\">grad 0.0000</text>\n</g>\n<!-- 4495034640* -->\n<g id=\"node11\" class=\"node\">\n<title>4495034640*</title>\n<ellipse fill=\"none\" stroke=\"black\" cx=\"261\" cy=\"-73.5\" rx=\"27\" ry=\"18\"/>\n<text text-anchor=\"middle\" x=\"261\" y=\"-68.45\" font-family=\"Times,serif\" font-size=\"14.00\">*</text>\n</g>\n<!-- 4495034576&#45;&gt;4495034640* -->\n<g id=\"edge7\" class=\"edge\">\n<title>4495034576&#45;&gt;4495034640*</title>\n<path fill=\"none\" stroke=\"black\" d=\"M195.84,-73.5C205.14,-73.5 214.15,-73.5 222.32,-73.5\"/>\n<polygon fill=\"black\" stroke=\"black\" points=\"222.13,-77 232.13,-73.5 222.13,-70 222.13,-77\"/>\n</g>\n<!-- 4495034640 -->\n<g id=\"node10\" class=\"node\">\n<title>4495034640</title>\n<polygon fill=\"none\" stroke=\"black\" points=\"326.25,-55.5 326.25,-91.5 547.5,-91.5 547.5,-55.5 326.25,-55.5\"/>\n<text text-anchor=\"middle\" x=\"356.38\" y=\"-68.7\" font-family=\"Times,serif\" font-size=\"14.00\">x2 * w2</text>\n<polyline fill=\"none\" stroke=\"black\" points=\"386.5,-56 386.5,-91.5\"/>\n<text text-anchor=\"middle\" x=\"426.38\" y=\"-68.7\" font-family=\"Times,serif\" font-size=\"14.00\">data 0.0000</text>\n<polyline fill=\"none\" stroke=\"black\" points=\"466.25,-56 466.25,-91.5\"/>\n<text text-anchor=\"middle\" x=\"506.88\" y=\"-68.7\" font-family=\"Times,serif\" font-size=\"14.00\">grad 0.5000</text>\n</g>\n<!-- 4495034640&#45;&gt;4494558736+ -->\n<g id=\"edge11\" class=\"edge\">\n<title>4495034640&#45;&gt;4494558736+</title>\n<path fill=\"none\" stroke=\"black\" d=\"M547.99,-90.6C557.5,-92.08 566.61,-93.49 574.82,-94.77\"/>\n<polygon fill=\"black\" stroke=\"black\" points=\"574.23,-98.22 584.65,-96.29 575.3,-91.3 574.23,-98.22\"/>\n</g>\n<!-- 4495034640*&#45;&gt;4495034640 -->\n<g id=\"edge4\" class=\"edge\">\n<title>4495034640*&#45;&gt;4495034640</title>\n<path fill=\"none\" stroke=\"black\" d=\"M288.41,-73.5C296.06,-73.5 304.94,-73.5 314.49,-73.5\"/>\n<polygon fill=\"black\" stroke=\"black\" points=\"314.46,-77 324.46,-73.5 314.46,-70 314.46,-77\"/>\n</g>\n<!-- 4495038224 -->\n<g id=\"node12\" class=\"node\">\n<title>4495038224</title>\n<polygon fill=\"none\" stroke=\"black\" points=\"0,-110.5 0,-146.5 198,-146.5 198,-110.5 0,-110.5\"/>\n<text text-anchor=\"middle\" x=\"16.25\" y=\"-123.7\" font-family=\"Times,serif\" font-size=\"14.00\">w1</text>\n<polyline fill=\"none\" stroke=\"black\" points=\"32.5,-111 32.5,-146.5\"/>\n<text text-anchor=\"middle\" x=\"74.62\" y=\"-123.7\" font-family=\"Times,serif\" font-size=\"14.00\">data &#45;3.0000</text>\n<polyline fill=\"none\" stroke=\"black\" points=\"116.75,-111 116.75,-146.5\"/>\n<text text-anchor=\"middle\" x=\"157.38\" y=\"-123.7\" font-family=\"Times,serif\" font-size=\"14.00\">grad 1.0000</text>\n</g>\n<!-- 4495038224&#45;&gt;4495034448* -->\n<g id=\"edge12\" class=\"edge\">\n<title>4495038224&#45;&gt;4495034448*</title>\n<path fill=\"none\" stroke=\"black\" d=\"M198.14,-128.5C206.61,-128.5 214.8,-128.5 222.29,-128.5\"/>\n<polygon fill=\"black\" stroke=\"black\" points=\"222.29,-132 232.29,-128.5 222.29,-125 222.29,-132\"/>\n</g>\n<!-- 4495037840 -->\n<g id=\"node13\" class=\"node\">\n<title>4495037840</title>\n<polygon fill=\"none\" stroke=\"black\" points=\"3.75,-0.5 3.75,-36.5 194.25,-36.5 194.25,-0.5 3.75,-0.5\"/>\n<text text-anchor=\"middle\" x=\"18.5\" y=\"-13.7\" font-family=\"Times,serif\" font-size=\"14.00\">x2</text>\n<polyline fill=\"none\" stroke=\"black\" points=\"33.25,-1 33.25,-36.5\"/>\n<text text-anchor=\"middle\" x=\"73.12\" y=\"-13.7\" font-family=\"Times,serif\" font-size=\"14.00\">data 0.0000</text>\n<polyline fill=\"none\" stroke=\"black\" points=\"113,-1 113,-36.5\"/>\n<text text-anchor=\"middle\" x=\"153.62\" y=\"-13.7\" font-family=\"Times,serif\" font-size=\"14.00\">grad 0.5000</text>\n</g>\n<!-- 4495037840&#45;&gt;4495034640* -->\n<g id=\"edge14\" class=\"edge\">\n<title>4495037840&#45;&gt;4495034640*</title>\n<path fill=\"none\" stroke=\"black\" d=\"M168.91,-36.94C178.74,-39.93 188.67,-43.15 198,-46.5 207.96,-50.07 218.58,-54.47 228.18,-58.68\"/>\n<polygon fill=\"black\" stroke=\"black\" points=\"226.54,-61.78 237.1,-62.67 229.4,-55.39 226.54,-61.78\"/>\n</g>\n<!-- 4495033808 -->\n<g id=\"node14\" class=\"node\">\n<title>4495033808</title>\n<polygon fill=\"none\" stroke=\"black\" points=\"1087.5,-109.5 1087.5,-145.5 1271.25,-145.5 1271.25,-109.5 1087.5,-109.5\"/>\n<text text-anchor=\"middle\" x=\"1098.88\" y=\"-122.7\" font-family=\"Times,serif\" font-size=\"14.00\">n</text>\n<polyline fill=\"none\" stroke=\"black\" points=\"1110.25,-110 1110.25,-145.5\"/>\n<text text-anchor=\"middle\" x=\"1150.12\" y=\"-122.7\" font-family=\"Times,serif\" font-size=\"14.00\">data 0.8814</text>\n<polyline fill=\"none\" stroke=\"black\" points=\"1190,-110 1190,-145.5\"/>\n<text text-anchor=\"middle\" x=\"1230.62\" y=\"-122.7\" font-family=\"Times,serif\" font-size=\"14.00\">grad 0.5000</text>\n</g>\n<!-- 4495033808&#45;&gt;4427208912tanh -->\n<g id=\"edge8\" class=\"edge\">\n<title>4495033808&#45;&gt;4427208912tanh</title>\n<path fill=\"none\" stroke=\"black\" d=\"M1271.51,-127.5C1279.89,-127.5 1288.02,-127.5 1295.48,-127.5\"/>\n<polygon fill=\"black\" stroke=\"black\" points=\"1295.45,-131 1305.45,-127.5 1295.45,-124 1295.45,-131\"/>\n</g>\n<!-- 4495033808+&#45;&gt;4495033808 -->\n<g id=\"edge5\" class=\"edge\">\n<title>4495033808+&#45;&gt;4495033808</title>\n<path fill=\"none\" stroke=\"black\" d=\"M1051.78,-127.5C1058.92,-127.5 1067.11,-127.5 1075.82,-127.5\"/>\n<polygon fill=\"black\" stroke=\"black\" points=\"1075.56,-131 1085.56,-127.5 1075.56,-124 1075.56,-131\"/>\n</g>\n</g>\n</svg>\n",
      "text/plain": [
       "<graphviz.graphs.Digraph at 0x10becc650>"
      ]
     },
     "execution_count": 6,
     "metadata": {},
     "output_type": "execute_result"
    }
   ],
   "source": [
    "# inputs x1, x2\n",
    "x1 = Value(2.0, label='x1')\n",
    "x2 = Value(0.0, label='x2')\n",
    "# weights (synaptic strength of each input)\n",
    "w1 = Value(-3.0, label='w1')\n",
    "w2 = Value(1.0, label='w2')\n",
    "b = Value(6.8813735870195432, label='b')\n",
    "x1w1 = x1 * w1; x1w1.label = 'x1 * w1'\n",
    "x2w2 = x2 * w2; x2w2.label = 'x2 * w2'\n",
    "x1w1x2w2 = x1w1 + x2w2; x1w1x2w2.label = 'x1 * w1 + x2 * w2'\n",
    "n = x1w1x2w2 + b; n.label = 'n'\n",
    "o = n.tanh(); o.label = 'o'\n",
    "o.backward()\n",
    "draw_dot(o)"
   ]
  },
  {
   "cell_type": "code",
   "execution_count": 7,
   "metadata": {},
   "outputs": [
    {
     "data": {
      "image/svg+xml": "<?xml version=\"1.0\" encoding=\"UTF-8\" standalone=\"no\"?>\n<!DOCTYPE svg PUBLIC \"-//W3C//DTD SVG 1.1//EN\"\n \"http://www.w3.org/Graphics/SVG/1.1/DTD/svg11.dtd\">\n<!-- Generated by graphviz version 9.0.0 (20230911.1827)\n -->\n<!-- Pages: 1 -->\n<svg width=\"2952pt\" height=\"236pt\"\n viewBox=\"0.00 0.00 2951.75 236.00\" xmlns=\"http://www.w3.org/2000/svg\" xmlns:xlink=\"http://www.w3.org/1999/xlink\">\n<g id=\"graph0\" class=\"graph\" transform=\"scale(1 1) rotate(0) translate(4 232)\">\n<polygon fill=\"white\" stroke=\"none\" points=\"-4,4 -4,-232 2947.75,-232 2947.75,4 -4,4\"/>\n<!-- 4495000976 -->\n<g id=\"node1\" class=\"node\">\n<title>4495000976</title>\n<polygon fill=\"none\" stroke=\"black\" points=\"324,-55.5 324,-91.5 549.75,-91.5 549.75,-55.5 324,-55.5\"/>\n<text text-anchor=\"middle\" x=\"354.12\" y=\"-68.7\" font-family=\"Times,serif\" font-size=\"14.00\">x1 * w1</text>\n<polyline fill=\"none\" stroke=\"black\" points=\"384.25,-56 384.25,-91.5\"/>\n<text text-anchor=\"middle\" x=\"426.38\" y=\"-68.7\" font-family=\"Times,serif\" font-size=\"14.00\">data &#45;6.0000</text>\n<polyline fill=\"none\" stroke=\"black\" points=\"468.5,-56 468.5,-91.5\"/>\n<text text-anchor=\"middle\" x=\"509.12\" y=\"-68.7\" font-family=\"Times,serif\" font-size=\"14.00\">grad 0.5000</text>\n</g>\n<!-- 4495000720+ -->\n<g id=\"node12\" class=\"node\">\n<title>4495000720+</title>\n<ellipse fill=\"none\" stroke=\"black\" cx=\"612.75\" cy=\"-100.5\" rx=\"27\" ry=\"18\"/>\n<text text-anchor=\"middle\" x=\"612.75\" y=\"-95.45\" font-family=\"Times,serif\" font-size=\"14.00\">+</text>\n</g>\n<!-- 4495000976&#45;&gt;4495000720+ -->\n<g id=\"edge14\" class=\"edge\">\n<title>4495000976&#45;&gt;4495000720+</title>\n<path fill=\"none\" stroke=\"black\" d=\"M549.96,-90.9C558.76,-92.27 567.18,-93.58 574.82,-94.76\"/>\n<polygon fill=\"black\" stroke=\"black\" points=\"574.21,-98.21 584.63,-96.29 575.28,-91.3 574.21,-98.21\"/>\n</g>\n<!-- 4495000976* -->\n<g id=\"node2\" class=\"node\">\n<title>4495000976*</title>\n<ellipse fill=\"none\" stroke=\"black\" cx=\"261\" cy=\"-73.5\" rx=\"27\" ry=\"18\"/>\n<text text-anchor=\"middle\" x=\"261\" y=\"-68.45\" font-family=\"Times,serif\" font-size=\"14.00\">*</text>\n</g>\n<!-- 4495000976*&#45;&gt;4495000976 -->\n<g id=\"edge1\" class=\"edge\">\n<title>4495000976*&#45;&gt;4495000976</title>\n<path fill=\"none\" stroke=\"black\" d=\"M288.41,-73.5C295.49,-73.5 303.63,-73.5 312.38,-73.5\"/>\n<polygon fill=\"black\" stroke=\"black\" points=\"312.24,-77 322.24,-73.5 312.24,-70 312.24,-77\"/>\n</g>\n<!-- 4495001104 -->\n<g id=\"node3\" class=\"node\">\n<title>4495001104</title>\n<polygon fill=\"none\" stroke=\"black\" points=\"726.75,-137.5 726.75,-173.5 910.5,-173.5 910.5,-137.5 726.75,-137.5\"/>\n<text text-anchor=\"middle\" x=\"738.12\" y=\"-150.7\" font-family=\"Times,serif\" font-size=\"14.00\">b</text>\n<polyline fill=\"none\" stroke=\"black\" points=\"749.5,-138 749.5,-173.5\"/>\n<text text-anchor=\"middle\" x=\"789.38\" y=\"-150.7\" font-family=\"Times,serif\" font-size=\"14.00\">data 6.8814</text>\n<polyline fill=\"none\" stroke=\"black\" points=\"829.25,-138 829.25,-173.5\"/>\n<text text-anchor=\"middle\" x=\"869.88\" y=\"-150.7\" font-family=\"Times,serif\" font-size=\"14.00\">grad 0.5000</text>\n</g>\n<!-- 4495000656+ -->\n<g id=\"node7\" class=\"node\">\n<title>4495000656+</title>\n<ellipse fill=\"none\" stroke=\"black\" cx=\"1024.5\" cy=\"-127.5\" rx=\"27\" ry=\"18\"/>\n<text text-anchor=\"middle\" x=\"1024.5\" y=\"-122.45\" font-family=\"Times,serif\" font-size=\"14.00\">+</text>\n</g>\n<!-- 4495001104&#45;&gt;4495000656+ -->\n<g id=\"edge16\" class=\"edge\">\n<title>4495001104&#45;&gt;4495000656+</title>\n<path fill=\"none\" stroke=\"black\" d=\"M910.83,-142.97C937.54,-139.31 965.25,-135.5 986.5,-132.58\"/>\n<polygon fill=\"black\" stroke=\"black\" points=\"986.97,-136.05 996.41,-131.22 986.02,-129.11 986.97,-136.05\"/>\n</g>\n<!-- 4495000592 -->\n<g id=\"node4\" class=\"node\">\n<title>4495000592</title>\n<polygon fill=\"none\" stroke=\"black\" points=\"2015.25,-108.5 2015.25,-144.5 2200.5,-144.5 2200.5,-108.5 2015.25,-108.5\"/>\n<text text-anchor=\"middle\" x=\"2025.12\" y=\"-121.7\" font-family=\"Times,serif\" font-size=\"14.00\"> </text>\n<polyline fill=\"none\" stroke=\"black\" points=\"2035,-109 2035,-144.5\"/>\n<text text-anchor=\"middle\" x=\"2074.88\" y=\"-121.7\" font-family=\"Times,serif\" font-size=\"14.00\">data 6.8284</text>\n<polyline fill=\"none\" stroke=\"black\" points=\"2114.75,-109 2114.75,-144.5\"/>\n<text text-anchor=\"middle\" x=\"2157.62\" y=\"-121.7\" font-family=\"Times,serif\" font-size=\"14.00\">grad &#45;0.1036</text>\n</g>\n<!-- 4494999952**&#45;1 -->\n<g id=\"node28\" class=\"node\">\n<title>4494999952**&#45;1</title>\n<ellipse fill=\"none\" stroke=\"black\" cx=\"2326.88\" cy=\"-126.5\" rx=\"27.81\" ry=\"18\"/>\n<text text-anchor=\"middle\" x=\"2326.88\" y=\"-121.45\" font-family=\"Times,serif\" font-size=\"14.00\">**&#45;1</text>\n</g>\n<!-- 4495000592&#45;&gt;4494999952**&#45;1 -->\n<g id=\"edge27\" class=\"edge\">\n<title>4495000592&#45;&gt;4494999952**&#45;1</title>\n<path fill=\"none\" stroke=\"black\" d=\"M2200.9,-126.5C2231.14,-126.5 2263.13,-126.5 2287.17,-126.5\"/>\n<polygon fill=\"black\" stroke=\"black\" points=\"2287.12,-130 2297.12,-126.5 2287.12,-123 2287.12,-130\"/>\n</g>\n<!-- 4495000592+ -->\n<g id=\"node5\" class=\"node\">\n<title>4495000592+</title>\n<ellipse fill=\"none\" stroke=\"black\" cx=\"1952.25\" cy=\"-126.5\" rx=\"27\" ry=\"18\"/>\n<text text-anchor=\"middle\" x=\"1952.25\" y=\"-121.45\" font-family=\"Times,serif\" font-size=\"14.00\">+</text>\n</g>\n<!-- 4495000592+&#45;&gt;4495000592 -->\n<g id=\"edge2\" class=\"edge\">\n<title>4495000592+&#45;&gt;4495000592</title>\n<path fill=\"none\" stroke=\"black\" d=\"M1979.66,-126.5C1986.7,-126.5 1994.75,-126.5 2003.3,-126.5\"/>\n<polygon fill=\"black\" stroke=\"black\" points=\"2003.29,-130 2013.29,-126.5 2003.29,-123 2003.29,-130\"/>\n</g>\n<!-- 4495000656 -->\n<g id=\"node6\" class=\"node\">\n<title>4495000656</title>\n<polygon fill=\"none\" stroke=\"black\" points=\"1087.5,-109.5 1087.5,-145.5 1271.25,-145.5 1271.25,-109.5 1087.5,-109.5\"/>\n<text text-anchor=\"middle\" x=\"1098.88\" y=\"-122.7\" font-family=\"Times,serif\" font-size=\"14.00\">n</text>\n<polyline fill=\"none\" stroke=\"black\" points=\"1110.25,-110 1110.25,-145.5\"/>\n<text text-anchor=\"middle\" x=\"1150.12\" y=\"-122.7\" font-family=\"Times,serif\" font-size=\"14.00\">data 0.8814</text>\n<polyline fill=\"none\" stroke=\"black\" points=\"1190,-110 1190,-145.5\"/>\n<text text-anchor=\"middle\" x=\"1230.62\" y=\"-122.7\" font-family=\"Times,serif\" font-size=\"14.00\">grad 0.5000</text>\n</g>\n<!-- 4495000464* -->\n<g id=\"node24\" class=\"node\">\n<title>4495000464*</title>\n<ellipse fill=\"none\" stroke=\"black\" cx=\"1334.25\" cy=\"-154.5\" rx=\"27\" ry=\"18\"/>\n<text text-anchor=\"middle\" x=\"1334.25\" y=\"-149.45\" font-family=\"Times,serif\" font-size=\"14.00\">*</text>\n</g>\n<!-- 4495000656&#45;&gt;4495000464* -->\n<g id=\"edge28\" class=\"edge\">\n<title>4495000656&#45;&gt;4495000464*</title>\n<path fill=\"none\" stroke=\"black\" d=\"M1271.51,-143.6C1280.34,-145.16 1288.9,-146.67 1296.69,-148.04\"/>\n<polygon fill=\"black\" stroke=\"black\" points=\"1295.92,-151.46 1306.38,-149.75 1297.14,-144.57 1295.92,-151.46\"/>\n</g>\n<!-- 4495000656+&#45;&gt;4495000656 -->\n<g id=\"edge3\" class=\"edge\">\n<title>4495000656+&#45;&gt;4495000656</title>\n<path fill=\"none\" stroke=\"black\" d=\"M1051.78,-127.5C1058.92,-127.5 1067.11,-127.5 1075.82,-127.5\"/>\n<polygon fill=\"black\" stroke=\"black\" points=\"1075.56,-131 1085.56,-127.5 1075.56,-124 1075.56,-131\"/>\n</g>\n<!-- 4495011920 -->\n<g id=\"node8\" class=\"node\">\n<title>4495011920</title>\n<polygon fill=\"none\" stroke=\"black\" points=\"1.5,-55.5 1.5,-91.5 196.5,-91.5 196.5,-55.5 1.5,-55.5\"/>\n<text text-anchor=\"middle\" x=\"16.25\" y=\"-68.7\" font-family=\"Times,serif\" font-size=\"14.00\">x1</text>\n<polyline fill=\"none\" stroke=\"black\" points=\"31,-56 31,-91.5\"/>\n<text text-anchor=\"middle\" x=\"70.88\" y=\"-68.7\" font-family=\"Times,serif\" font-size=\"14.00\">data 2.0000</text>\n<polyline fill=\"none\" stroke=\"black\" points=\"110.75,-56 110.75,-91.5\"/>\n<text text-anchor=\"middle\" x=\"153.62\" y=\"-68.7\" font-family=\"Times,serif\" font-size=\"14.00\">grad &#45;1.5000</text>\n</g>\n<!-- 4495011920&#45;&gt;4495000976* -->\n<g id=\"edge13\" class=\"edge\">\n<title>4495011920&#45;&gt;4495000976*</title>\n<path fill=\"none\" stroke=\"black\" d=\"M196.76,-73.5C205.77,-73.5 214.47,-73.5 222.4,-73.5\"/>\n<polygon fill=\"black\" stroke=\"black\" points=\"222.25,-77 232.25,-73.5 222.25,-70 222.25,-77\"/>\n</g>\n<!-- 4495000144 -->\n<g id=\"node9\" class=\"node\">\n<title>4495000144</title>\n<polygon fill=\"none\" stroke=\"black\" points=\"1704,-81.5 1704,-117.5 1889.25,-117.5 1889.25,-81.5 1704,-81.5\"/>\n<text text-anchor=\"middle\" x=\"1713.88\" y=\"-94.7\" font-family=\"Times,serif\" font-size=\"14.00\"> </text>\n<polyline fill=\"none\" stroke=\"black\" points=\"1723.75,-82 1723.75,-117.5\"/>\n<text text-anchor=\"middle\" x=\"1763.62\" y=\"-94.7\" font-family=\"Times,serif\" font-size=\"14.00\">data 1.0000</text>\n<polyline fill=\"none\" stroke=\"black\" points=\"1803.5,-82 1803.5,-117.5\"/>\n<text text-anchor=\"middle\" x=\"1846.38\" y=\"-94.7\" font-family=\"Times,serif\" font-size=\"14.00\">grad &#45;0.1036</text>\n</g>\n<!-- 4495000144&#45;&gt;4495000592+ -->\n<g id=\"edge26\" class=\"edge\">\n<title>4495000144&#45;&gt;4495000592+</title>\n<path fill=\"none\" stroke=\"black\" d=\"M1889.65,-115.67C1898.39,-117.21 1906.86,-118.7 1914.58,-120.05\"/>\n<polygon fill=\"black\" stroke=\"black\" points=\"1913.7,-123.45 1924.16,-121.74 1914.91,-116.56 1913.7,-123.45\"/>\n</g>\n<!-- 4495000208 -->\n<g id=\"node10\" class=\"node\">\n<title>4495000208</title>\n<polygon fill=\"none\" stroke=\"black\" points=\"1704,-191.5 1704,-227.5 1889.25,-227.5 1889.25,-191.5 1704,-191.5\"/>\n<text text-anchor=\"middle\" x=\"1713.88\" y=\"-204.7\" font-family=\"Times,serif\" font-size=\"14.00\"> </text>\n<polyline fill=\"none\" stroke=\"black\" points=\"1723.75,-192 1723.75,-227.5\"/>\n<text text-anchor=\"middle\" x=\"1765.88\" y=\"-204.7\" font-family=\"Times,serif\" font-size=\"14.00\">data &#45;1.0000</text>\n<polyline fill=\"none\" stroke=\"black\" points=\"1808,-192 1808,-227.5\"/>\n<text text-anchor=\"middle\" x=\"1848.62\" y=\"-204.7\" font-family=\"Times,serif\" font-size=\"14.00\">grad 0.1464</text>\n</g>\n<!-- 4495000336+ -->\n<g id=\"node18\" class=\"node\">\n<title>4495000336+</title>\n<ellipse fill=\"none\" stroke=\"black\" cx=\"1952.25\" cy=\"-181.5\" rx=\"27\" ry=\"18\"/>\n<text text-anchor=\"middle\" x=\"1952.25\" y=\"-176.45\" font-family=\"Times,serif\" font-size=\"14.00\">+</text>\n</g>\n<!-- 4495000208&#45;&gt;4495000336+ -->\n<g id=\"edge15\" class=\"edge\">\n<title>4495000208&#45;&gt;4495000336+</title>\n<path fill=\"none\" stroke=\"black\" d=\"M1889.65,-192.73C1898.39,-191.13 1906.86,-189.59 1914.58,-188.18\"/>\n<polygon fill=\"black\" stroke=\"black\" points=\"1914.95,-191.67 1924.16,-186.44 1913.69,-184.79 1914.95,-191.67\"/>\n</g>\n<!-- 4495000720 -->\n<g id=\"node11\" class=\"node\">\n<title>4495000720</title>\n<polygon fill=\"none\" stroke=\"black\" points=\"675.75,-82.5 675.75,-118.5 961.5,-118.5 961.5,-82.5 675.75,-82.5\"/>\n<text text-anchor=\"middle\" x=\"735.88\" y=\"-95.7\" font-family=\"Times,serif\" font-size=\"14.00\">x1 * w1 + x2 * w2</text>\n<polyline fill=\"none\" stroke=\"black\" points=\"796,-83 796,-118.5\"/>\n<text text-anchor=\"middle\" x=\"838.12\" y=\"-95.7\" font-family=\"Times,serif\" font-size=\"14.00\">data &#45;6.0000</text>\n<polyline fill=\"none\" stroke=\"black\" points=\"880.25,-83 880.25,-118.5\"/>\n<text text-anchor=\"middle\" x=\"920.88\" y=\"-95.7\" font-family=\"Times,serif\" font-size=\"14.00\">grad 0.5000</text>\n</g>\n<!-- 4495000720&#45;&gt;4495000656+ -->\n<g id=\"edge22\" class=\"edge\">\n<title>4495000720&#45;&gt;4495000656+</title>\n<path fill=\"none\" stroke=\"black\" d=\"M959.27,-118.99C968.92,-120.27 978.05,-121.48 986.23,-122.56\"/>\n<polygon fill=\"black\" stroke=\"black\" points=\"985.62,-126.01 995.99,-123.86 986.54,-119.07 985.62,-126.01\"/>\n</g>\n<!-- 4495000720+&#45;&gt;4495000720 -->\n<g id=\"edge4\" class=\"edge\">\n<title>4495000720+&#45;&gt;4495000720</title>\n<path fill=\"none\" stroke=\"black\" d=\"M639.99,-100.5C647.1,-100.5 655.33,-100.5 664.29,-100.5\"/>\n<polygon fill=\"black\" stroke=\"black\" points=\"664.02,-104 674.02,-100.5 664.02,-97 664.02,-104\"/>\n</g>\n<!-- 4495001744 -->\n<g id=\"node13\" class=\"node\">\n<title>4495001744</title>\n<polygon fill=\"none\" stroke=\"black\" points=\"3.75,-165.5 3.75,-201.5 194.25,-201.5 194.25,-165.5 3.75,-165.5\"/>\n<text text-anchor=\"middle\" x=\"18.5\" y=\"-178.7\" font-family=\"Times,serif\" font-size=\"14.00\">x2</text>\n<polyline fill=\"none\" stroke=\"black\" points=\"33.25,-166 33.25,-201.5\"/>\n<text text-anchor=\"middle\" x=\"73.12\" y=\"-178.7\" font-family=\"Times,serif\" font-size=\"14.00\">data 0.0000</text>\n<polyline fill=\"none\" stroke=\"black\" points=\"113,-166 113,-201.5\"/>\n<text text-anchor=\"middle\" x=\"153.62\" y=\"-178.7\" font-family=\"Times,serif\" font-size=\"14.00\">grad 0.5000</text>\n</g>\n<!-- 4495000848* -->\n<g id=\"node20\" class=\"node\">\n<title>4495000848*</title>\n<ellipse fill=\"none\" stroke=\"black\" cx=\"261\" cy=\"-128.5\" rx=\"27\" ry=\"18\"/>\n<text text-anchor=\"middle\" x=\"261\" y=\"-123.45\" font-family=\"Times,serif\" font-size=\"14.00\">*</text>\n</g>\n<!-- 4495001744&#45;&gt;4495000848* -->\n<g id=\"edge23\" class=\"edge\">\n<title>4495001744&#45;&gt;4495000848*</title>\n<path fill=\"none\" stroke=\"black\" d=\"M172.12,-165.01C180.9,-162.35 189.7,-159.5 198,-156.5 208.09,-152.86 218.82,-148.27 228.47,-143.88\"/>\n<polygon fill=\"black\" stroke=\"black\" points=\"229.86,-147.09 237.45,-139.69 226.9,-140.75 229.86,-147.09\"/>\n</g>\n<!-- 4495001808 -->\n<g id=\"node14\" class=\"node\">\n<title>4495001808</title>\n<polygon fill=\"none\" stroke=\"black\" points=\"2.25,-110.5 2.25,-146.5 195.75,-146.5 195.75,-110.5 2.25,-110.5\"/>\n<text text-anchor=\"middle\" x=\"18.5\" y=\"-123.7\" font-family=\"Times,serif\" font-size=\"14.00\">w2</text>\n<polyline fill=\"none\" stroke=\"black\" points=\"34.75,-111 34.75,-146.5\"/>\n<text text-anchor=\"middle\" x=\"74.62\" y=\"-123.7\" font-family=\"Times,serif\" font-size=\"14.00\">data 1.0000</text>\n<polyline fill=\"none\" stroke=\"black\" points=\"114.5,-111 114.5,-146.5\"/>\n<text text-anchor=\"middle\" x=\"155.12\" y=\"-123.7\" font-family=\"Times,serif\" font-size=\"14.00\">grad 0.0000</text>\n</g>\n<!-- 4495001808&#45;&gt;4495000848* -->\n<g id=\"edge24\" class=\"edge\">\n<title>4495001808&#45;&gt;4495000848*</title>\n<path fill=\"none\" stroke=\"black\" d=\"M195.84,-128.5C205.14,-128.5 214.15,-128.5 222.32,-128.5\"/>\n<polygon fill=\"black\" stroke=\"black\" points=\"222.13,-132 232.13,-128.5 222.13,-125 222.13,-132\"/>\n</g>\n<!-- 4494999824 -->\n<g id=\"node15\" class=\"node\">\n<title>4494999824</title>\n<polygon fill=\"none\" stroke=\"black\" points=\"2760,-135.5 2760,-171.5 2943.75,-171.5 2943.75,-135.5 2760,-135.5\"/>\n<text text-anchor=\"middle\" x=\"2771.38\" y=\"-148.7\" font-family=\"Times,serif\" font-size=\"14.00\">o</text>\n<polyline fill=\"none\" stroke=\"black\" points=\"2782.75,-136 2782.75,-171.5\"/>\n<text text-anchor=\"middle\" x=\"2822.62\" y=\"-148.7\" font-family=\"Times,serif\" font-size=\"14.00\">data 0.7071</text>\n<polyline fill=\"none\" stroke=\"black\" points=\"2862.5,-136 2862.5,-171.5\"/>\n<text text-anchor=\"middle\" x=\"2903.12\" y=\"-148.7\" font-family=\"Times,serif\" font-size=\"14.00\">grad 1.0000</text>\n</g>\n<!-- 4494999824* -->\n<g id=\"node16\" class=\"node\">\n<title>4494999824*</title>\n<ellipse fill=\"none\" stroke=\"black\" cx=\"2697\" cy=\"-153.5\" rx=\"27\" ry=\"18\"/>\n<text text-anchor=\"middle\" x=\"2697\" y=\"-148.45\" font-family=\"Times,serif\" font-size=\"14.00\">*</text>\n</g>\n<!-- 4494999824*&#45;&gt;4494999824 -->\n<g id=\"edge5\" class=\"edge\">\n<title>4494999824*&#45;&gt;4494999824</title>\n<path fill=\"none\" stroke=\"black\" d=\"M2724.28,-153.5C2731.42,-153.5 2739.61,-153.5 2748.32,-153.5\"/>\n<polygon fill=\"black\" stroke=\"black\" points=\"2748.06,-157 2758.06,-153.5 2748.06,-150 2748.06,-157\"/>\n</g>\n<!-- 4495000336 -->\n<g id=\"node17\" class=\"node\">\n<title>4495000336</title>\n<polygon fill=\"none\" stroke=\"black\" points=\"2236.5,-163.5 2236.5,-199.5 2417.25,-199.5 2417.25,-163.5 2236.5,-163.5\"/>\n<text text-anchor=\"middle\" x=\"2246.38\" y=\"-176.7\" font-family=\"Times,serif\" font-size=\"14.00\"> </text>\n<polyline fill=\"none\" stroke=\"black\" points=\"2256.25,-164 2256.25,-199.5\"/>\n<text text-anchor=\"middle\" x=\"2296.12\" y=\"-176.7\" font-family=\"Times,serif\" font-size=\"14.00\">data 4.8284</text>\n<polyline fill=\"none\" stroke=\"black\" points=\"2336,-164 2336,-199.5\"/>\n<text text-anchor=\"middle\" x=\"2376.62\" y=\"-176.7\" font-family=\"Times,serif\" font-size=\"14.00\">grad 0.1464</text>\n</g>\n<!-- 4495000336&#45;&gt;4494999824* -->\n<g id=\"edge21\" class=\"edge\">\n<title>4495000336&#45;&gt;4494999824*</title>\n<path fill=\"none\" stroke=\"black\" d=\"M2417.63,-174.89C2478.65,-170.36 2561.2,-164.17 2634,-158.5 2641.88,-157.89 2650.33,-157.21 2658.37,-156.57\"/>\n<polygon fill=\"black\" stroke=\"black\" points=\"2658.56,-160.06 2668.25,-155.77 2658,-153.09 2658.56,-160.06\"/>\n</g>\n<!-- 4495000336+&#45;&gt;4495000336 -->\n<g id=\"edge6\" class=\"edge\">\n<title>4495000336+&#45;&gt;4495000336</title>\n<path fill=\"none\" stroke=\"black\" d=\"M1979.75,-181.5C2030.01,-181.5 2141.57,-181.5 2224.53,-181.5\"/>\n<polygon fill=\"black\" stroke=\"black\" points=\"2224.52,-185 2234.52,-181.5 2224.52,-178 2224.52,-185\"/>\n</g>\n<!-- 4495000848 -->\n<g id=\"node19\" class=\"node\">\n<title>4495000848</title>\n<polygon fill=\"none\" stroke=\"black\" points=\"326.25,-110.5 326.25,-146.5 547.5,-146.5 547.5,-110.5 326.25,-110.5\"/>\n<text text-anchor=\"middle\" x=\"356.38\" y=\"-123.7\" font-family=\"Times,serif\" font-size=\"14.00\">x2 * w2</text>\n<polyline fill=\"none\" stroke=\"black\" points=\"386.5,-111 386.5,-146.5\"/>\n<text text-anchor=\"middle\" x=\"426.38\" y=\"-123.7\" font-family=\"Times,serif\" font-size=\"14.00\">data 0.0000</text>\n<polyline fill=\"none\" stroke=\"black\" points=\"466.25,-111 466.25,-146.5\"/>\n<text text-anchor=\"middle\" x=\"506.88\" y=\"-123.7\" font-family=\"Times,serif\" font-size=\"14.00\">grad 0.5000</text>\n</g>\n<!-- 4495000848&#45;&gt;4495000720+ -->\n<g id=\"edge11\" class=\"edge\">\n<title>4495000848&#45;&gt;4495000720+</title>\n<path fill=\"none\" stroke=\"black\" d=\"M547.99,-110.77C557.5,-109.24 566.61,-107.77 574.82,-106.45\"/>\n<polygon fill=\"black\" stroke=\"black\" points=\"575.33,-109.91 584.65,-104.86 574.22,-103 575.33,-109.91\"/>\n</g>\n<!-- 4495000848*&#45;&gt;4495000848 -->\n<g id=\"edge7\" class=\"edge\">\n<title>4495000848*&#45;&gt;4495000848</title>\n<path fill=\"none\" stroke=\"black\" d=\"M288.41,-128.5C296.06,-128.5 304.94,-128.5 314.49,-128.5\"/>\n<polygon fill=\"black\" stroke=\"black\" points=\"314.46,-132 324.46,-128.5 314.46,-125 314.46,-132\"/>\n</g>\n<!-- 4495000528 -->\n<g id=\"node21\" class=\"node\">\n<title>4495000528</title>\n<polygon fill=\"none\" stroke=\"black\" points=\"0,-0.5 0,-36.5 198,-36.5 198,-0.5 0,-0.5\"/>\n<text text-anchor=\"middle\" x=\"16.25\" y=\"-13.7\" font-family=\"Times,serif\" font-size=\"14.00\">w1</text>\n<polyline fill=\"none\" stroke=\"black\" points=\"32.5,-1 32.5,-36.5\"/>\n<text text-anchor=\"middle\" x=\"74.62\" y=\"-13.7\" font-family=\"Times,serif\" font-size=\"14.00\">data &#45;3.0000</text>\n<polyline fill=\"none\" stroke=\"black\" points=\"116.75,-1 116.75,-36.5\"/>\n<text text-anchor=\"middle\" x=\"157.38\" y=\"-13.7\" font-family=\"Times,serif\" font-size=\"14.00\">grad 1.0000</text>\n</g>\n<!-- 4495000528&#45;&gt;4495000976* -->\n<g id=\"edge12\" class=\"edge\">\n<title>4495000528&#45;&gt;4495000976*</title>\n<path fill=\"none\" stroke=\"black\" d=\"M172.12,-36.99C180.9,-39.65 189.7,-42.5 198,-45.5 208.09,-49.14 218.82,-53.73 228.47,-58.12\"/>\n<polygon fill=\"black\" stroke=\"black\" points=\"226.9,-61.25 237.45,-62.31 229.86,-54.91 226.9,-61.25\"/>\n</g>\n<!-- 4495010128 -->\n<g id=\"node22\" class=\"node\">\n<title>4495010128</title>\n<polygon fill=\"none\" stroke=\"black\" points=\"1089,-164.5 1089,-200.5 1269.75,-200.5 1269.75,-164.5 1089,-164.5\"/>\n<text text-anchor=\"middle\" x=\"1098.88\" y=\"-177.7\" font-family=\"Times,serif\" font-size=\"14.00\"> </text>\n<polyline fill=\"none\" stroke=\"black\" points=\"1108.75,-165 1108.75,-200.5\"/>\n<text text-anchor=\"middle\" x=\"1148.62\" y=\"-177.7\" font-family=\"Times,serif\" font-size=\"14.00\">data 2.0000</text>\n<polyline fill=\"none\" stroke=\"black\" points=\"1188.5,-165 1188.5,-200.5\"/>\n<text text-anchor=\"middle\" x=\"1229.12\" y=\"-177.7\" font-family=\"Times,serif\" font-size=\"14.00\">grad 0.2203</text>\n</g>\n<!-- 4495010128&#45;&gt;4495000464* -->\n<g id=\"edge18\" class=\"edge\">\n<title>4495010128&#45;&gt;4495000464*</title>\n<path fill=\"none\" stroke=\"black\" d=\"M1270.19,-166.05C1279.44,-164.35 1288.43,-162.71 1296.58,-161.22\"/>\n<polygon fill=\"black\" stroke=\"black\" points=\"1297.17,-164.67 1306.37,-159.42 1295.91,-157.78 1297.17,-164.67\"/>\n</g>\n<!-- 4495000464 -->\n<g id=\"node23\" class=\"node\">\n<title>4495000464</title>\n<polygon fill=\"none\" stroke=\"black\" points=\"1397.25,-136.5 1397.25,-172.5 1578,-172.5 1578,-136.5 1397.25,-136.5\"/>\n<text text-anchor=\"middle\" x=\"1407.12\" y=\"-149.7\" font-family=\"Times,serif\" font-size=\"14.00\"> </text>\n<polyline fill=\"none\" stroke=\"black\" points=\"1417,-137 1417,-172.5\"/>\n<text text-anchor=\"middle\" x=\"1456.88\" y=\"-149.7\" font-family=\"Times,serif\" font-size=\"14.00\">data 1.7627</text>\n<polyline fill=\"none\" stroke=\"black\" points=\"1496.75,-137 1496.75,-172.5\"/>\n<text text-anchor=\"middle\" x=\"1537.38\" y=\"-149.7\" font-family=\"Times,serif\" font-size=\"14.00\">grad 0.2500</text>\n</g>\n<!-- 4495001040exp -->\n<g id=\"node26\" class=\"node\">\n<title>4495001040exp</title>\n<ellipse fill=\"none\" stroke=\"black\" cx=\"1641\" cy=\"-154.5\" rx=\"27\" ry=\"18\"/>\n<text text-anchor=\"middle\" x=\"1641\" y=\"-149.45\" font-family=\"Times,serif\" font-size=\"14.00\">exp</text>\n</g>\n<!-- 4495000464&#45;&gt;4495001040exp -->\n<g id=\"edge25\" class=\"edge\">\n<title>4495000464&#45;&gt;4495001040exp</title>\n<path fill=\"none\" stroke=\"black\" d=\"M1578.43,-154.5C1586.77,-154.5 1594.87,-154.5 1602.31,-154.5\"/>\n<polygon fill=\"black\" stroke=\"black\" points=\"1602.25,-158 1612.25,-154.5 1602.25,-151 1602.25,-158\"/>\n</g>\n<!-- 4495000464*&#45;&gt;4495000464 -->\n<g id=\"edge8\" class=\"edge\">\n<title>4495000464*&#45;&gt;4495000464</title>\n<path fill=\"none\" stroke=\"black\" d=\"M1361.62,-154.5C1368.76,-154.5 1376.95,-154.5 1385.64,-154.5\"/>\n<polygon fill=\"black\" stroke=\"black\" points=\"1385.36,-158 1395.36,-154.5 1385.36,-151 1385.36,-158\"/>\n</g>\n<!-- 4495001040 -->\n<g id=\"node25\" class=\"node\">\n<title>4495001040</title>\n<polygon fill=\"none\" stroke=\"black\" points=\"1705.12,-136.5 1705.12,-172.5 1888.12,-172.5 1888.12,-136.5 1705.12,-136.5\"/>\n<text text-anchor=\"middle\" x=\"1716.12\" y=\"-149.7\" font-family=\"Times,serif\" font-size=\"14.00\">e</text>\n<polyline fill=\"none\" stroke=\"black\" points=\"1727.12,-137 1727.12,-172.5\"/>\n<text text-anchor=\"middle\" x=\"1767\" y=\"-149.7\" font-family=\"Times,serif\" font-size=\"14.00\">data 5.8284</text>\n<polyline fill=\"none\" stroke=\"black\" points=\"1806.88,-137 1806.88,-172.5\"/>\n<text text-anchor=\"middle\" x=\"1847.5\" y=\"-149.7\" font-family=\"Times,serif\" font-size=\"14.00\">grad 0.0429</text>\n</g>\n<!-- 4495001040&#45;&gt;4495000592+ -->\n<g id=\"edge19\" class=\"edge\">\n<title>4495001040&#45;&gt;4495000592+</title>\n<path fill=\"none\" stroke=\"black\" d=\"M1888.32,-137.97C1897.57,-136.28 1906.55,-134.65 1914.69,-133.16\"/>\n<polygon fill=\"black\" stroke=\"black\" points=\"1915.24,-136.62 1924.45,-131.38 1913.98,-129.73 1915.24,-136.62\"/>\n</g>\n<!-- 4495001040&#45;&gt;4495000336+ -->\n<g id=\"edge20\" class=\"edge\">\n<title>4495001040&#45;&gt;4495000336+</title>\n<path fill=\"none\" stroke=\"black\" d=\"M1888.32,-170.44C1897.49,-172.05 1906.38,-173.61 1914.45,-175.03\"/>\n<polygon fill=\"black\" stroke=\"black\" points=\"1913.69,-178.45 1924.14,-176.74 1914.9,-171.56 1913.69,-178.45\"/>\n</g>\n<!-- 4495001040exp&#45;&gt;4495001040 -->\n<g id=\"edge9\" class=\"edge\">\n<title>4495001040exp&#45;&gt;4495001040</title>\n<path fill=\"none\" stroke=\"black\" d=\"M1668.41,-154.5C1675.85,-154.5 1684.42,-154.5 1693.52,-154.5\"/>\n<polygon fill=\"black\" stroke=\"black\" points=\"1693.34,-158 1703.34,-154.5 1693.34,-151 1693.34,-158\"/>\n</g>\n<!-- 4494999952 -->\n<g id=\"node27\" class=\"node\">\n<title>4494999952</title>\n<polygon fill=\"none\" stroke=\"black\" points=\"2453.25,-112.5 2453.25,-148.5 2634,-148.5 2634,-112.5 2453.25,-112.5\"/>\n<text text-anchor=\"middle\" x=\"2463.12\" y=\"-125.7\" font-family=\"Times,serif\" font-size=\"14.00\"> </text>\n<polyline fill=\"none\" stroke=\"black\" points=\"2473,-113 2473,-148.5\"/>\n<text text-anchor=\"middle\" x=\"2512.88\" y=\"-125.7\" font-family=\"Times,serif\" font-size=\"14.00\">data 0.1464</text>\n<polyline fill=\"none\" stroke=\"black\" points=\"2552.75,-113 2552.75,-148.5\"/>\n<text text-anchor=\"middle\" x=\"2593.38\" y=\"-125.7\" font-family=\"Times,serif\" font-size=\"14.00\">grad 4.8284</text>\n</g>\n<!-- 4494999952&#45;&gt;4494999824* -->\n<g id=\"edge17\" class=\"edge\">\n<title>4494999952&#45;&gt;4494999824*</title>\n<path fill=\"none\" stroke=\"black\" d=\"M2634.43,-144.15C2643.04,-145.45 2651.39,-146.72 2659.03,-147.88\"/>\n<polygon fill=\"black\" stroke=\"black\" points=\"2658.46,-151.34 2668.87,-149.38 2659.51,-144.41 2658.46,-151.34\"/>\n</g>\n<!-- 4494999952**&#45;1&#45;&gt;4494999952 -->\n<g id=\"edge10\" class=\"edge\">\n<title>4494999952**&#45;1&#45;&gt;4494999952</title>\n<path fill=\"none\" stroke=\"black\" d=\"M2355.07,-127.01C2377.18,-127.42 2409.83,-128.03 2441.72,-128.62\"/>\n<polygon fill=\"black\" stroke=\"black\" points=\"2441.37,-132.11 2451.43,-128.8 2441.5,-125.12 2441.37,-132.11\"/>\n</g>\n</g>\n</svg>\n",
      "text/plain": [
       "<graphviz.graphs.Digraph at 0x10bec4550>"
      ]
     },
     "execution_count": 7,
     "metadata": {},
     "output_type": "execute_result"
    }
   ],
   "source": [
    "# inputs x1, x2\n",
    "x1 = Value(2.0, label='x1')\n",
    "x2 = Value(0.0, label='x2')\n",
    "# weights (synaptic strength of each input)\n",
    "w1 = Value(-3.0, label='w1')\n",
    "w2 = Value(1.0, label='w2')\n",
    "b = Value(6.8813735870195432, label='b')\n",
    "x1w1 = x1 * w1; x1w1.label = 'x1 * w1'\n",
    "x2w2 = x2 * w2; x2w2.label = 'x2 * w2'\n",
    "x1w1x2w2 = x1w1 + x2w2; x1w1x2w2.label = 'x1 * w1 + x2 * w2'\n",
    "n = x1w1x2w2 + b; n.label = 'n'\n",
    "e = (2*n).exp(); e.label = 'e'\n",
    "o = (e - 1) / (e + 1); o.label = 'o'\n",
    "o.backward()\n",
    "draw_dot(o)"
   ]
  },
  {
   "cell_type": "code",
   "execution_count": 8,
   "metadata": {},
   "outputs": [
    {
     "data": {
      "text/plain": [
       "Value(data=-2.0, label=)"
      ]
     },
     "execution_count": 8,
     "metadata": {},
     "output_type": "execute_result"
    }
   ],
   "source": [
    "a = Value(2.0)\n",
    "a + 1\n",
    "a * 2\n",
    "2 * a # python will first try to do a * 2, if that doesn't work, it will check if a has a rmul \n",
    "# implementation (fallback)\n",
    "a.exp()\n",
    "b = Value(4.0)\n",
    "\n",
    "# a / b = a * (b**-1)s\n",
    "# a / b\n",
    "# better to build in a generic way such that result can be derived from base expressions\n",
    "a / b\n",
    "a - b"
   ]
  },
  {
   "cell_type": "markdown",
   "metadata": {},
   "source": [
    "* Amazing thing: d/dx (e^x) = e^x"
   ]
  },
  {
   "cell_type": "code",
   "execution_count": 9,
   "metadata": {},
   "outputs": [
    {
     "name": "stdout",
     "output_type": "stream",
     "text": [
      "Requirement already satisfied: torch in /opt/homebrew/lib/python3.11/site-packages (2.1.1)\n",
      "Requirement already satisfied: filelock in /opt/homebrew/lib/python3.11/site-packages (from torch) (3.13.1)\n",
      "Requirement already satisfied: typing-extensions in /opt/homebrew/lib/python3.11/site-packages (from torch) (4.5.0)\n",
      "Requirement already satisfied: sympy in /opt/homebrew/lib/python3.11/site-packages (from torch) (1.12)\n",
      "Requirement already satisfied: networkx in /opt/homebrew/lib/python3.11/site-packages (from torch) (3.2.1)\n",
      "Requirement already satisfied: jinja2 in /opt/homebrew/lib/python3.11/site-packages (from torch) (3.1.2)\n",
      "Requirement already satisfied: fsspec in /opt/homebrew/lib/python3.11/site-packages (from torch) (2023.5.0)\n",
      "Requirement already satisfied: MarkupSafe>=2.0 in /opt/homebrew/lib/python3.11/site-packages (from jinja2->torch) (2.1.2)\n",
      "Requirement already satisfied: mpmath>=0.19 in /opt/homebrew/lib/python3.11/site-packages (from sympy->torch) (1.3.0)\n",
      "\n",
      "\u001b[1m[\u001b[0m\u001b[34;49mnotice\u001b[0m\u001b[1;39;49m]\u001b[0m\u001b[39;49m A new release of pip is available: \u001b[0m\u001b[31;49m23.2.1\u001b[0m\u001b[39;49m -> \u001b[0m\u001b[32;49m23.3.2\u001b[0m\n",
      "\u001b[1m[\u001b[0m\u001b[34;49mnotice\u001b[0m\u001b[1;39;49m]\u001b[0m\u001b[39;49m To update, run: \u001b[0m\u001b[32;49mpython3.11 -m pip install --upgrade pip\u001b[0m\n"
     ]
    }
   ],
   "source": [
    "!pip3 install torch"
   ]
  },
  {
   "cell_type": "code",
   "execution_count": 10,
   "metadata": {},
   "outputs": [],
   "source": [
    "import torch"
   ]
  },
  {
   "cell_type": "code",
   "execution_count": 11,
   "metadata": {},
   "outputs": [
    {
     "name": "stdout",
     "output_type": "stream",
     "text": [
      "0.7071066904050358\n",
      "----\n",
      "tensor([2.], dtype=torch.float64, requires_grad=True) -1.5000003851533106\n",
      "tensor([0.], dtype=torch.float64, requires_grad=True) 0.5000001283844369\n",
      "tensor([-3.], dtype=torch.float64, requires_grad=True) 1.0000002567688737\n",
      "tensor([1.], dtype=torch.float64, requires_grad=True) 0.0\n"
     ]
    }
   ],
   "source": [
    "\n",
    "x1 = torch.Tensor([2.0]).double()               ; x1.requires_grad = True\n",
    "x2 = torch.Tensor([0.0]).double()               ; x2.requires_grad = True\n",
    "w1 = torch.Tensor([-3.0]).double()              ; w1.requires_grad = True\n",
    "w2 = torch.Tensor([1.0]).double()               ; w2.requires_grad = True\n",
    "b = torch.Tensor([6.8813735870195432]).double() ; b.requires_grad = True\n",
    "# leaf nodes b default have requires_grad = False for optimization reasons, so we need to set it \n",
    "# explicitly.\n",
    "n = w1*x1 + w2*x2 + b\n",
    "o = torch.tanh(n)\n",
    "\n",
    "print(o.data.item())\n",
    "o.backward()\n",
    "\n",
    "print(\"----\")\n",
    "print(x1, x1.grad.item())\n",
    "print(x2, x2.grad.item())\n",
    "print(w1, w1.grad.item())\n",
    "print(w2, w2.grad.item())"
   ]
  },
  {
   "cell_type": "markdown",
   "metadata": {},
   "source": [
    "# Neuron, Layer and MLP Class\n",
    "\n",
    "## Neuron Class\n",
    "* This class will be responsible for business logic creating random weights and bias.\n",
    "* It will take the input and then produce after applying all the weight, bias and the activation function.\n",
    "* Input of neuron ==> x ==> list of inputs\n",
    "* nin = len(x)\n",
    "* Create list w (weights) of size nin with random weights between -1 and 1.\n",
    "* Create a random bias value (b) bw -1 and 1.\n",
    "* Neuron will have a single output value of sigma(wi, xi) + b\n",
    "\n",
    "## Layer Class\n",
    "* A layer is just a collection of n neurons.\n",
    "* Each neuron will have their own random weights and bias.\n",
    "* We just need to tell the number of output neurons of a layer.\n",
    "* Implementation:\n",
    "    * Input: x, number of outputs.\n",
    "    * Create n neuron classes.\n",
    "    * Call the neuron function for each with the same input x.\n",
    "\n",
    "# MLP Class\n",
    "* A MLP is just a collection of l layers.\n",
    "* Output of ith layer is the input of (i + 1)th layer.\n",
    "* Implementation:\n",
    "    * Input: x and the output number of neurons of each layer.\n",
    "    * Example: [4, 4, 1] ==> first layer will give 4 outputs, second layer: 4 outputs, final layer: 1 output.\n",
    "    * Iteratively keeping on calling the layer function.\n",
    "    * We have x which is the input of first layer.\n",
    "        * Then we call the layer function. After which the output of this becomes x."
   ]
  },
  {
   "cell_type": "code",
   "execution_count": 27,
   "metadata": {},
   "outputs": [
    {
     "data": {
      "text/plain": [
       "Value(data=-0.06696550973670143, label=)"
      ]
     },
     "execution_count": 27,
     "metadata": {},
     "output_type": "execute_result"
    }
   ],
   "source": [
    "import random\n",
    "\n",
    "class Neuron:\n",
    "\n",
    "    def __init__(self):\n",
    "        return\n",
    "\n",
    "    # call method is used when we want to use an instance as a function\n",
    "    def __call__(self, x):\n",
    "        # sigma(wi * xi) + b\n",
    "        nin = len(x)\n",
    "        self.w = [Value(random.uniform(-1, 1)) for _ in range(nin)]\n",
    "        self.b = Value(random.uniform(-1, 1))\n",
    "        act = sum((wi * xi for wi, xi in zip(self.w, x)), start=self.b)\n",
    "        return act.tanh()\n",
    "\n",
    "\n",
    "class Layer:\n",
    "\n",
    "    def __init__(self, nout):\n",
    "        # create nout output neurons\n",
    "        # each neuron has nin input neurons\n",
    "        self.neurons = [Neuron() for _ in range(nout)]\n",
    "\n",
    "    def __call__(self, x):\n",
    "        # evaluate each of the output neurons with input values, which is x.\n",
    "        outs = [n(x) for n in self.neurons]\n",
    "        return outs\n",
    "\n",
    "class MLP:\n",
    "\n",
    "    def __init__(self, nouts):\n",
    "        self.nouts = nouts\n",
    "\n",
    "    def __call__(self, x):\n",
    "        # input of first layer is x\n",
    "        # after that we keep changing x as the output of previous layer\n",
    "        self.layers = []\n",
    "        for i in range(len(self.nouts)):\n",
    "            n = Layer(self.nouts[i])\n",
    "            self.layers.append(n)\n",
    "            output = n(x)\n",
    "            x = output\n",
    "        return x[0] if len(x) == 1 else x\n",
    "\n",
    "x = [2.0, 3.0]\n",
    "# n = Neuron()\n",
    "# n = Layer(6)\n",
    "n = MLP([4, 4, 1])\n",
    "n(x)"
   ]
  }
 ],
 "metadata": {
  "kernelspec": {
   "display_name": "Python 3.11.5 64-bit",
   "language": "python",
   "name": "python3"
  },
  "language_info": {
   "codemirror_mode": {
    "name": "ipython",
    "version": 3
   },
   "file_extension": ".py",
   "mimetype": "text/x-python",
   "name": "python",
   "nbconvert_exporter": "python",
   "pygments_lexer": "ipython3",
   "version": "3.11.5"
  },
  "orig_nbformat": 4,
  "vscode": {
   "interpreter": {
    "hash": "b0fa6594d8f4cbf19f97940f81e996739fb7646882a419484c72d19e05852a7e"
   }
  }
 },
 "nbformat": 4,
 "nbformat_minor": 2
}
