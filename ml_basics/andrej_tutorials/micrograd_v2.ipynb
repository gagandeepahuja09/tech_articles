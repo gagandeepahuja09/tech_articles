{
 "cells": [
  {
   "cell_type": "code",
   "execution_count": null,
   "metadata": {},
   "outputs": [],
   "source": [
    "!pip3 install matplotlib\n",
    "!pip3 install graphviz"
   ]
  },
  {
   "cell_type": "code",
   "execution_count": 2,
   "metadata": {},
   "outputs": [],
   "source": [
    "import math\n",
    "import numpy as np\n",
    "import matplotlib.pyplot as plt\n",
    "%matplotlib inline"
   ]
  },
  {
   "cell_type": "code",
   "execution_count": 50,
   "metadata": {},
   "outputs": [],
   "source": [
    "class Value:\n",
    "\n",
    "    def __init__(self, data, _children=(), _op = '', label = '', grad = 0.0):\n",
    "        self.data = data\n",
    "        self._prev = set(_children)\n",
    "        self._op = _op\n",
    "        self.label = label\n",
    "        self.grad = grad\n",
    "        # applicable for leaf node\n",
    "        self._backward = lambda: None\n",
    "\n",
    "    def __repr__(self):\n",
    "        return f\"Value(data={self.data}, label={self.label})\"\n",
    "\n",
    "    def __pow__(self, other):\n",
    "        assert isinstance(other, (int, float)), \"only supporting int/float powers\"\n",
    "        out = Value(self.data**other, (self,), f'**{other}')\n",
    "        \n",
    "        def _backward():\n",
    "            self.grad += other * self.data**(other - 1) * out.grad\n",
    "        out._backward = _backward\n",
    "        \n",
    "        return out\n",
    "    \n",
    "    def __add__(self, other):\n",
    "        # if not an instance of value, we'll assume that it is an integer and convert\n",
    "        # it into a Value instance.\n",
    "        other = other if isinstance(other, Value) else Value(other)\n",
    "        out = Value(self.data + other.data, (self, other), '+')\n",
    "\n",
    "        def _backward():\n",
    "            self.grad += 1.0 * out.grad\n",
    "            other.grad += 1.0 * out.grad\n",
    "        out._backward = _backward\n",
    "        \n",
    "        return out\n",
    "\n",
    "    def __sub__(self, other):\n",
    "        return self + (-other)\n",
    "\n",
    "    def __neg__(self):\n",
    "        return self * -1\n",
    "    \n",
    "    def __radd__(self, other): # other + self\n",
    "        return self + other\n",
    "\n",
    "    def __rmul__(self, other):\n",
    "        return self * other\n",
    "\n",
    "    def __mul__(self, other):\n",
    "        other = other if isinstance(other, Value) else Value(other)\n",
    "        out = Value(self.data * other.data, (self, other), '*')\n",
    "        \n",
    "        def _backward():\n",
    "            self.grad += other.data * out.grad\n",
    "            other.grad += self.data * out.grad\n",
    "        out._backward = _backward\n",
    "        \n",
    "        return out\n",
    "\n",
    "    def __truediv__(self, other):\n",
    "        return self * other**-1\n",
    "\n",
    "    def tanh(self):\n",
    "        x = self.data\n",
    "        t = (math.exp(2 * x) - 1) / (math.exp(2 * x) + 1)\n",
    "        out = Value(t, (self, ), 'tanh')\n",
    "\n",
    "        def _backward():\n",
    "            self.grad += (1 - t**2) * out.grad\n",
    "        out._backward = _backward\n",
    "        \n",
    "        return out\n",
    "\n",
    "    def exp(self):\n",
    "        x = self.data\n",
    "        out = Value(math.exp(x), (self, ), 'exp')\n",
    "\n",
    "        def _backward():\n",
    "            self.grad += out.data * out.grad\n",
    "        out._backward = _backward\n",
    "        \n",
    "        return out\n",
    "\n",
    "    def backward(self):\n",
    "        self.grad = 1\n",
    "        topo = []\n",
    "        visited = set()\n",
    "\n",
    "        def build_topo(v):\n",
    "            if v not in visited:\n",
    "                visited.add(v)\n",
    "                for child in v._prev:\n",
    "                    build_topo(child)\n",
    "                topo.append(v)\n",
    "        build_topo(self)\n",
    "\n",
    "        for node in reversed(topo):\n",
    "            node._backward()"
   ]
  },
  {
   "cell_type": "code",
   "execution_count": 4,
   "metadata": {},
   "outputs": [],
   "source": [
    "from graphviz import Digraph\n",
    "\n",
    "def trace(root):\n",
    "    nodes, edges = set(), set()\n",
    "    def build(v):\n",
    "        if v not in nodes:\n",
    "            nodes.add(v)\n",
    "        for child in v._prev:\n",
    "            edges.add((child, v))\n",
    "            build(child)\n",
    "    build(root)\n",
    "    return nodes, edges\n",
    "\n",
    "def draw_dot(root):\n",
    "    dot = Digraph(format='svg', graph_attr={'rankdir': 'LR'}) # LR = Left to Right\n",
    "\n",
    "    nodes, edges = trace(root)\n",
    "    for n in nodes:\n",
    "        uid = str(id(n))\n",
    "        # for any value in the graph, create a rectangular ('record') node for it\n",
    "        dot.node(name = uid, label=\"{ %s | data %.4f | grad %.4f }\" % (n.label, n.data, n.grad), shape='record')\n",
    "        if n._op:\n",
    "            # if this value is result of some operation, create an op node for it\n",
    "            dot.node(name = uid + n._op, label = n._op)\n",
    "            # and connect this op node to the result node\n",
    "            dot.edge(uid + n._op, uid)\n",
    "\n",
    "    for n1, n2 in edges:\n",
    "        # connect n1 to the op node of n2\n",
    "        dot.edge(str(id(n1)), str(id(n2)) + n2._op)\n",
    "\n",
    "    return dot"
   ]
  },
  {
   "cell_type": "code",
   "execution_count": 52,
   "metadata": {},
   "outputs": [
    {
     "data": {
      "image/svg+xml": "<?xml version=\"1.0\" encoding=\"UTF-8\" standalone=\"no\"?>\n<!DOCTYPE svg PUBLIC \"-//W3C//DTD SVG 1.1//EN\"\n \"http://www.w3.org/Graphics/SVG/1.1/DTD/svg11.dtd\">\n<!-- Generated by graphviz version 9.0.0 (20230911.1827)\n -->\n<!-- Pages: 1 -->\n<svg width=\"1589pt\" height=\"210pt\"\n viewBox=\"0.00 0.00 1589.00 210.00\" xmlns=\"http://www.w3.org/2000/svg\" xmlns:xlink=\"http://www.w3.org/1999/xlink\">\n<g id=\"graph0\" class=\"graph\" transform=\"scale(1 1) rotate(0) translate(4 206)\">\n<polygon fill=\"white\" stroke=\"none\" points=\"-4,4 -4,-206 1585,-206 1585,4 -4,4\"/>\n<!-- 4788593680 -->\n<g id=\"node1\" class=\"node\">\n<title>4788593680</title>\n<polygon fill=\"none\" stroke=\"black\" points=\"675.75,-82.5 675.75,-118.5 961.5,-118.5 961.5,-82.5 675.75,-82.5\"/>\n<text text-anchor=\"middle\" x=\"735.88\" y=\"-95.7\" font-family=\"Times,serif\" font-size=\"14.00\">x1 * w1 + x2 * w2</text>\n<polyline fill=\"none\" stroke=\"black\" points=\"796,-83 796,-118.5\"/>\n<text text-anchor=\"middle\" x=\"838.12\" y=\"-95.7\" font-family=\"Times,serif\" font-size=\"14.00\">data &#45;6.0000</text>\n<polyline fill=\"none\" stroke=\"black\" points=\"880.25,-83 880.25,-118.5\"/>\n<text text-anchor=\"middle\" x=\"920.88\" y=\"-95.7\" font-family=\"Times,serif\" font-size=\"14.00\">grad 0.5000</text>\n</g>\n<!-- 4788590672+ -->\n<g id=\"node6\" class=\"node\">\n<title>4788590672+</title>\n<ellipse fill=\"none\" stroke=\"black\" cx=\"1024.5\" cy=\"-127.5\" rx=\"27\" ry=\"18\"/>\n<text text-anchor=\"middle\" x=\"1024.5\" y=\"-122.45\" font-family=\"Times,serif\" font-size=\"14.00\">+</text>\n</g>\n<!-- 4788593680&#45;&gt;4788590672+ -->\n<g id=\"edge11\" class=\"edge\">\n<title>4788593680&#45;&gt;4788590672+</title>\n<path fill=\"none\" stroke=\"black\" d=\"M959.27,-118.99C968.92,-120.27 978.05,-121.48 986.23,-122.56\"/>\n<polygon fill=\"black\" stroke=\"black\" points=\"985.62,-126.01 995.99,-123.86 986.54,-119.07 985.62,-126.01\"/>\n</g>\n<!-- 4788593680+ -->\n<g id=\"node2\" class=\"node\">\n<title>4788593680+</title>\n<ellipse fill=\"none\" stroke=\"black\" cx=\"612.75\" cy=\"-100.5\" rx=\"27\" ry=\"18\"/>\n<text text-anchor=\"middle\" x=\"612.75\" y=\"-95.45\" font-family=\"Times,serif\" font-size=\"14.00\">+</text>\n</g>\n<!-- 4788593680+&#45;&gt;4788593680 -->\n<g id=\"edge1\" class=\"edge\">\n<title>4788593680+&#45;&gt;4788593680</title>\n<path fill=\"none\" stroke=\"black\" d=\"M639.99,-100.5C647.1,-100.5 655.33,-100.5 664.29,-100.5\"/>\n<polygon fill=\"black\" stroke=\"black\" points=\"664.02,-104 674.02,-100.5 664.02,-97 664.02,-104\"/>\n</g>\n<!-- 4788592592 -->\n<g id=\"node3\" class=\"node\">\n<title>4788592592</title>\n<polygon fill=\"none\" stroke=\"black\" points=\"726.75,-137.5 726.75,-173.5 910.5,-173.5 910.5,-137.5 726.75,-137.5\"/>\n<text text-anchor=\"middle\" x=\"738.12\" y=\"-150.7\" font-family=\"Times,serif\" font-size=\"14.00\">b</text>\n<polyline fill=\"none\" stroke=\"black\" points=\"749.5,-138 749.5,-173.5\"/>\n<text text-anchor=\"middle\" x=\"789.38\" y=\"-150.7\" font-family=\"Times,serif\" font-size=\"14.00\">data 6.8814</text>\n<polyline fill=\"none\" stroke=\"black\" points=\"829.25,-138 829.25,-173.5\"/>\n<text text-anchor=\"middle\" x=\"869.88\" y=\"-150.7\" font-family=\"Times,serif\" font-size=\"14.00\">grad 0.5000</text>\n</g>\n<!-- 4788592592&#45;&gt;4788590672+ -->\n<g id=\"edge10\" class=\"edge\">\n<title>4788592592&#45;&gt;4788590672+</title>\n<path fill=\"none\" stroke=\"black\" d=\"M910.83,-142.97C937.54,-139.31 965.25,-135.5 986.5,-132.58\"/>\n<polygon fill=\"black\" stroke=\"black\" points=\"986.97,-136.05 996.41,-131.22 986.02,-129.11 986.97,-136.05\"/>\n</g>\n<!-- 4788592208 -->\n<g id=\"node4\" class=\"node\">\n<title>4788592208</title>\n<polygon fill=\"none\" stroke=\"black\" points=\"0,-165.5 0,-201.5 198,-201.5 198,-165.5 0,-165.5\"/>\n<text text-anchor=\"middle\" x=\"16.25\" y=\"-178.7\" font-family=\"Times,serif\" font-size=\"14.00\">w1</text>\n<polyline fill=\"none\" stroke=\"black\" points=\"32.5,-166 32.5,-201.5\"/>\n<text text-anchor=\"middle\" x=\"74.62\" y=\"-178.7\" font-family=\"Times,serif\" font-size=\"14.00\">data &#45;3.0000</text>\n<polyline fill=\"none\" stroke=\"black\" points=\"116.75,-166 116.75,-201.5\"/>\n<text text-anchor=\"middle\" x=\"157.38\" y=\"-178.7\" font-family=\"Times,serif\" font-size=\"14.00\">grad 1.0000</text>\n</g>\n<!-- 4788592400* -->\n<g id=\"node9\" class=\"node\">\n<title>4788592400*</title>\n<ellipse fill=\"none\" stroke=\"black\" cx=\"261\" cy=\"-128.5\" rx=\"27\" ry=\"18\"/>\n<text text-anchor=\"middle\" x=\"261\" y=\"-123.45\" font-family=\"Times,serif\" font-size=\"14.00\">*</text>\n</g>\n<!-- 4788592208&#45;&gt;4788592400* -->\n<g id=\"edge7\" class=\"edge\">\n<title>4788592208&#45;&gt;4788592400*</title>\n<path fill=\"none\" stroke=\"black\" d=\"M172.12,-165.01C180.9,-162.35 189.7,-159.5 198,-156.5 208.09,-152.86 218.82,-148.27 228.47,-143.88\"/>\n<polygon fill=\"black\" stroke=\"black\" points=\"229.86,-147.09 237.45,-139.69 226.9,-140.75 229.86,-147.09\"/>\n</g>\n<!-- 4788590672 -->\n<g id=\"node5\" class=\"node\">\n<title>4788590672</title>\n<polygon fill=\"none\" stroke=\"black\" points=\"1087.5,-109.5 1087.5,-145.5 1271.25,-145.5 1271.25,-109.5 1087.5,-109.5\"/>\n<text text-anchor=\"middle\" x=\"1098.88\" y=\"-122.7\" font-family=\"Times,serif\" font-size=\"14.00\">n</text>\n<polyline fill=\"none\" stroke=\"black\" points=\"1110.25,-110 1110.25,-145.5\"/>\n<text text-anchor=\"middle\" x=\"1150.12\" y=\"-122.7\" font-family=\"Times,serif\" font-size=\"14.00\">data 0.8814</text>\n<polyline fill=\"none\" stroke=\"black\" points=\"1190,-110 1190,-145.5\"/>\n<text text-anchor=\"middle\" x=\"1230.62\" y=\"-122.7\" font-family=\"Times,serif\" font-size=\"14.00\">grad 0.5000</text>\n</g>\n<!-- 4788594128tanh -->\n<g id=\"node15\" class=\"node\">\n<title>4788594128tanh</title>\n<ellipse fill=\"none\" stroke=\"black\" cx=\"1334.25\" cy=\"-127.5\" rx=\"27\" ry=\"18\"/>\n<text text-anchor=\"middle\" x=\"1334.25\" y=\"-122.45\" font-family=\"Times,serif\" font-size=\"14.00\">tanh</text>\n</g>\n<!-- 4788590672&#45;&gt;4788594128tanh -->\n<g id=\"edge9\" class=\"edge\">\n<title>4788590672&#45;&gt;4788594128tanh</title>\n<path fill=\"none\" stroke=\"black\" d=\"M1271.51,-127.5C1279.89,-127.5 1288.02,-127.5 1295.48,-127.5\"/>\n<polygon fill=\"black\" stroke=\"black\" points=\"1295.45,-131 1305.45,-127.5 1295.45,-124 1295.45,-131\"/>\n</g>\n<!-- 4788590672+&#45;&gt;4788590672 -->\n<g id=\"edge2\" class=\"edge\">\n<title>4788590672+&#45;&gt;4788590672</title>\n<path fill=\"none\" stroke=\"black\" d=\"M1051.78,-127.5C1058.92,-127.5 1067.11,-127.5 1075.82,-127.5\"/>\n<polygon fill=\"black\" stroke=\"black\" points=\"1075.56,-131 1085.56,-127.5 1075.56,-124 1075.56,-131\"/>\n</g>\n<!-- 4788597840 -->\n<g id=\"node7\" class=\"node\">\n<title>4788597840</title>\n<polygon fill=\"none\" stroke=\"black\" points=\"1.5,-110.5 1.5,-146.5 196.5,-146.5 196.5,-110.5 1.5,-110.5\"/>\n<text text-anchor=\"middle\" x=\"16.25\" y=\"-123.7\" font-family=\"Times,serif\" font-size=\"14.00\">x1</text>\n<polyline fill=\"none\" stroke=\"black\" points=\"31,-111 31,-146.5\"/>\n<text text-anchor=\"middle\" x=\"70.88\" y=\"-123.7\" font-family=\"Times,serif\" font-size=\"14.00\">data 2.0000</text>\n<polyline fill=\"none\" stroke=\"black\" points=\"110.75,-111 110.75,-146.5\"/>\n<text text-anchor=\"middle\" x=\"153.62\" y=\"-123.7\" font-family=\"Times,serif\" font-size=\"14.00\">grad &#45;1.5000</text>\n</g>\n<!-- 4788597840&#45;&gt;4788592400* -->\n<g id=\"edge14\" class=\"edge\">\n<title>4788597840&#45;&gt;4788592400*</title>\n<path fill=\"none\" stroke=\"black\" d=\"M196.76,-128.5C205.77,-128.5 214.47,-128.5 222.4,-128.5\"/>\n<polygon fill=\"black\" stroke=\"black\" points=\"222.25,-132 232.25,-128.5 222.25,-125 222.25,-132\"/>\n</g>\n<!-- 4788592400 -->\n<g id=\"node8\" class=\"node\">\n<title>4788592400</title>\n<polygon fill=\"none\" stroke=\"black\" points=\"324,-110.5 324,-146.5 549.75,-146.5 549.75,-110.5 324,-110.5\"/>\n<text text-anchor=\"middle\" x=\"354.12\" y=\"-123.7\" font-family=\"Times,serif\" font-size=\"14.00\">x1 * w1</text>\n<polyline fill=\"none\" stroke=\"black\" points=\"384.25,-111 384.25,-146.5\"/>\n<text text-anchor=\"middle\" x=\"426.38\" y=\"-123.7\" font-family=\"Times,serif\" font-size=\"14.00\">data &#45;6.0000</text>\n<polyline fill=\"none\" stroke=\"black\" points=\"468.5,-111 468.5,-146.5\"/>\n<text text-anchor=\"middle\" x=\"509.12\" y=\"-123.7\" font-family=\"Times,serif\" font-size=\"14.00\">grad 0.5000</text>\n</g>\n<!-- 4788592400&#45;&gt;4788593680+ -->\n<g id=\"edge8\" class=\"edge\">\n<title>4788592400&#45;&gt;4788593680+</title>\n<path fill=\"none\" stroke=\"black\" d=\"M549.96,-110.45C558.76,-109.03 567.18,-107.68 574.82,-106.45\"/>\n<polygon fill=\"black\" stroke=\"black\" points=\"575.31,-109.91 584.63,-104.87 574.2,-103 575.31,-109.91\"/>\n</g>\n<!-- 4788592400*&#45;&gt;4788592400 -->\n<g id=\"edge3\" class=\"edge\">\n<title>4788592400*&#45;&gt;4788592400</title>\n<path fill=\"none\" stroke=\"black\" d=\"M288.41,-128.5C295.49,-128.5 303.63,-128.5 312.38,-128.5\"/>\n<polygon fill=\"black\" stroke=\"black\" points=\"312.24,-132 322.24,-128.5 312.24,-125 312.24,-132\"/>\n</g>\n<!-- 4788587856 -->\n<g id=\"node10\" class=\"node\">\n<title>4788587856</title>\n<polygon fill=\"none\" stroke=\"black\" points=\"3.75,-55.5 3.75,-91.5 194.25,-91.5 194.25,-55.5 3.75,-55.5\"/>\n<text text-anchor=\"middle\" x=\"18.5\" y=\"-68.7\" font-family=\"Times,serif\" font-size=\"14.00\">x2</text>\n<polyline fill=\"none\" stroke=\"black\" points=\"33.25,-56 33.25,-91.5\"/>\n<text text-anchor=\"middle\" x=\"73.12\" y=\"-68.7\" font-family=\"Times,serif\" font-size=\"14.00\">data 0.0000</text>\n<polyline fill=\"none\" stroke=\"black\" points=\"113,-56 113,-91.5\"/>\n<text text-anchor=\"middle\" x=\"153.62\" y=\"-68.7\" font-family=\"Times,serif\" font-size=\"14.00\">grad 0.5000</text>\n</g>\n<!-- 4788597648* -->\n<g id=\"node12\" class=\"node\">\n<title>4788597648*</title>\n<ellipse fill=\"none\" stroke=\"black\" cx=\"261\" cy=\"-73.5\" rx=\"27\" ry=\"18\"/>\n<text text-anchor=\"middle\" x=\"261\" y=\"-68.45\" font-family=\"Times,serif\" font-size=\"14.00\">*</text>\n</g>\n<!-- 4788587856&#45;&gt;4788597648* -->\n<g id=\"edge6\" class=\"edge\">\n<title>4788587856&#45;&gt;4788597648*</title>\n<path fill=\"none\" stroke=\"black\" d=\"M194.46,-73.5C204.21,-73.5 213.66,-73.5 222.21,-73.5\"/>\n<polygon fill=\"black\" stroke=\"black\" points=\"222.12,-77 232.12,-73.5 222.12,-70 222.12,-77\"/>\n</g>\n<!-- 4788597648 -->\n<g id=\"node11\" class=\"node\">\n<title>4788597648</title>\n<polygon fill=\"none\" stroke=\"black\" points=\"326.25,-55.5 326.25,-91.5 547.5,-91.5 547.5,-55.5 326.25,-55.5\"/>\n<text text-anchor=\"middle\" x=\"356.38\" y=\"-68.7\" font-family=\"Times,serif\" font-size=\"14.00\">x2 * w2</text>\n<polyline fill=\"none\" stroke=\"black\" points=\"386.5,-56 386.5,-91.5\"/>\n<text text-anchor=\"middle\" x=\"426.38\" y=\"-68.7\" font-family=\"Times,serif\" font-size=\"14.00\">data 0.0000</text>\n<polyline fill=\"none\" stroke=\"black\" points=\"466.25,-56 466.25,-91.5\"/>\n<text text-anchor=\"middle\" x=\"506.88\" y=\"-68.7\" font-family=\"Times,serif\" font-size=\"14.00\">grad 0.5000</text>\n</g>\n<!-- 4788597648&#45;&gt;4788593680+ -->\n<g id=\"edge13\" class=\"edge\">\n<title>4788597648&#45;&gt;4788593680+</title>\n<path fill=\"none\" stroke=\"black\" d=\"M547.99,-90.6C557.5,-92.08 566.61,-93.49 574.82,-94.77\"/>\n<polygon fill=\"black\" stroke=\"black\" points=\"574.23,-98.22 584.65,-96.29 575.3,-91.3 574.23,-98.22\"/>\n</g>\n<!-- 4788597648*&#45;&gt;4788597648 -->\n<g id=\"edge4\" class=\"edge\">\n<title>4788597648*&#45;&gt;4788597648</title>\n<path fill=\"none\" stroke=\"black\" d=\"M288.41,-73.5C296.06,-73.5 304.94,-73.5 314.49,-73.5\"/>\n<polygon fill=\"black\" stroke=\"black\" points=\"314.46,-77 324.46,-73.5 314.46,-70 314.46,-77\"/>\n</g>\n<!-- 4788590032 -->\n<g id=\"node13\" class=\"node\">\n<title>4788590032</title>\n<polygon fill=\"none\" stroke=\"black\" points=\"2.25,-0.5 2.25,-36.5 195.75,-36.5 195.75,-0.5 2.25,-0.5\"/>\n<text text-anchor=\"middle\" x=\"18.5\" y=\"-13.7\" font-family=\"Times,serif\" font-size=\"14.00\">w2</text>\n<polyline fill=\"none\" stroke=\"black\" points=\"34.75,-1 34.75,-36.5\"/>\n<text text-anchor=\"middle\" x=\"74.62\" y=\"-13.7\" font-family=\"Times,serif\" font-size=\"14.00\">data 1.0000</text>\n<polyline fill=\"none\" stroke=\"black\" points=\"114.5,-1 114.5,-36.5\"/>\n<text text-anchor=\"middle\" x=\"155.12\" y=\"-13.7\" font-family=\"Times,serif\" font-size=\"14.00\">grad 0.0000</text>\n</g>\n<!-- 4788590032&#45;&gt;4788597648* -->\n<g id=\"edge12\" class=\"edge\">\n<title>4788590032&#45;&gt;4788597648*</title>\n<path fill=\"none\" stroke=\"black\" d=\"M168.91,-36.94C178.74,-39.93 188.67,-43.15 198,-46.5 207.96,-50.07 218.58,-54.47 228.18,-58.68\"/>\n<polygon fill=\"black\" stroke=\"black\" points=\"226.54,-61.78 237.1,-62.67 229.4,-55.39 226.54,-61.78\"/>\n</g>\n<!-- 4788594128 -->\n<g id=\"node14\" class=\"node\">\n<title>4788594128</title>\n<polygon fill=\"none\" stroke=\"black\" points=\"1397.25,-109.5 1397.25,-145.5 1581,-145.5 1581,-109.5 1397.25,-109.5\"/>\n<text text-anchor=\"middle\" x=\"1408.62\" y=\"-122.7\" font-family=\"Times,serif\" font-size=\"14.00\">o</text>\n<polyline fill=\"none\" stroke=\"black\" points=\"1420,-110 1420,-145.5\"/>\n<text text-anchor=\"middle\" x=\"1459.88\" y=\"-122.7\" font-family=\"Times,serif\" font-size=\"14.00\">data 0.7071</text>\n<polyline fill=\"none\" stroke=\"black\" points=\"1499.75,-110 1499.75,-145.5\"/>\n<text text-anchor=\"middle\" x=\"1540.38\" y=\"-122.7\" font-family=\"Times,serif\" font-size=\"14.00\">grad 1.0000</text>\n</g>\n<!-- 4788594128tanh&#45;&gt;4788594128 -->\n<g id=\"edge5\" class=\"edge\">\n<title>4788594128tanh&#45;&gt;4788594128</title>\n<path fill=\"none\" stroke=\"black\" d=\"M1361.53,-127.5C1368.67,-127.5 1376.86,-127.5 1385.57,-127.5\"/>\n<polygon fill=\"black\" stroke=\"black\" points=\"1385.31,-131 1395.31,-127.5 1385.31,-124 1385.31,-131\"/>\n</g>\n</g>\n</svg>\n",
      "text/plain": [
       "<graphviz.graphs.Digraph at 0x11d6c2750>"
      ]
     },
     "execution_count": 52,
     "metadata": {},
     "output_type": "execute_result"
    }
   ],
   "source": [
    "# inputs x1, x2\n",
    "x1 = Value(2.0, label='x1')\n",
    "x2 = Value(0.0, label='x2')\n",
    "# weights (synaptic strength of each input)\n",
    "w1 = Value(-3.0, label='w1')\n",
    "w2 = Value(1.0, label='w2')\n",
    "b = Value(6.8813735870195432, label='b')\n",
    "x1w1 = x1 * w1; x1w1.label = 'x1 * w1'\n",
    "x2w2 = x2 * w2; x2w2.label = 'x2 * w2'\n",
    "x1w1x2w2 = x1w1 + x2w2; x1w1x2w2.label = 'x1 * w1 + x2 * w2'\n",
    "n = x1w1x2w2 + b; n.label = 'n'\n",
    "o = n.tanh(); o.label = 'o'\n",
    "o.backward()\n",
    "draw_dot(o)"
   ]
  },
  {
   "cell_type": "code",
   "execution_count": 53,
   "metadata": {},
   "outputs": [
    {
     "data": {
      "image/svg+xml": "<?xml version=\"1.0\" encoding=\"UTF-8\" standalone=\"no\"?>\n<!DOCTYPE svg PUBLIC \"-//W3C//DTD SVG 1.1//EN\"\n \"http://www.w3.org/Graphics/SVG/1.1/DTD/svg11.dtd\">\n<!-- Generated by graphviz version 9.0.0 (20230911.1827)\n -->\n<!-- Pages: 1 -->\n<svg width=\"2952pt\" height=\"239pt\"\n viewBox=\"0.00 0.00 2951.75 239.00\" xmlns=\"http://www.w3.org/2000/svg\" xmlns:xlink=\"http://www.w3.org/1999/xlink\">\n<g id=\"graph0\" class=\"graph\" transform=\"scale(1 1) rotate(0) translate(4 235)\">\n<polygon fill=\"white\" stroke=\"none\" points=\"-4,4 -4,-235 2947.75,-235 2947.75,4 -4,4\"/>\n<!-- 4788883408 -->\n<g id=\"node1\" class=\"node\">\n<title>4788883408</title>\n<polygon fill=\"none\" stroke=\"black\" points=\"2.25,-194.5 2.25,-230.5 195.75,-230.5 195.75,-194.5 2.25,-194.5\"/>\n<text text-anchor=\"middle\" x=\"18.5\" y=\"-207.7\" font-family=\"Times,serif\" font-size=\"14.00\">w2</text>\n<polyline fill=\"none\" stroke=\"black\" points=\"34.75,-195 34.75,-230.5\"/>\n<text text-anchor=\"middle\" x=\"74.62\" y=\"-207.7\" font-family=\"Times,serif\" font-size=\"14.00\">data 1.0000</text>\n<polyline fill=\"none\" stroke=\"black\" points=\"114.5,-195 114.5,-230.5\"/>\n<text text-anchor=\"middle\" x=\"155.12\" y=\"-207.7\" font-family=\"Times,serif\" font-size=\"14.00\">grad 0.0000</text>\n</g>\n<!-- 4788887248* -->\n<g id=\"node19\" class=\"node\">\n<title>4788887248*</title>\n<ellipse fill=\"none\" stroke=\"black\" cx=\"261\" cy=\"-157.5\" rx=\"27\" ry=\"18\"/>\n<text text-anchor=\"middle\" x=\"261\" y=\"-152.45\" font-family=\"Times,serif\" font-size=\"14.00\">*</text>\n</g>\n<!-- 4788883408&#45;&gt;4788887248* -->\n<g id=\"edge24\" class=\"edge\">\n<title>4788883408&#45;&gt;4788887248*</title>\n<path fill=\"none\" stroke=\"black\" d=\"M172.12,-194.01C180.9,-191.35 189.7,-188.5 198,-185.5 208.09,-181.86 218.82,-177.27 228.47,-172.88\"/>\n<polygon fill=\"black\" stroke=\"black\" points=\"229.86,-176.09 237.45,-168.69 226.9,-169.75 229.86,-176.09\"/>\n</g>\n<!-- 4788884496 -->\n<g id=\"node2\" class=\"node\">\n<title>4788884496</title>\n<polygon fill=\"none\" stroke=\"black\" points=\"1705.12,-55.5 1705.12,-91.5 1888.12,-91.5 1888.12,-55.5 1705.12,-55.5\"/>\n<text text-anchor=\"middle\" x=\"1716.12\" y=\"-68.7\" font-family=\"Times,serif\" font-size=\"14.00\">e</text>\n<polyline fill=\"none\" stroke=\"black\" points=\"1727.12,-56 1727.12,-91.5\"/>\n<text text-anchor=\"middle\" x=\"1767\" y=\"-68.7\" font-family=\"Times,serif\" font-size=\"14.00\">data 5.8284</text>\n<polyline fill=\"none\" stroke=\"black\" points=\"1806.88,-56 1806.88,-91.5\"/>\n<text text-anchor=\"middle\" x=\"1847.5\" y=\"-68.7\" font-family=\"Times,serif\" font-size=\"14.00\">grad 0.0429</text>\n</g>\n<!-- 4788886544+ -->\n<g id=\"node7\" class=\"node\">\n<title>4788886544+</title>\n<ellipse fill=\"none\" stroke=\"black\" cx=\"1952.25\" cy=\"-100.5\" rx=\"27\" ry=\"18\"/>\n<text text-anchor=\"middle\" x=\"1952.25\" y=\"-95.45\" font-family=\"Times,serif\" font-size=\"14.00\">+</text>\n</g>\n<!-- 4788884496&#45;&gt;4788886544+ -->\n<g id=\"edge20\" class=\"edge\">\n<title>4788884496&#45;&gt;4788886544+</title>\n<path fill=\"none\" stroke=\"black\" d=\"M1888.32,-89.44C1897.49,-91.05 1906.38,-92.61 1914.45,-94.03\"/>\n<polygon fill=\"black\" stroke=\"black\" points=\"1913.69,-97.45 1924.14,-95.74 1914.9,-90.56 1913.69,-97.45\"/>\n</g>\n<!-- 4788882576+ -->\n<g id=\"node14\" class=\"node\">\n<title>4788882576+</title>\n<ellipse fill=\"none\" stroke=\"black\" cx=\"1952.25\" cy=\"-45.5\" rx=\"27\" ry=\"18\"/>\n<text text-anchor=\"middle\" x=\"1952.25\" y=\"-40.45\" font-family=\"Times,serif\" font-size=\"14.00\">+</text>\n</g>\n<!-- 4788884496&#45;&gt;4788882576+ -->\n<g id=\"edge25\" class=\"edge\">\n<title>4788884496&#45;&gt;4788882576+</title>\n<path fill=\"none\" stroke=\"black\" d=\"M1888.32,-56.97C1897.57,-55.28 1906.55,-53.65 1914.69,-52.16\"/>\n<polygon fill=\"black\" stroke=\"black\" points=\"1915.24,-55.62 1924.45,-50.38 1913.98,-48.73 1915.24,-55.62\"/>\n</g>\n<!-- 4788884496exp -->\n<g id=\"node3\" class=\"node\">\n<title>4788884496exp</title>\n<ellipse fill=\"none\" stroke=\"black\" cx=\"1641\" cy=\"-73.5\" rx=\"27\" ry=\"18\"/>\n<text text-anchor=\"middle\" x=\"1641\" y=\"-68.45\" font-family=\"Times,serif\" font-size=\"14.00\">exp</text>\n</g>\n<!-- 4788884496exp&#45;&gt;4788884496 -->\n<g id=\"edge1\" class=\"edge\">\n<title>4788884496exp&#45;&gt;4788884496</title>\n<path fill=\"none\" stroke=\"black\" d=\"M1668.41,-73.5C1675.85,-73.5 1684.42,-73.5 1693.52,-73.5\"/>\n<polygon fill=\"black\" stroke=\"black\" points=\"1693.34,-77 1703.34,-73.5 1693.34,-70 1693.34,-77\"/>\n</g>\n<!-- 4788889616 -->\n<g id=\"node4\" class=\"node\">\n<title>4788889616</title>\n<polygon fill=\"none\" stroke=\"black\" points=\"675.75,-111.5 675.75,-147.5 961.5,-147.5 961.5,-111.5 675.75,-111.5\"/>\n<text text-anchor=\"middle\" x=\"735.88\" y=\"-124.7\" font-family=\"Times,serif\" font-size=\"14.00\">x1 * w1 + x2 * w2</text>\n<polyline fill=\"none\" stroke=\"black\" points=\"796,-112 796,-147.5\"/>\n<text text-anchor=\"middle\" x=\"838.12\" y=\"-124.7\" font-family=\"Times,serif\" font-size=\"14.00\">data &#45;6.0000</text>\n<polyline fill=\"none\" stroke=\"black\" points=\"880.25,-112 880.25,-147.5\"/>\n<text text-anchor=\"middle\" x=\"920.88\" y=\"-124.7\" font-family=\"Times,serif\" font-size=\"14.00\">grad 0.5000</text>\n</g>\n<!-- 4788887760+ -->\n<g id=\"node17\" class=\"node\">\n<title>4788887760+</title>\n<ellipse fill=\"none\" stroke=\"black\" cx=\"1024.5\" cy=\"-101.5\" rx=\"27\" ry=\"18\"/>\n<text text-anchor=\"middle\" x=\"1024.5\" y=\"-96.45\" font-family=\"Times,serif\" font-size=\"14.00\">+</text>\n</g>\n<!-- 4788889616&#45;&gt;4788887760+ -->\n<g id=\"edge13\" class=\"edge\">\n<title>4788889616&#45;&gt;4788887760+</title>\n<path fill=\"none\" stroke=\"black\" d=\"M954.19,-111.02C965.69,-109.44 976.56,-107.95 986.14,-106.63\"/>\n<polygon fill=\"black\" stroke=\"black\" points=\"986.6,-110.1 996.04,-105.27 985.65,-103.17 986.6,-110.1\"/>\n</g>\n<!-- 4788889616+ -->\n<g id=\"node5\" class=\"node\">\n<title>4788889616+</title>\n<ellipse fill=\"none\" stroke=\"black\" cx=\"612.75\" cy=\"-129.5\" rx=\"27\" ry=\"18\"/>\n<text text-anchor=\"middle\" x=\"612.75\" y=\"-124.45\" font-family=\"Times,serif\" font-size=\"14.00\">+</text>\n</g>\n<!-- 4788889616+&#45;&gt;4788889616 -->\n<g id=\"edge2\" class=\"edge\">\n<title>4788889616+&#45;&gt;4788889616</title>\n<path fill=\"none\" stroke=\"black\" d=\"M639.99,-129.5C647.1,-129.5 655.33,-129.5 664.29,-129.5\"/>\n<polygon fill=\"black\" stroke=\"black\" points=\"664.02,-133 674.02,-129.5 664.02,-126 664.02,-133\"/>\n</g>\n<!-- 4788886544 -->\n<g id=\"node6\" class=\"node\">\n<title>4788886544</title>\n<polygon fill=\"none\" stroke=\"black\" points=\"2015.25,-82.5 2015.25,-118.5 2200.5,-118.5 2200.5,-82.5 2015.25,-82.5\"/>\n<text text-anchor=\"middle\" x=\"2025.12\" y=\"-95.7\" font-family=\"Times,serif\" font-size=\"14.00\"> </text>\n<polyline fill=\"none\" stroke=\"black\" points=\"2035,-83 2035,-118.5\"/>\n<text text-anchor=\"middle\" x=\"2074.88\" y=\"-95.7\" font-family=\"Times,serif\" font-size=\"14.00\">data 6.8284</text>\n<polyline fill=\"none\" stroke=\"black\" points=\"2114.75,-83 2114.75,-118.5\"/>\n<text text-anchor=\"middle\" x=\"2157.62\" y=\"-95.7\" font-family=\"Times,serif\" font-size=\"14.00\">grad &#45;0.1036</text>\n</g>\n<!-- 4788880464**&#45;1 -->\n<g id=\"node10\" class=\"node\">\n<title>4788880464**&#45;1</title>\n<ellipse fill=\"none\" stroke=\"black\" cx=\"2326.88\" cy=\"-100.5\" rx=\"27.81\" ry=\"18\"/>\n<text text-anchor=\"middle\" x=\"2326.88\" y=\"-95.45\" font-family=\"Times,serif\" font-size=\"14.00\">**&#45;1</text>\n</g>\n<!-- 4788886544&#45;&gt;4788880464**&#45;1 -->\n<g id=\"edge28\" class=\"edge\">\n<title>4788886544&#45;&gt;4788880464**&#45;1</title>\n<path fill=\"none\" stroke=\"black\" d=\"M2200.9,-100.5C2231.14,-100.5 2263.13,-100.5 2287.17,-100.5\"/>\n<polygon fill=\"black\" stroke=\"black\" points=\"2287.12,-104 2297.12,-100.5 2287.12,-97 2287.12,-104\"/>\n</g>\n<!-- 4788886544+&#45;&gt;4788886544 -->\n<g id=\"edge3\" class=\"edge\">\n<title>4788886544+&#45;&gt;4788886544</title>\n<path fill=\"none\" stroke=\"black\" d=\"M1979.66,-100.5C1986.7,-100.5 1994.75,-100.5 2003.3,-100.5\"/>\n<polygon fill=\"black\" stroke=\"black\" points=\"2003.29,-104 2013.29,-100.5 2003.29,-97 2003.29,-104\"/>\n</g>\n<!-- 4788889168 -->\n<g id=\"node8\" class=\"node\">\n<title>4788889168</title>\n<polygon fill=\"none\" stroke=\"black\" points=\"1.5,-84.5 1.5,-120.5 196.5,-120.5 196.5,-84.5 1.5,-84.5\"/>\n<text text-anchor=\"middle\" x=\"16.25\" y=\"-97.7\" font-family=\"Times,serif\" font-size=\"14.00\">x1</text>\n<polyline fill=\"none\" stroke=\"black\" points=\"31,-85 31,-120.5\"/>\n<text text-anchor=\"middle\" x=\"70.88\" y=\"-97.7\" font-family=\"Times,serif\" font-size=\"14.00\">data 2.0000</text>\n<polyline fill=\"none\" stroke=\"black\" points=\"110.75,-85 110.75,-120.5\"/>\n<text text-anchor=\"middle\" x=\"153.62\" y=\"-97.7\" font-family=\"Times,serif\" font-size=\"14.00\">grad &#45;1.5000</text>\n</g>\n<!-- 4788888464* -->\n<g id=\"node21\" class=\"node\">\n<title>4788888464*</title>\n<ellipse fill=\"none\" stroke=\"black\" cx=\"261\" cy=\"-102.5\" rx=\"27\" ry=\"18\"/>\n<text text-anchor=\"middle\" x=\"261\" y=\"-97.45\" font-family=\"Times,serif\" font-size=\"14.00\">*</text>\n</g>\n<!-- 4788889168&#45;&gt;4788888464* -->\n<g id=\"edge11\" class=\"edge\">\n<title>4788889168&#45;&gt;4788888464*</title>\n<path fill=\"none\" stroke=\"black\" d=\"M196.76,-102.5C205.77,-102.5 214.47,-102.5 222.4,-102.5\"/>\n<polygon fill=\"black\" stroke=\"black\" points=\"222.25,-106 232.25,-102.5 222.25,-99 222.25,-106\"/>\n</g>\n<!-- 4788880464 -->\n<g id=\"node9\" class=\"node\">\n<title>4788880464</title>\n<polygon fill=\"none\" stroke=\"black\" points=\"2453.25,-80.5 2453.25,-116.5 2634,-116.5 2634,-80.5 2453.25,-80.5\"/>\n<text text-anchor=\"middle\" x=\"2463.12\" y=\"-93.7\" font-family=\"Times,serif\" font-size=\"14.00\"> </text>\n<polyline fill=\"none\" stroke=\"black\" points=\"2473,-81 2473,-116.5\"/>\n<text text-anchor=\"middle\" x=\"2512.88\" y=\"-93.7\" font-family=\"Times,serif\" font-size=\"14.00\">data 0.1464</text>\n<polyline fill=\"none\" stroke=\"black\" points=\"2552.75,-81 2552.75,-116.5\"/>\n<text text-anchor=\"middle\" x=\"2593.38\" y=\"-93.7\" font-family=\"Times,serif\" font-size=\"14.00\">grad 4.8284</text>\n</g>\n<!-- 4788616848* -->\n<g id=\"node12\" class=\"node\">\n<title>4788616848*</title>\n<ellipse fill=\"none\" stroke=\"black\" cx=\"2697\" cy=\"-72.5\" rx=\"27\" ry=\"18\"/>\n<text text-anchor=\"middle\" x=\"2697\" y=\"-67.45\" font-family=\"Times,serif\" font-size=\"14.00\">*</text>\n</g>\n<!-- 4788880464&#45;&gt;4788616848* -->\n<g id=\"edge12\" class=\"edge\">\n<title>4788880464&#45;&gt;4788616848*</title>\n<path fill=\"none\" stroke=\"black\" d=\"M2634.43,-83.08C2643.04,-81.6 2651.39,-80.16 2659.03,-78.85\"/>\n<polygon fill=\"black\" stroke=\"black\" points=\"2659.61,-82.3 2668.87,-77.16 2658.42,-75.4 2659.61,-82.3\"/>\n</g>\n<!-- 4788880464**&#45;1&#45;&gt;4788880464 -->\n<g id=\"edge4\" class=\"edge\">\n<title>4788880464**&#45;1&#45;&gt;4788880464</title>\n<path fill=\"none\" stroke=\"black\" d=\"M2355.07,-100.25C2377.18,-100.04 2409.83,-99.74 2441.72,-99.44\"/>\n<polygon fill=\"black\" stroke=\"black\" points=\"2441.46,-102.94 2451.43,-99.35 2441.4,-95.94 2441.46,-102.94\"/>\n</g>\n<!-- 4788616848 -->\n<g id=\"node11\" class=\"node\">\n<title>4788616848</title>\n<polygon fill=\"none\" stroke=\"black\" points=\"2760,-54.5 2760,-90.5 2943.75,-90.5 2943.75,-54.5 2760,-54.5\"/>\n<text text-anchor=\"middle\" x=\"2771.38\" y=\"-67.7\" font-family=\"Times,serif\" font-size=\"14.00\">o</text>\n<polyline fill=\"none\" stroke=\"black\" points=\"2782.75,-55 2782.75,-90.5\"/>\n<text text-anchor=\"middle\" x=\"2822.62\" y=\"-67.7\" font-family=\"Times,serif\" font-size=\"14.00\">data 0.7071</text>\n<polyline fill=\"none\" stroke=\"black\" points=\"2862.5,-55 2862.5,-90.5\"/>\n<text text-anchor=\"middle\" x=\"2903.12\" y=\"-67.7\" font-family=\"Times,serif\" font-size=\"14.00\">grad 1.0000</text>\n</g>\n<!-- 4788616848*&#45;&gt;4788616848 -->\n<g id=\"edge5\" class=\"edge\">\n<title>4788616848*&#45;&gt;4788616848</title>\n<path fill=\"none\" stroke=\"black\" d=\"M2724.28,-72.5C2731.42,-72.5 2739.61,-72.5 2748.32,-72.5\"/>\n<polygon fill=\"black\" stroke=\"black\" points=\"2748.06,-76 2758.06,-72.5 2748.06,-69 2748.06,-76\"/>\n</g>\n<!-- 4788882576 -->\n<g id=\"node13\" class=\"node\">\n<title>4788882576</title>\n<polygon fill=\"none\" stroke=\"black\" points=\"2236.5,-27.5 2236.5,-63.5 2417.25,-63.5 2417.25,-27.5 2236.5,-27.5\"/>\n<text text-anchor=\"middle\" x=\"2246.38\" y=\"-40.7\" font-family=\"Times,serif\" font-size=\"14.00\"> </text>\n<polyline fill=\"none\" stroke=\"black\" points=\"2256.25,-28 2256.25,-63.5\"/>\n<text text-anchor=\"middle\" x=\"2296.12\" y=\"-40.7\" font-family=\"Times,serif\" font-size=\"14.00\">data 4.8284</text>\n<polyline fill=\"none\" stroke=\"black\" points=\"2336,-28 2336,-63.5\"/>\n<text text-anchor=\"middle\" x=\"2376.62\" y=\"-40.7\" font-family=\"Times,serif\" font-size=\"14.00\">grad 0.1464</text>\n</g>\n<!-- 4788882576&#45;&gt;4788616848* -->\n<g id=\"edge16\" class=\"edge\">\n<title>4788882576&#45;&gt;4788616848*</title>\n<path fill=\"none\" stroke=\"black\" d=\"M2417.46,-52.07C2494.75,-57.74 2602.53,-65.64 2658.67,-69.76\"/>\n<polygon fill=\"black\" stroke=\"black\" points=\"2658.09,-73.23 2668.32,-70.47 2658.6,-66.25 2658.09,-73.23\"/>\n</g>\n<!-- 4788882576+&#45;&gt;4788882576 -->\n<g id=\"edge6\" class=\"edge\">\n<title>4788882576+&#45;&gt;4788882576</title>\n<path fill=\"none\" stroke=\"black\" d=\"M1979.75,-45.5C2030.01,-45.5 2141.57,-45.5 2224.53,-45.5\"/>\n<polygon fill=\"black\" stroke=\"black\" points=\"2224.52,-49 2234.52,-45.5 2224.52,-42 2224.52,-49\"/>\n</g>\n<!-- 4788895376 -->\n<g id=\"node15\" class=\"node\">\n<title>4788895376</title>\n<polygon fill=\"none\" stroke=\"black\" points=\"1704,-0.5 1704,-36.5 1889.25,-36.5 1889.25,-0.5 1704,-0.5\"/>\n<text text-anchor=\"middle\" x=\"1713.88\" y=\"-13.7\" font-family=\"Times,serif\" font-size=\"14.00\"> </text>\n<polyline fill=\"none\" stroke=\"black\" points=\"1723.75,-1 1723.75,-36.5\"/>\n<text text-anchor=\"middle\" x=\"1765.88\" y=\"-13.7\" font-family=\"Times,serif\" font-size=\"14.00\">data &#45;1.0000</text>\n<polyline fill=\"none\" stroke=\"black\" points=\"1808,-1 1808,-36.5\"/>\n<text text-anchor=\"middle\" x=\"1848.62\" y=\"-13.7\" font-family=\"Times,serif\" font-size=\"14.00\">grad 0.1464</text>\n</g>\n<!-- 4788895376&#45;&gt;4788882576+ -->\n<g id=\"edge26\" class=\"edge\">\n<title>4788895376&#45;&gt;4788882576+</title>\n<path fill=\"none\" stroke=\"black\" d=\"M1889.65,-34.67C1898.39,-36.21 1906.86,-37.7 1914.58,-39.05\"/>\n<polygon fill=\"black\" stroke=\"black\" points=\"1913.7,-42.45 1924.16,-40.74 1914.91,-35.56 1913.7,-42.45\"/>\n</g>\n<!-- 4788887760 -->\n<g id=\"node16\" class=\"node\">\n<title>4788887760</title>\n<polygon fill=\"none\" stroke=\"black\" points=\"1087.5,-83.5 1087.5,-119.5 1271.25,-119.5 1271.25,-83.5 1087.5,-83.5\"/>\n<text text-anchor=\"middle\" x=\"1098.88\" y=\"-96.7\" font-family=\"Times,serif\" font-size=\"14.00\">n</text>\n<polyline fill=\"none\" stroke=\"black\" points=\"1110.25,-84 1110.25,-119.5\"/>\n<text text-anchor=\"middle\" x=\"1150.12\" y=\"-96.7\" font-family=\"Times,serif\" font-size=\"14.00\">data 0.8814</text>\n<polyline fill=\"none\" stroke=\"black\" points=\"1190,-84 1190,-119.5\"/>\n<text text-anchor=\"middle\" x=\"1230.62\" y=\"-96.7\" font-family=\"Times,serif\" font-size=\"14.00\">grad 0.5000</text>\n</g>\n<!-- 4788880336* -->\n<g id=\"node28\" class=\"node\">\n<title>4788880336*</title>\n<ellipse fill=\"none\" stroke=\"black\" cx=\"1334.25\" cy=\"-73.5\" rx=\"27\" ry=\"18\"/>\n<text text-anchor=\"middle\" x=\"1334.25\" y=\"-68.45\" font-family=\"Times,serif\" font-size=\"14.00\">*</text>\n</g>\n<!-- 4788887760&#45;&gt;4788880336* -->\n<g id=\"edge15\" class=\"edge\">\n<title>4788887760&#45;&gt;4788880336*</title>\n<path fill=\"none\" stroke=\"black\" d=\"M1271.51,-84.81C1280.34,-83.19 1288.9,-81.62 1296.69,-80.2\"/>\n<polygon fill=\"black\" stroke=\"black\" points=\"1297.17,-83.67 1306.38,-78.42 1295.91,-76.78 1297.17,-83.67\"/>\n</g>\n<!-- 4788887760+&#45;&gt;4788887760 -->\n<g id=\"edge7\" class=\"edge\">\n<title>4788887760+&#45;&gt;4788887760</title>\n<path fill=\"none\" stroke=\"black\" d=\"M1051.78,-101.5C1058.92,-101.5 1067.11,-101.5 1075.82,-101.5\"/>\n<polygon fill=\"black\" stroke=\"black\" points=\"1075.56,-105 1085.56,-101.5 1075.56,-98 1075.56,-105\"/>\n</g>\n<!-- 4788887248 -->\n<g id=\"node18\" class=\"node\">\n<title>4788887248</title>\n<polygon fill=\"none\" stroke=\"black\" points=\"326.25,-139.5 326.25,-175.5 547.5,-175.5 547.5,-139.5 326.25,-139.5\"/>\n<text text-anchor=\"middle\" x=\"356.38\" y=\"-152.7\" font-family=\"Times,serif\" font-size=\"14.00\">x2 * w2</text>\n<polyline fill=\"none\" stroke=\"black\" points=\"386.5,-140 386.5,-175.5\"/>\n<text text-anchor=\"middle\" x=\"426.38\" y=\"-152.7\" font-family=\"Times,serif\" font-size=\"14.00\">data 0.0000</text>\n<polyline fill=\"none\" stroke=\"black\" points=\"466.25,-140 466.25,-175.5\"/>\n<text text-anchor=\"middle\" x=\"506.88\" y=\"-152.7\" font-family=\"Times,serif\" font-size=\"14.00\">grad 0.5000</text>\n</g>\n<!-- 4788887248&#45;&gt;4788889616+ -->\n<g id=\"edge22\" class=\"edge\">\n<title>4788887248&#45;&gt;4788889616+</title>\n<path fill=\"none\" stroke=\"black\" d=\"M547.99,-139.77C557.5,-138.24 566.61,-136.77 574.82,-135.45\"/>\n<polygon fill=\"black\" stroke=\"black\" points=\"575.33,-138.91 584.65,-133.86 574.22,-132 575.33,-138.91\"/>\n</g>\n<!-- 4788887248*&#45;&gt;4788887248 -->\n<g id=\"edge8\" class=\"edge\">\n<title>4788887248*&#45;&gt;4788887248</title>\n<path fill=\"none\" stroke=\"black\" d=\"M288.41,-157.5C296.06,-157.5 304.94,-157.5 314.49,-157.5\"/>\n<polygon fill=\"black\" stroke=\"black\" points=\"314.46,-161 324.46,-157.5 314.46,-154 314.46,-161\"/>\n</g>\n<!-- 4788888464 -->\n<g id=\"node20\" class=\"node\">\n<title>4788888464</title>\n<polygon fill=\"none\" stroke=\"black\" points=\"324,-84.5 324,-120.5 549.75,-120.5 549.75,-84.5 324,-84.5\"/>\n<text text-anchor=\"middle\" x=\"354.12\" y=\"-97.7\" font-family=\"Times,serif\" font-size=\"14.00\">x1 * w1</text>\n<polyline fill=\"none\" stroke=\"black\" points=\"384.25,-85 384.25,-120.5\"/>\n<text text-anchor=\"middle\" x=\"426.38\" y=\"-97.7\" font-family=\"Times,serif\" font-size=\"14.00\">data &#45;6.0000</text>\n<polyline fill=\"none\" stroke=\"black\" points=\"468.5,-85 468.5,-120.5\"/>\n<text text-anchor=\"middle\" x=\"509.12\" y=\"-97.7\" font-family=\"Times,serif\" font-size=\"14.00\">grad 0.5000</text>\n</g>\n<!-- 4788888464&#45;&gt;4788889616+ -->\n<g id=\"edge27\" class=\"edge\">\n<title>4788888464&#45;&gt;4788889616+</title>\n<path fill=\"none\" stroke=\"black\" d=\"M549.96,-119.9C558.76,-121.27 567.18,-122.58 574.82,-123.76\"/>\n<polygon fill=\"black\" stroke=\"black\" points=\"574.21,-127.21 584.63,-125.29 575.28,-120.3 574.21,-127.21\"/>\n</g>\n<!-- 4788888464*&#45;&gt;4788888464 -->\n<g id=\"edge9\" class=\"edge\">\n<title>4788888464*&#45;&gt;4788888464</title>\n<path fill=\"none\" stroke=\"black\" d=\"M288.41,-102.5C295.49,-102.5 303.63,-102.5 312.38,-102.5\"/>\n<polygon fill=\"black\" stroke=\"black\" points=\"312.24,-106 322.24,-102.5 312.24,-99 312.24,-106\"/>\n</g>\n<!-- 4788893904 -->\n<g id=\"node22\" class=\"node\">\n<title>4788893904</title>\n<polygon fill=\"none\" stroke=\"black\" points=\"1704,-110.5 1704,-146.5 1889.25,-146.5 1889.25,-110.5 1704,-110.5\"/>\n<text text-anchor=\"middle\" x=\"1713.88\" y=\"-123.7\" font-family=\"Times,serif\" font-size=\"14.00\"> </text>\n<polyline fill=\"none\" stroke=\"black\" points=\"1723.75,-111 1723.75,-146.5\"/>\n<text text-anchor=\"middle\" x=\"1763.62\" y=\"-123.7\" font-family=\"Times,serif\" font-size=\"14.00\">data 1.0000</text>\n<polyline fill=\"none\" stroke=\"black\" points=\"1803.5,-111 1803.5,-146.5\"/>\n<text text-anchor=\"middle\" x=\"1846.38\" y=\"-123.7\" font-family=\"Times,serif\" font-size=\"14.00\">grad &#45;0.1036</text>\n</g>\n<!-- 4788893904&#45;&gt;4788886544+ -->\n<g id=\"edge18\" class=\"edge\">\n<title>4788893904&#45;&gt;4788886544+</title>\n<path fill=\"none\" stroke=\"black\" d=\"M1889.65,-111.73C1898.39,-110.13 1906.86,-108.59 1914.58,-107.18\"/>\n<polygon fill=\"black\" stroke=\"black\" points=\"1914.95,-110.67 1924.16,-105.44 1913.69,-103.79 1914.95,-110.67\"/>\n</g>\n<!-- 4788892944 -->\n<g id=\"node23\" class=\"node\">\n<title>4788892944</title>\n<polygon fill=\"none\" stroke=\"black\" points=\"0,-29.5 0,-65.5 198,-65.5 198,-29.5 0,-29.5\"/>\n<text text-anchor=\"middle\" x=\"16.25\" y=\"-42.7\" font-family=\"Times,serif\" font-size=\"14.00\">w1</text>\n<polyline fill=\"none\" stroke=\"black\" points=\"32.5,-30 32.5,-65.5\"/>\n<text text-anchor=\"middle\" x=\"74.62\" y=\"-42.7\" font-family=\"Times,serif\" font-size=\"14.00\">data &#45;3.0000</text>\n<polyline fill=\"none\" stroke=\"black\" points=\"116.75,-30 116.75,-65.5\"/>\n<text text-anchor=\"middle\" x=\"157.38\" y=\"-42.7\" font-family=\"Times,serif\" font-size=\"14.00\">grad 1.0000</text>\n</g>\n<!-- 4788892944&#45;&gt;4788888464* -->\n<g id=\"edge19\" class=\"edge\">\n<title>4788892944&#45;&gt;4788888464*</title>\n<path fill=\"none\" stroke=\"black\" d=\"M168.91,-65.94C178.74,-68.93 188.67,-72.15 198,-75.5 207.96,-79.07 218.58,-83.47 228.18,-87.68\"/>\n<polygon fill=\"black\" stroke=\"black\" points=\"226.54,-90.78 237.1,-91.67 229.4,-84.39 226.54,-90.78\"/>\n</g>\n<!-- 4788883216 -->\n<g id=\"node24\" class=\"node\">\n<title>4788883216</title>\n<polygon fill=\"none\" stroke=\"black\" points=\"3.75,-139.5 3.75,-175.5 194.25,-175.5 194.25,-139.5 3.75,-139.5\"/>\n<text text-anchor=\"middle\" x=\"18.5\" y=\"-152.7\" font-family=\"Times,serif\" font-size=\"14.00\">x2</text>\n<polyline fill=\"none\" stroke=\"black\" points=\"33.25,-140 33.25,-175.5\"/>\n<text text-anchor=\"middle\" x=\"73.12\" y=\"-152.7\" font-family=\"Times,serif\" font-size=\"14.00\">data 0.0000</text>\n<polyline fill=\"none\" stroke=\"black\" points=\"113,-140 113,-175.5\"/>\n<text text-anchor=\"middle\" x=\"153.62\" y=\"-152.7\" font-family=\"Times,serif\" font-size=\"14.00\">grad 0.5000</text>\n</g>\n<!-- 4788883216&#45;&gt;4788887248* -->\n<g id=\"edge14\" class=\"edge\">\n<title>4788883216&#45;&gt;4788887248*</title>\n<path fill=\"none\" stroke=\"black\" d=\"M194.46,-157.5C204.21,-157.5 213.66,-157.5 222.21,-157.5\"/>\n<polygon fill=\"black\" stroke=\"black\" points=\"222.12,-161 232.12,-157.5 222.12,-154 222.12,-161\"/>\n</g>\n<!-- 4788895056 -->\n<g id=\"node25\" class=\"node\">\n<title>4788895056</title>\n<polygon fill=\"none\" stroke=\"black\" points=\"726.75,-56.5 726.75,-92.5 910.5,-92.5 910.5,-56.5 726.75,-56.5\"/>\n<text text-anchor=\"middle\" x=\"738.12\" y=\"-69.7\" font-family=\"Times,serif\" font-size=\"14.00\">b</text>\n<polyline fill=\"none\" stroke=\"black\" points=\"749.5,-57 749.5,-92.5\"/>\n<text text-anchor=\"middle\" x=\"789.38\" y=\"-69.7\" font-family=\"Times,serif\" font-size=\"14.00\">data 6.8814</text>\n<polyline fill=\"none\" stroke=\"black\" points=\"829.25,-57 829.25,-92.5\"/>\n<text text-anchor=\"middle\" x=\"869.88\" y=\"-69.7\" font-family=\"Times,serif\" font-size=\"14.00\">grad 0.5000</text>\n</g>\n<!-- 4788895056&#45;&gt;4788887760+ -->\n<g id=\"edge23\" class=\"edge\">\n<title>4788895056&#45;&gt;4788887760+</title>\n<path fill=\"none\" stroke=\"black\" d=\"M910.83,-86.58C937.54,-90.12 965.25,-93.79 986.5,-96.6\"/>\n<polygon fill=\"black\" stroke=\"black\" points=\"986.03,-100.07 996.4,-97.91 986.95,-93.13 986.03,-100.07\"/>\n</g>\n<!-- 4788885904 -->\n<g id=\"node26\" class=\"node\">\n<title>4788885904</title>\n<polygon fill=\"none\" stroke=\"black\" points=\"1089,-28.5 1089,-64.5 1269.75,-64.5 1269.75,-28.5 1089,-28.5\"/>\n<text text-anchor=\"middle\" x=\"1098.88\" y=\"-41.7\" font-family=\"Times,serif\" font-size=\"14.00\"> </text>\n<polyline fill=\"none\" stroke=\"black\" points=\"1108.75,-29 1108.75,-64.5\"/>\n<text text-anchor=\"middle\" x=\"1148.62\" y=\"-41.7\" font-family=\"Times,serif\" font-size=\"14.00\">data 2.0000</text>\n<polyline fill=\"none\" stroke=\"black\" points=\"1188.5,-29 1188.5,-64.5\"/>\n<text text-anchor=\"middle\" x=\"1229.12\" y=\"-41.7\" font-family=\"Times,serif\" font-size=\"14.00\">grad 0.2203</text>\n</g>\n<!-- 4788885904&#45;&gt;4788880336* -->\n<g id=\"edge17\" class=\"edge\">\n<title>4788885904&#45;&gt;4788880336*</title>\n<path fill=\"none\" stroke=\"black\" d=\"M1270.19,-62.36C1279.44,-64 1288.43,-65.58 1296.58,-67.02\"/>\n<polygon fill=\"black\" stroke=\"black\" points=\"1295.91,-70.46 1306.37,-68.75 1297.13,-63.57 1295.91,-70.46\"/>\n</g>\n<!-- 4788880336 -->\n<g id=\"node27\" class=\"node\">\n<title>4788880336</title>\n<polygon fill=\"none\" stroke=\"black\" points=\"1397.25,-55.5 1397.25,-91.5 1578,-91.5 1578,-55.5 1397.25,-55.5\"/>\n<text text-anchor=\"middle\" x=\"1407.12\" y=\"-68.7\" font-family=\"Times,serif\" font-size=\"14.00\"> </text>\n<polyline fill=\"none\" stroke=\"black\" points=\"1417,-56 1417,-91.5\"/>\n<text text-anchor=\"middle\" x=\"1456.88\" y=\"-68.7\" font-family=\"Times,serif\" font-size=\"14.00\">data 1.7627</text>\n<polyline fill=\"none\" stroke=\"black\" points=\"1496.75,-56 1496.75,-91.5\"/>\n<text text-anchor=\"middle\" x=\"1537.38\" y=\"-68.7\" font-family=\"Times,serif\" font-size=\"14.00\">grad 0.2500</text>\n</g>\n<!-- 4788880336&#45;&gt;4788884496exp -->\n<g id=\"edge21\" class=\"edge\">\n<title>4788880336&#45;&gt;4788884496exp</title>\n<path fill=\"none\" stroke=\"black\" d=\"M1578.43,-73.5C1586.77,-73.5 1594.87,-73.5 1602.31,-73.5\"/>\n<polygon fill=\"black\" stroke=\"black\" points=\"1602.25,-77 1612.25,-73.5 1602.25,-70 1602.25,-77\"/>\n</g>\n<!-- 4788880336*&#45;&gt;4788880336 -->\n<g id=\"edge10\" class=\"edge\">\n<title>4788880336*&#45;&gt;4788880336</title>\n<path fill=\"none\" stroke=\"black\" d=\"M1361.62,-73.5C1368.76,-73.5 1376.95,-73.5 1385.64,-73.5\"/>\n<polygon fill=\"black\" stroke=\"black\" points=\"1385.36,-77 1395.36,-73.5 1385.36,-70 1385.36,-77\"/>\n</g>\n</g>\n</svg>\n",
      "text/plain": [
       "<graphviz.graphs.Digraph at 0x11d70a7d0>"
      ]
     },
     "execution_count": 53,
     "metadata": {},
     "output_type": "execute_result"
    }
   ],
   "source": [
    "# inputs x1, x2\n",
    "x1 = Value(2.0, label='x1')\n",
    "x2 = Value(0.0, label='x2')\n",
    "# weights (synaptic strength of each input)\n",
    "w1 = Value(-3.0, label='w1')\n",
    "w2 = Value(1.0, label='w2')\n",
    "b = Value(6.8813735870195432, label='b')\n",
    "x1w1 = x1 * w1; x1w1.label = 'x1 * w1'\n",
    "x2w2 = x2 * w2; x2w2.label = 'x2 * w2'\n",
    "x1w1x2w2 = x1w1 + x2w2; x1w1x2w2.label = 'x1 * w1 + x2 * w2'\n",
    "n = x1w1x2w2 + b; n.label = 'n'\n",
    "e = (2*n).exp(); e.label = 'e'\n",
    "o = (e - 1) / (e + 1); o.label = 'o'\n",
    "o.backward()\n",
    "draw_dot(o)"
   ]
  },
  {
   "cell_type": "code",
   "execution_count": 51,
   "metadata": {},
   "outputs": [
    {
     "data": {
      "text/plain": [
       "Value(data=-2.0, label=)"
      ]
     },
     "execution_count": 51,
     "metadata": {},
     "output_type": "execute_result"
    }
   ],
   "source": [
    "a = Value(2.0)\n",
    "a + 1\n",
    "a * 2\n",
    "2 * a # python will first try to do a * 2, if that doesn't work, it will check if a has a rmul \n",
    "# implementation (fallback)\n",
    "a.exp()\n",
    "b = Value(4.0)\n",
    "\n",
    "# a / b = a * (b**-1)s\n",
    "# a / b\n",
    "# better to build in a generic way such that result can be derived from base expressions\n",
    "a / b\n",
    "a - b"
   ]
  },
  {
   "cell_type": "markdown",
   "metadata": {},
   "source": [
    "* Amazing thing: d/dx (e^x) = e^x"
   ]
  },
  {
   "cell_type": "code",
   "execution_count": null,
   "metadata": {},
   "outputs": [],
   "source": [
    "!pip3 install torch"
   ]
  },
  {
   "cell_type": "code",
   "execution_count": null,
   "metadata": {},
   "outputs": [],
   "source": [
    "import torch"
   ]
  },
  {
   "cell_type": "code",
   "execution_count": 55,
   "metadata": {},
   "outputs": [
    {
     "name": "stdout",
     "output_type": "stream",
     "text": [
      "0.7071066904050358\n",
      "----\n",
      "tensor([2.], dtype=torch.float64, requires_grad=True) -1.5000003851533106\n",
      "tensor([0.], dtype=torch.float64, requires_grad=True) 0.5000001283844369\n",
      "tensor([-3.], dtype=torch.float64, requires_grad=True) 1.0000002567688737\n",
      "tensor([1.], dtype=torch.float64, requires_grad=True) 0.0\n"
     ]
    }
   ],
   "source": [
    "\n",
    "x1 = torch.Tensor([2.0]).double()               ; x1.requires_grad = True\n",
    "x2 = torch.Tensor([0.0]).double()               ; x2.requires_grad = True\n",
    "w1 = torch.Tensor([-3.0]).double()              ; w1.requires_grad = True\n",
    "w2 = torch.Tensor([1.0]).double()               ; w2.requires_grad = True\n",
    "b = torch.Tensor([6.8813735870195432]).double() ; b.requires_grad = True\n",
    "# leaf nodes b default have requires_grad = False for optimization reasons, so we need to set it \n",
    "# explicitly.\n",
    "n = w1*x1 + w2*x2 + b\n",
    "o = torch.tanh(n)\n",
    "\n",
    "print(o.data.item())\n",
    "o.backward()\n",
    "\n",
    "print(\"----\")\n",
    "print(x1, x1.grad.item())\n",
    "print(x2, x2.grad.item())\n",
    "print(w1, w1.grad.item())\n",
    "print(w2, w2.grad.item())"
   ]
  }
 ],
 "metadata": {
  "kernelspec": {
   "display_name": "Python 3.11.5 64-bit",
   "language": "python",
   "name": "python3"
  },
  "language_info": {
   "codemirror_mode": {
    "name": "ipython",
    "version": 3
   },
   "file_extension": ".py",
   "mimetype": "text/x-python",
   "name": "python",
   "nbconvert_exporter": "python",
   "pygments_lexer": "ipython3",
   "version": "3.11.5"
  },
  "orig_nbformat": 4,
  "vscode": {
   "interpreter": {
    "hash": "b0fa6594d8f4cbf19f97940f81e996739fb7646882a419484c72d19e05852a7e"
   }
  }
 },
 "nbformat": 4,
 "nbformat_minor": 2
}
