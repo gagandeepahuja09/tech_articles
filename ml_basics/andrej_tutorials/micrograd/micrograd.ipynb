{
 "cells": [
  {
   "cell_type": "code",
   "execution_count": 75,
   "metadata": {},
   "outputs": [],
   "source": [
    "# 53:05"
   ]
  },
  {
   "cell_type": "code",
   "execution_count": null,
   "metadata": {},
   "outputs": [],
   "source": [
    "!pip3 install matplotlib\n",
    "!pip3 install graphviz"
   ]
  },
  {
   "cell_type": "code",
   "execution_count": 77,
   "metadata": {},
   "outputs": [],
   "source": [
    "import math\n",
    "import numpy as np\n",
    "import matplotlib.pyplot as plt\n",
    "%matplotlib inline"
   ]
  },
  {
   "cell_type": "code",
   "execution_count": 78,
   "metadata": {},
   "outputs": [],
   "source": [
    "def f(x):\n",
    "    return 3*x**2 - 4*x + 5"
   ]
  },
  {
   "cell_type": "code",
   "execution_count": 79,
   "metadata": {},
   "outputs": [
    {
     "data": {
      "text/plain": [
       "20.0"
      ]
     },
     "execution_count": 79,
     "metadata": {},
     "output_type": "execute_result"
    }
   ],
   "source": [
    "f(3.0)"
   ]
  },
  {
   "cell_type": "code",
   "execution_count": 80,
   "metadata": {},
   "outputs": [
    {
     "data": {
      "text/plain": [
       "[<matplotlib.lines.Line2D at 0x10e5cb7d0>]"
      ]
     },
     "execution_count": 80,
     "metadata": {},
     "output_type": "execute_result"
    },
    {
     "data": {
      "image/png": "[encoded data removed]",
      "text/plain": [
       "<Figure size 640x480 with 1 Axes>"
      ]
     },
     "metadata": {},
     "output_type": "display_data"
    }
   ],
   "source": [
    "xs = np.arange(-5, 5, 0.25)\n",
    "ys = f(xs)\n",
    "plt.plot(xs, ys)"
   ]
  },
  {
   "cell_type": "markdown",
   "metadata": {},
   "source": [
    "# What is a derivative\n",
    "If you look at the formula\n",
    "L = lim (h -> 0) (f(x + h) - f(x)) / h\n",
    "\n",
    "This states that if you slightly bump up x by a small amount, with what sensitivity does it respond. That is, what is its slope. Does it go up or down and by how much?"
   ]
  },
  {
   "cell_type": "code",
   "execution_count": 81,
   "metadata": {},
   "outputs": [
    {
     "data": {
      "text/plain": [
       "14.000003002223593"
      ]
     },
     "execution_count": 81,
     "metadata": {},
     "output_type": "execute_result"
    }
   ],
   "source": [
    "# Derivate of a simple function with one input \n",
    "h = 0.000001\n",
    "x = 3\n",
    "(f(x + h) - f(x)) / h"
   ]
  },
  {
   "cell_type": "code",
   "execution_count": 82,
   "metadata": {},
   "outputs": [
    {
     "name": "stdout",
     "output_type": "stream",
     "text": [
      "4.0 3.999699999999999\n",
      "-3.000000000010772\n",
      "2.0000000000042206\n",
      "0.9999999999976694\n"
     ]
    }
   ],
   "source": [
    "# Let's get a bit complex\n",
    "# Derivative of a function with multiple inputs\n",
    "h = 0.0001\n",
    "\n",
    "# inputs\n",
    "a = 2.0\n",
    "b = -3.0\n",
    "c = 10.0\n",
    "\n",
    "\n",
    "d1 = a*b + c\n",
    "d2 = (a + h)*b + c \n",
    "print(d1, d2)\n",
    "print((d2 - d1) / h) # derivate of d wrt a ==> b\n",
    "\n",
    "d3 = a*(b + h) + c\n",
    "print((d3 - d1) / h) # derivate of d wrt b ==> a\n",
    "\n",
    "d4 = a*b + c + h\n",
    "print((d4 - d1) / h) # derivate of d wrt c ==> 1"
   ]
  },
  {
   "cell_type": "markdown",
   "metadata": {},
   "source": [
    "# Neural networks\n",
    "They will be pretty massive mathematical expressions (just a class of mathematical expressions). We will need some data structures that will help maintain these expressions. This is the where the below class Value will help."
   ]
  },
  {
   "cell_type": "code",
   "execution_count": 153,
   "metadata": {},
   "outputs": [
    {
     "data": {
      "text/plain": [
       "Value(data=-8.0, label=L)"
      ]
     },
     "execution_count": 153,
     "metadata": {},
     "output_type": "execute_result"
    }
   ],
   "source": [
    "class Value:\n",
    "\n",
    "    def __init__(self, data, _children=(), _op = '', label = '', grad = 0.0):\n",
    "        self.data = data\n",
    "        self._prev = set(_children)\n",
    "        self._op = _op\n",
    "        self.label = label\n",
    "        self.grad = grad\n",
    "        # applicable for leaf node\n",
    "        self._backward = lambda: None\n",
    "\n",
    "    def __repr__(self):\n",
    "        return f\"Value(data={self.data}, label={self.label})\"\n",
    "    \n",
    "    def __add__(self, other):\n",
    "        out = Value(self.data + other.data, (self, other), '+')\n",
    "\n",
    "        def _backward():\n",
    "            self.grad += 1.0 * out.grad\n",
    "            other.grad += 1.0 * out.grad\n",
    "        out._backward = _backward\n",
    "        \n",
    "        return out\n",
    "\n",
    "    def __mul__(self, other):\n",
    "        out = Value(self.data * other.data, (self, other), '*')\n",
    "        \n",
    "        def _backward():\n",
    "            self.grad = other.data * out.grad\n",
    "            other.grad = self.data * out.grad\n",
    "        out._backward = _backward\n",
    "        \n",
    "        return out\n",
    "\n",
    "    def tanh(self):\n",
    "        x = self.data\n",
    "        t = (math.exp(2 * x) - 1) / (math.exp(2 * x) + 1)\n",
    "        out = Value(t, (self, ), 'tanh')\n",
    "\n",
    "        def _backward():\n",
    "            self.grad = (1 - t**2) * out.grad\n",
    "        out._backward = _backward\n",
    "        \n",
    "        return out\n",
    "\n",
    "    def backward(self):\n",
    "        self.grad = 1\n",
    "        topo = []\n",
    "        visited = set()\n",
    "\n",
    "        def build_topo(v):\n",
    "            if v not in visited:\n",
    "                visited.add(v)\n",
    "                for child in v._prev:\n",
    "                    build_topo(child)\n",
    "                topo.append(v)\n",
    "        build_topo(self)\n",
    "\n",
    "        for node in reversed(topo):\n",
    "            node._backward()\n",
    "\n",
    "a = Value(2.0, label='a')\n",
    "b = Value(-3.0, label='b')\n",
    "c = Value(10.0, label='c')\n",
    "e = a * b; e.label = 'e'\n",
    "d = e + c; d.label = 'd'\n",
    "f = Value(-2, label='f')\n",
    "L = d * f; L.label = 'L'\n",
    "L\n",
    "# (a.__mul__(b)).__add__(c)"
   ]
  },
  {
   "cell_type": "code",
   "execution_count": 91,
   "metadata": {},
   "outputs": [
    {
     "data": {
      "text/plain": [
       "{Value(data=-6.0, label=e), Value(data=10.0, label=c)}"
      ]
     },
     "execution_count": 91,
     "metadata": {},
     "output_type": "execute_result"
    }
   ],
   "source": [
    "d._prev"
   ]
  },
  {
   "cell_type": "code",
   "execution_count": 102,
   "metadata": {},
   "outputs": [],
   "source": [
    "from graphviz import Digraph\n",
    "\n",
    "def trace(root):\n",
    "    nodes, edges = set(), set()\n",
    "    def build(v):\n",
    "        if v not in nodes:\n",
    "            nodes.add(v)\n",
    "        for child in v._prev:\n",
    "            edges.add((child, v))\n",
    "            build(child)\n",
    "    build(root)\n",
    "    return nodes, edges\n",
    "\n",
    "def draw_dot(root):\n",
    "    dot = Digraph(format='svg', graph_attr={'rankdir': 'LR'}) # LR = Left to Right\n",
    "\n",
    "    nodes, edges = trace(root)\n",
    "    for n in nodes:\n",
    "        uid = str(id(n))\n",
    "        # for any value in the graph, create a rectangular ('record') node for it\n",
    "        dot.node(name = uid, label=\"{ %s | data %.4f | grad %.4f }\" % (n.label, n.data, n.grad), shape='record')\n",
    "        if n._op:\n",
    "            # if this value is result of some operation, create an op node for it\n",
    "            dot.node(name = uid + n._op, label = n._op)\n",
    "            # and connect this op node to the result node\n",
    "            dot.edge(uid + n._op, uid)\n",
    "\n",
    "    for n1, n2 in edges:\n",
    "        # connect n1 to the op node of n2\n",
    "        dot.edge(str(id(n1)), str(id(n2)) + n2._op)\n",
    "\n",
    "    return dot"
   ]
  },
  {
   "cell_type": "code",
   "execution_count": 104,
   "metadata": {},
   "outputs": [
    {
     "data": {
      "image/svg+xml": "<?xml version=\"1.0\" encoding=\"UTF-8\" standalone=\"no\"?>\n<!DOCTYPE svg PUBLIC \"-//W3C//DTD SVG 1.1//EN\"\n \"http://www.w3.org/Graphics/SVG/1.1/DTD/svg11.dtd\">\n<!-- Generated by graphviz version 9.0.0 (20230911.1827)\n -->\n<!-- Pages: 1 -->\n<svg width=\"1151pt\" height=\"156pt\"\n viewBox=\"0.00 0.00 1151.00 156.00\" xmlns=\"http://www.w3.org/2000/svg\" xmlns:xlink=\"http://www.w3.org/1999/xlink\">\n<g id=\"graph0\" class=\"graph\" transform=\"scale(1 1) rotate(0) translate(4 152)\">\n<polygon fill=\"white\" stroke=\"none\" points=\"-4,4 -4,-152 1147,-152 1147,4 -4,4\"/>\n<!-- 4555673232 -->\n<g id=\"node1\" class=\"node\">\n<title>4555673232</title>\n<polygon fill=\"none\" stroke=\"black\" points=\"4.88,-111.5 4.88,-147.5 187.88,-147.5 187.88,-111.5 4.88,-111.5\"/>\n<text text-anchor=\"middle\" x=\"15.88\" y=\"-124.7\" font-family=\"Times,serif\" font-size=\"14.00\">a</text>\n<polyline fill=\"none\" stroke=\"black\" points=\"26.88,-112 26.88,-147.5\"/>\n<text text-anchor=\"middle\" x=\"66.75\" y=\"-124.7\" font-family=\"Times,serif\" font-size=\"14.00\">data 2.0000</text>\n<polyline fill=\"none\" stroke=\"black\" points=\"106.62,-112 106.62,-147.5\"/>\n<text text-anchor=\"middle\" x=\"147.25\" y=\"-124.7\" font-family=\"Times,serif\" font-size=\"14.00\">grad 6.0000</text>\n</g>\n<!-- 4555675472* -->\n<g id=\"node6\" class=\"node\">\n<title>4555675472*</title>\n<ellipse fill=\"none\" stroke=\"black\" cx=\"255.75\" cy=\"-101.5\" rx=\"27\" ry=\"18\"/>\n<text text-anchor=\"middle\" x=\"255.75\" y=\"-96.45\" font-family=\"Times,serif\" font-size=\"14.00\">*</text>\n</g>\n<!-- 4555673232&#45;&gt;4555675472* -->\n<g id=\"edge4\" class=\"edge\">\n<title>4555673232&#45;&gt;4555675472*</title>\n<path fill=\"none\" stroke=\"black\" d=\"M188.01,-113.37C198.67,-111.48 209.04,-109.63 218.3,-107.99\"/>\n<polygon fill=\"black\" stroke=\"black\" points=\"218.65,-111.48 227.88,-106.28 217.42,-104.59 218.65,-111.48\"/>\n</g>\n<!-- 4555677904 -->\n<g id=\"node2\" class=\"node\">\n<title>4555677904</title>\n<polygon fill=\"none\" stroke=\"black\" points=\"953.25,-27.5 953.25,-63.5 1143,-63.5 1143,-27.5 953.25,-27.5\"/>\n<text text-anchor=\"middle\" x=\"965.38\" y=\"-40.7\" font-family=\"Times,serif\" font-size=\"14.00\">L</text>\n<polyline fill=\"none\" stroke=\"black\" points=\"977.5,-28 977.5,-63.5\"/>\n<text text-anchor=\"middle\" x=\"1019.62\" y=\"-40.7\" font-family=\"Times,serif\" font-size=\"14.00\">data &#45;8.0000</text>\n<polyline fill=\"none\" stroke=\"black\" points=\"1061.75,-28 1061.75,-63.5\"/>\n<text text-anchor=\"middle\" x=\"1102.38\" y=\"-40.7\" font-family=\"Times,serif\" font-size=\"14.00\">grad 1.0000</text>\n</g>\n<!-- 4555677904* -->\n<g id=\"node3\" class=\"node\">\n<title>4555677904*</title>\n<ellipse fill=\"none\" stroke=\"black\" cx=\"890.25\" cy=\"-45.5\" rx=\"27\" ry=\"18\"/>\n<text text-anchor=\"middle\" x=\"890.25\" y=\"-40.45\" font-family=\"Times,serif\" font-size=\"14.00\">*</text>\n</g>\n<!-- 4555677904*&#45;&gt;4555677904 -->\n<g id=\"edge1\" class=\"edge\">\n<title>4555677904*&#45;&gt;4555677904</title>\n<path fill=\"none\" stroke=\"black\" d=\"M917.69,-45.5C924.84,-45.5 933.03,-45.5 941.74,-45.5\"/>\n<polygon fill=\"black\" stroke=\"black\" points=\"941.51,-49 951.51,-45.5 941.51,-42 941.51,-49\"/>\n</g>\n<!-- 4555670800 -->\n<g id=\"node4\" class=\"node\">\n<title>4555670800</title>\n<polygon fill=\"none\" stroke=\"black\" points=\"318.75,-28.5 318.75,-64.5 513,-64.5 513,-28.5 318.75,-28.5\"/>\n<text text-anchor=\"middle\" x=\"329.75\" y=\"-41.7\" font-family=\"Times,serif\" font-size=\"14.00\">c</text>\n<polyline fill=\"none\" stroke=\"black\" points=\"340.75,-29 340.75,-64.5\"/>\n<text text-anchor=\"middle\" x=\"384\" y=\"-41.7\" font-family=\"Times,serif\" font-size=\"14.00\">data 10.0000</text>\n<polyline fill=\"none\" stroke=\"black\" points=\"427.25,-29 427.25,-64.5\"/>\n<text text-anchor=\"middle\" x=\"470.12\" y=\"-41.7\" font-family=\"Times,serif\" font-size=\"14.00\">grad &#45;2.0000</text>\n</g>\n<!-- 4555670992+ -->\n<g id=\"node10\" class=\"node\">\n<title>4555670992+</title>\n<ellipse fill=\"none\" stroke=\"black\" cx=\"576\" cy=\"-73.5\" rx=\"27\" ry=\"18\"/>\n<text text-anchor=\"middle\" x=\"576\" y=\"-68.45\" font-family=\"Times,serif\" font-size=\"14.00\">+</text>\n</g>\n<!-- 4555670800&#45;&gt;4555670992+ -->\n<g id=\"edge8\" class=\"edge\">\n<title>4555670800&#45;&gt;4555670992+</title>\n<path fill=\"none\" stroke=\"black\" d=\"M513.41,-62.98C522.1,-64.47 530.5,-65.9 538.15,-67.21\"/>\n<polygon fill=\"black\" stroke=\"black\" points=\"537.55,-70.66 548,-68.89 538.73,-63.76 537.55,-70.66\"/>\n</g>\n<!-- 4555675472 -->\n<g id=\"node5\" class=\"node\">\n<title>4555675472</title>\n<polygon fill=\"none\" stroke=\"black\" points=\"319.88,-83.5 319.88,-119.5 511.88,-119.5 511.88,-83.5 319.88,-83.5\"/>\n<text text-anchor=\"middle\" x=\"330.88\" y=\"-96.7\" font-family=\"Times,serif\" font-size=\"14.00\">e</text>\n<polyline fill=\"none\" stroke=\"black\" points=\"341.88,-84 341.88,-119.5\"/>\n<text text-anchor=\"middle\" x=\"384\" y=\"-96.7\" font-family=\"Times,serif\" font-size=\"14.00\">data &#45;6.0000</text>\n<polyline fill=\"none\" stroke=\"black\" points=\"426.12,-84 426.12,-119.5\"/>\n<text text-anchor=\"middle\" x=\"469\" y=\"-96.7\" font-family=\"Times,serif\" font-size=\"14.00\">grad &#45;2.0000</text>\n</g>\n<!-- 4555675472&#45;&gt;4555670992+ -->\n<g id=\"edge9\" class=\"edge\">\n<title>4555675472&#45;&gt;4555670992+</title>\n<path fill=\"none\" stroke=\"black\" d=\"M512.05,-84.65C521.28,-83.01 530.2,-81.43 538.29,-80\"/>\n<polygon fill=\"black\" stroke=\"black\" points=\"538.74,-83.47 547.98,-78.28 537.52,-76.58 538.74,-83.47\"/>\n</g>\n<!-- 4555675472*&#45;&gt;4555675472 -->\n<g id=\"edge2\" class=\"edge\">\n<title>4555675472*&#45;&gt;4555675472</title>\n<path fill=\"none\" stroke=\"black\" d=\"M283.22,-101.5C290.59,-101.5 299.09,-101.5 308.13,-101.5\"/>\n<polygon fill=\"black\" stroke=\"black\" points=\"307.89,-105 317.89,-101.5 307.89,-98 307.89,-105\"/>\n</g>\n<!-- 4555678544 -->\n<g id=\"node7\" class=\"node\">\n<title>4555678544</title>\n<polygon fill=\"none\" stroke=\"black\" points=\"0,-56.5 0,-92.5 192.75,-92.5 192.75,-56.5 0,-56.5\"/>\n<text text-anchor=\"middle\" x=\"11.38\" y=\"-69.7\" font-family=\"Times,serif\" font-size=\"14.00\">b</text>\n<polyline fill=\"none\" stroke=\"black\" points=\"22.75,-57 22.75,-92.5\"/>\n<text text-anchor=\"middle\" x=\"64.88\" y=\"-69.7\" font-family=\"Times,serif\" font-size=\"14.00\">data &#45;3.0000</text>\n<polyline fill=\"none\" stroke=\"black\" points=\"107,-57 107,-92.5\"/>\n<text text-anchor=\"middle\" x=\"149.88\" y=\"-69.7\" font-family=\"Times,serif\" font-size=\"14.00\">grad &#45;4.0000</text>\n</g>\n<!-- 4555678544&#45;&gt;4555675472* -->\n<g id=\"edge6\" class=\"edge\">\n<title>4555678544&#45;&gt;4555675472*</title>\n<path fill=\"none\" stroke=\"black\" d=\"M193,-90.91C201.81,-92.42 210.32,-93.88 218.06,-95.2\"/>\n<polygon fill=\"black\" stroke=\"black\" points=\"217.21,-98.61 227.66,-96.85 218.4,-91.71 217.21,-98.61\"/>\n</g>\n<!-- 4555679120 -->\n<g id=\"node8\" class=\"node\">\n<title>4555679120</title>\n<polygon fill=\"none\" stroke=\"black\" points=\"640.12,-0.5 640.12,-36.5 826.12,-36.5 826.12,-0.5 640.12,-0.5\"/>\n<text text-anchor=\"middle\" x=\"650.38\" y=\"-13.7\" font-family=\"Times,serif\" font-size=\"14.00\">f</text>\n<polyline fill=\"none\" stroke=\"black\" points=\"660.62,-1 660.62,-36.5\"/>\n<text text-anchor=\"middle\" x=\"702.75\" y=\"-13.7\" font-family=\"Times,serif\" font-size=\"14.00\">data &#45;2.0000</text>\n<polyline fill=\"none\" stroke=\"black\" points=\"744.88,-1 744.88,-36.5\"/>\n<text text-anchor=\"middle\" x=\"785.5\" y=\"-13.7\" font-family=\"Times,serif\" font-size=\"14.00\">grad 4.0000</text>\n</g>\n<!-- 4555679120&#45;&gt;4555677904* -->\n<g id=\"edge5\" class=\"edge\">\n<title>4555679120&#45;&gt;4555677904*</title>\n<path fill=\"none\" stroke=\"black\" d=\"M826.6,-34.6C835.76,-36.19 844.62,-37.73 852.67,-39.13\"/>\n<polygon fill=\"black\" stroke=\"black\" points=\"851.85,-42.54 862.3,-40.81 853.05,-35.65 851.85,-42.54\"/>\n</g>\n<!-- 4555670992 -->\n<g id=\"node9\" class=\"node\">\n<title>4555670992</title>\n<polygon fill=\"none\" stroke=\"black\" points=\"639,-55.5 639,-91.5 827.25,-91.5 827.25,-55.5 639,-55.5\"/>\n<text text-anchor=\"middle\" x=\"650.38\" y=\"-68.7\" font-family=\"Times,serif\" font-size=\"14.00\">d</text>\n<polyline fill=\"none\" stroke=\"black\" points=\"661.75,-56 661.75,-91.5\"/>\n<text text-anchor=\"middle\" x=\"701.62\" y=\"-68.7\" font-family=\"Times,serif\" font-size=\"14.00\">data 4.0000</text>\n<polyline fill=\"none\" stroke=\"black\" points=\"741.5,-56 741.5,-91.5\"/>\n<text text-anchor=\"middle\" x=\"784.38\" y=\"-68.7\" font-family=\"Times,serif\" font-size=\"14.00\">grad &#45;2.0000</text>\n</g>\n<!-- 4555670992&#45;&gt;4555677904* -->\n<g id=\"edge7\" class=\"edge\">\n<title>4555670992&#45;&gt;4555677904*</title>\n<path fill=\"none\" stroke=\"black\" d=\"M827.49,-56.65C836.36,-55.05 844.93,-53.5 852.73,-52.09\"/>\n<polygon fill=\"black\" stroke=\"black\" points=\"853.2,-55.56 862.42,-50.34 851.95,-48.68 853.2,-55.56\"/>\n</g>\n<!-- 4555670992+&#45;&gt;4555670992 -->\n<g id=\"edge3\" class=\"edge\">\n<title>4555670992+&#45;&gt;4555670992</title>\n<path fill=\"none\" stroke=\"black\" d=\"M603.31,-73.5C610.49,-73.5 618.72,-73.5 627.47,-73.5\"/>\n<polygon fill=\"black\" stroke=\"black\" points=\"627.29,-77 637.29,-73.5 627.29,-70 627.29,-77\"/>\n</g>\n</g>\n</svg>\n",
      "text/plain": [
       "<graphviz.graphs.Digraph at 0x10f4d5510>"
      ]
     },
     "execution_count": 104,
     "metadata": {},
     "output_type": "execute_result"
    }
   ],
   "source": [
    "L.grad = 1.0\n",
    "d.grad = -2.0\n",
    "f.grad = 4.0\n",
    "e.grad = -2.0\n",
    "c.grad = -2.0\n",
    "a.grad = 6.0\n",
    "b.grad = -4.0\n",
    "draw_dot(L)"
   ]
  },
  {
   "cell_type": "markdown",
   "metadata": {},
   "source": [
    "# Back propagation\n",
    "* What we did above was forward pass.\n",
    "* In back propagation, we are going to go reverse and calculate the gradient along all the intermediate values.\n",
    "* We will calculate the derivate of L (loss function) wrt every node (weights). This is what is required in a neural network.\n",
    "* In one example, we will do back propagation manually.\n",
    "* We calculated dL/dd = f and dL/df = d\n",
    "* For calculating de/dc, we applied chain rule in calculus. dL/dc = dL/dd.dd/dc.\n",
    "    * If car is 4x the speed of cycle and cycle is 4x the speed of man, car is 8x the speed of man.\n",
    "* Whenever we have a plus sign, in back propagation, the derivative would be just passed on, this is because the derivative will always be constant and after chain rule, it would just multiply by 1.\n",
    "* Similarly, when we have a multiply sign, just by multiply the derivate of parent, with the opposite multiply node."
   ]
  },
  {
   "cell_type": "markdown",
   "metadata": {},
   "source": [
    "# Manual Back Propagation Optimization Example\n",
    "* All of the nodes which are not dependent on any other nodes are leaf nodes or input nodes.\n",
    "* In this case, a, b, c and f are leaf nodes.\n",
    "* We want to increase the value of the loss function, which we will do by nudging these leaf nodes in the direction of the gradient and re-run the forward pass. "
   ]
  },
  {
   "cell_type": "code",
   "execution_count": 105,
   "metadata": {},
   "outputs": [
    {
     "data": {
      "text/plain": [
       "Value(data=-7.286496, label=)"
      ]
     },
     "execution_count": 105,
     "metadata": {},
     "output_type": "execute_result"
    }
   ],
   "source": [
    "# nudge in the direction of the gradient\n",
    "a.data += 0.01 * a.grad\n",
    "b.data += 0.01 * b.grad\n",
    "c.data += 0.01 * c.grad\n",
    "f.data += 0.01 * f.grad\n",
    "\n",
    "# re-run the forward pass\n",
    "e = a*b\n",
    "d = e + c\n",
    "L = d*f\n",
    "L # this increased value of L and made it slightly less negative."
   ]
  },
  {
   "cell_type": "markdown",
   "metadata": {},
   "source": [
    "We will now take a slightly complex example for manual backpropagation with a neuron (a multi-layer perceptron).\n",
    "\n",
    "x: inputs, w: weights of the inputs, b: can influence the output regardless of the input\n",
    "sigma(wi xi) + b\n",
    "\n",
    "* After that, we take it through some activation function. This activation function is usually some squashing function. eg: sigmoid or tanh.\n",
    "* Eg: tanh: it will cap the output smoothly at 1 for positive values and will cap the output smoothly at -1 for negative values."
   ]
  },
  {
   "cell_type": "code",
   "execution_count": 106,
   "metadata": {},
   "outputs": [
    {
     "data": {
      "image/png": "[encoded data removed]",
      "text/plain": [
       "<Figure size 640x480 with 1 Axes>"
      ]
     },
     "metadata": {},
     "output_type": "display_data"
    }
   ],
   "source": [
    "step_graph = np.arange(-5, 5, 0.2)\n",
    "plt.plot(step_graph, np.tanh(step_graph))\n",
    "plt.grid()"
   ]
  },
  {
   "cell_type": "code",
   "execution_count": 149,
   "metadata": {},
   "outputs": [
    {
     "data": {
      "image/svg+xml": "<?xml version=\"1.0\" encoding=\"UTF-8\" standalone=\"no\"?>\n<!DOCTYPE svg PUBLIC \"-//W3C//DTD SVG 1.1//EN\"\n \"http://www.w3.org/Graphics/SVG/1.1/DTD/svg11.dtd\">\n<!-- Generated by graphviz version 9.0.0 (20230911.1827)\n -->\n<!-- Pages: 1 -->\n<svg width=\"1589pt\" height=\"210pt\"\n viewBox=\"0.00 0.00 1589.00 210.00\" xmlns=\"http://www.w3.org/2000/svg\" xmlns:xlink=\"http://www.w3.org/1999/xlink\">\n<g id=\"graph0\" class=\"graph\" transform=\"scale(1 1) rotate(0) translate(4 206)\">\n<polygon fill=\"white\" stroke=\"none\" points=\"-4,4 -4,-206 1585,-206 1585,4 -4,4\"/>\n<!-- 4557496912 -->\n<g id=\"node1\" class=\"node\">\n<title>4557496912</title>\n<polygon fill=\"none\" stroke=\"black\" points=\"1087.5,-54.5 1087.5,-90.5 1271.25,-90.5 1271.25,-54.5 1087.5,-54.5\"/>\n<text text-anchor=\"middle\" x=\"1098.88\" y=\"-67.7\" font-family=\"Times,serif\" font-size=\"14.00\">n</text>\n<polyline fill=\"none\" stroke=\"black\" points=\"1110.25,-55 1110.25,-90.5\"/>\n<text text-anchor=\"middle\" x=\"1150.12\" y=\"-67.7\" font-family=\"Times,serif\" font-size=\"14.00\">data 0.8814</text>\n<polyline fill=\"none\" stroke=\"black\" points=\"1190,-55 1190,-90.5\"/>\n<text text-anchor=\"middle\" x=\"1230.62\" y=\"-67.7\" font-family=\"Times,serif\" font-size=\"14.00\">grad 0.0000</text>\n</g>\n<!-- 4557496656tanh -->\n<g id=\"node12\" class=\"node\">\n<title>4557496656tanh</title>\n<ellipse fill=\"none\" stroke=\"black\" cx=\"1334.25\" cy=\"-72.5\" rx=\"27\" ry=\"18\"/>\n<text text-anchor=\"middle\" x=\"1334.25\" y=\"-67.45\" font-family=\"Times,serif\" font-size=\"14.00\">tanh</text>\n</g>\n<!-- 4557496912&#45;&gt;4557496656tanh -->\n<g id=\"edge8\" class=\"edge\">\n<title>4557496912&#45;&gt;4557496656tanh</title>\n<path fill=\"none\" stroke=\"black\" d=\"M1271.51,-72.5C1279.89,-72.5 1288.02,-72.5 1295.48,-72.5\"/>\n<polygon fill=\"black\" stroke=\"black\" points=\"1295.45,-76 1305.45,-72.5 1295.45,-69 1295.45,-76\"/>\n</g>\n<!-- 4557496912+ -->\n<g id=\"node2\" class=\"node\">\n<title>4557496912+</title>\n<ellipse fill=\"none\" stroke=\"black\" cx=\"1024.5\" cy=\"-72.5\" rx=\"27\" ry=\"18\"/>\n<text text-anchor=\"middle\" x=\"1024.5\" y=\"-67.45\" font-family=\"Times,serif\" font-size=\"14.00\">+</text>\n</g>\n<!-- 4557496912+&#45;&gt;4557496912 -->\n<g id=\"edge1\" class=\"edge\">\n<title>4557496912+&#45;&gt;4557496912</title>\n<path fill=\"none\" stroke=\"black\" d=\"M1051.78,-72.5C1058.92,-72.5 1067.11,-72.5 1075.82,-72.5\"/>\n<polygon fill=\"black\" stroke=\"black\" points=\"1075.56,-76 1085.56,-72.5 1075.56,-69 1075.56,-76\"/>\n</g>\n<!-- 4557488272 -->\n<g id=\"node3\" class=\"node\">\n<title>4557488272</title>\n<polygon fill=\"none\" stroke=\"black\" points=\"675.75,-82.5 675.75,-118.5 961.5,-118.5 961.5,-82.5 675.75,-82.5\"/>\n<text text-anchor=\"middle\" x=\"735.88\" y=\"-95.7\" font-family=\"Times,serif\" font-size=\"14.00\">x1 * w1 + x2 * w2</text>\n<polyline fill=\"none\" stroke=\"black\" points=\"796,-83 796,-118.5\"/>\n<text text-anchor=\"middle\" x=\"838.12\" y=\"-95.7\" font-family=\"Times,serif\" font-size=\"14.00\">data &#45;6.0000</text>\n<polyline fill=\"none\" stroke=\"black\" points=\"880.25,-83 880.25,-118.5\"/>\n<text text-anchor=\"middle\" x=\"920.88\" y=\"-95.7\" font-family=\"Times,serif\" font-size=\"14.00\">grad 0.0000</text>\n</g>\n<!-- 4557488272&#45;&gt;4557496912+ -->\n<g id=\"edge14\" class=\"edge\">\n<title>4557488272&#45;&gt;4557496912+</title>\n<path fill=\"none\" stroke=\"black\" d=\"M954.19,-82.02C965.69,-80.44 976.56,-78.95 986.14,-77.63\"/>\n<polygon fill=\"black\" stroke=\"black\" points=\"986.6,-81.1 996.04,-76.27 985.65,-74.17 986.6,-81.1\"/>\n</g>\n<!-- 4557488272+ -->\n<g id=\"node4\" class=\"node\">\n<title>4557488272+</title>\n<ellipse fill=\"none\" stroke=\"black\" cx=\"612.75\" cy=\"-100.5\" rx=\"27\" ry=\"18\"/>\n<text text-anchor=\"middle\" x=\"612.75\" y=\"-95.45\" font-family=\"Times,serif\" font-size=\"14.00\">+</text>\n</g>\n<!-- 4557488272+&#45;&gt;4557488272 -->\n<g id=\"edge2\" class=\"edge\">\n<title>4557488272+&#45;&gt;4557488272</title>\n<path fill=\"none\" stroke=\"black\" d=\"M639.99,-100.5C647.1,-100.5 655.33,-100.5 664.29,-100.5\"/>\n<polygon fill=\"black\" stroke=\"black\" points=\"664.02,-104 674.02,-100.5 664.02,-97 664.02,-104\"/>\n</g>\n<!-- 4557502096 -->\n<g id=\"node5\" class=\"node\">\n<title>4557502096</title>\n<polygon fill=\"none\" stroke=\"black\" points=\"324,-110.5 324,-146.5 549.75,-146.5 549.75,-110.5 324,-110.5\"/>\n<text text-anchor=\"middle\" x=\"354.12\" y=\"-123.7\" font-family=\"Times,serif\" font-size=\"14.00\">x1 * w1</text>\n<polyline fill=\"none\" stroke=\"black\" points=\"384.25,-111 384.25,-146.5\"/>\n<text text-anchor=\"middle\" x=\"426.38\" y=\"-123.7\" font-family=\"Times,serif\" font-size=\"14.00\">data &#45;6.0000</text>\n<polyline fill=\"none\" stroke=\"black\" points=\"468.5,-111 468.5,-146.5\"/>\n<text text-anchor=\"middle\" x=\"509.12\" y=\"-123.7\" font-family=\"Times,serif\" font-size=\"14.00\">grad 0.0000</text>\n</g>\n<!-- 4557502096&#45;&gt;4557488272+ -->\n<g id=\"edge12\" class=\"edge\">\n<title>4557502096&#45;&gt;4557488272+</title>\n<path fill=\"none\" stroke=\"black\" d=\"M549.96,-110.45C558.76,-109.03 567.18,-107.68 574.82,-106.45\"/>\n<polygon fill=\"black\" stroke=\"black\" points=\"575.31,-109.91 584.63,-104.87 574.2,-103 575.31,-109.91\"/>\n</g>\n<!-- 4557502096* -->\n<g id=\"node6\" class=\"node\">\n<title>4557502096*</title>\n<ellipse fill=\"none\" stroke=\"black\" cx=\"261\" cy=\"-128.5\" rx=\"27\" ry=\"18\"/>\n<text text-anchor=\"middle\" x=\"261\" y=\"-123.45\" font-family=\"Times,serif\" font-size=\"14.00\">*</text>\n</g>\n<!-- 4557502096*&#45;&gt;4557502096 -->\n<g id=\"edge3\" class=\"edge\">\n<title>4557502096*&#45;&gt;4557502096</title>\n<path fill=\"none\" stroke=\"black\" d=\"M288.41,-128.5C295.49,-128.5 303.63,-128.5 312.38,-128.5\"/>\n<polygon fill=\"black\" stroke=\"black\" points=\"312.24,-132 322.24,-128.5 312.24,-125 312.24,-132\"/>\n</g>\n<!-- 4550408912 -->\n<g id=\"node7\" class=\"node\">\n<title>4550408912</title>\n<polygon fill=\"none\" stroke=\"black\" points=\"3.75,-165.5 3.75,-201.5 194.25,-201.5 194.25,-165.5 3.75,-165.5\"/>\n<text text-anchor=\"middle\" x=\"18.5\" y=\"-178.7\" font-family=\"Times,serif\" font-size=\"14.00\">x1</text>\n<polyline fill=\"none\" stroke=\"black\" points=\"33.25,-166 33.25,-201.5\"/>\n<text text-anchor=\"middle\" x=\"73.12\" y=\"-178.7\" font-family=\"Times,serif\" font-size=\"14.00\">data 2.0000</text>\n<polyline fill=\"none\" stroke=\"black\" points=\"113,-166 113,-201.5\"/>\n<text text-anchor=\"middle\" x=\"153.62\" y=\"-178.7\" font-family=\"Times,serif\" font-size=\"14.00\">grad 0.0000</text>\n</g>\n<!-- 4550408912&#45;&gt;4557502096* -->\n<g id=\"edge10\" class=\"edge\">\n<title>4550408912&#45;&gt;4557502096*</title>\n<path fill=\"none\" stroke=\"black\" d=\"M172.12,-165.01C180.9,-162.35 189.7,-159.5 198,-156.5 208.09,-152.86 218.82,-148.27 228.47,-143.88\"/>\n<polygon fill=\"black\" stroke=\"black\" points=\"229.86,-147.09 237.45,-139.69 226.9,-140.75 229.86,-147.09\"/>\n</g>\n<!-- 4534916816 -->\n<g id=\"node8\" class=\"node\">\n<title>4534916816</title>\n<polygon fill=\"none\" stroke=\"black\" points=\"0,-110.5 0,-146.5 198,-146.5 198,-110.5 0,-110.5\"/>\n<text text-anchor=\"middle\" x=\"16.25\" y=\"-123.7\" font-family=\"Times,serif\" font-size=\"14.00\">w1</text>\n<polyline fill=\"none\" stroke=\"black\" points=\"32.5,-111 32.5,-146.5\"/>\n<text text-anchor=\"middle\" x=\"74.62\" y=\"-123.7\" font-family=\"Times,serif\" font-size=\"14.00\">data &#45;3.0000</text>\n<polyline fill=\"none\" stroke=\"black\" points=\"116.75,-111 116.75,-146.5\"/>\n<text text-anchor=\"middle\" x=\"157.38\" y=\"-123.7\" font-family=\"Times,serif\" font-size=\"14.00\">grad 0.0000</text>\n</g>\n<!-- 4534916816&#45;&gt;4557502096* -->\n<g id=\"edge13\" class=\"edge\">\n<title>4534916816&#45;&gt;4557502096*</title>\n<path fill=\"none\" stroke=\"black\" d=\"M198.14,-128.5C206.61,-128.5 214.8,-128.5 222.29,-128.5\"/>\n<polygon fill=\"black\" stroke=\"black\" points=\"222.29,-132 232.29,-128.5 222.29,-125 222.29,-132\"/>\n</g>\n<!-- 4557489360 -->\n<g id=\"node9\" class=\"node\">\n<title>4557489360</title>\n<polygon fill=\"none\" stroke=\"black\" points=\"326.25,-55.5 326.25,-91.5 547.5,-91.5 547.5,-55.5 326.25,-55.5\"/>\n<text text-anchor=\"middle\" x=\"356.38\" y=\"-68.7\" font-family=\"Times,serif\" font-size=\"14.00\">x2 * w2</text>\n<polyline fill=\"none\" stroke=\"black\" points=\"386.5,-56 386.5,-91.5\"/>\n<text text-anchor=\"middle\" x=\"426.38\" y=\"-68.7\" font-family=\"Times,serif\" font-size=\"14.00\">data 0.0000</text>\n<polyline fill=\"none\" stroke=\"black\" points=\"466.25,-56 466.25,-91.5\"/>\n<text text-anchor=\"middle\" x=\"506.88\" y=\"-68.7\" font-family=\"Times,serif\" font-size=\"14.00\">grad 0.0000</text>\n</g>\n<!-- 4557489360&#45;&gt;4557488272+ -->\n<g id=\"edge9\" class=\"edge\">\n<title>4557489360&#45;&gt;4557488272+</title>\n<path fill=\"none\" stroke=\"black\" d=\"M547.99,-90.6C557.5,-92.08 566.61,-93.49 574.82,-94.77\"/>\n<polygon fill=\"black\" stroke=\"black\" points=\"574.23,-98.22 584.65,-96.29 575.3,-91.3 574.23,-98.22\"/>\n</g>\n<!-- 4557489360* -->\n<g id=\"node10\" class=\"node\">\n<title>4557489360*</title>\n<ellipse fill=\"none\" stroke=\"black\" cx=\"261\" cy=\"-73.5\" rx=\"27\" ry=\"18\"/>\n<text text-anchor=\"middle\" x=\"261\" y=\"-68.45\" font-family=\"Times,serif\" font-size=\"14.00\">*</text>\n</g>\n<!-- 4557489360*&#45;&gt;4557489360 -->\n<g id=\"edge4\" class=\"edge\">\n<title>4557489360*&#45;&gt;4557489360</title>\n<path fill=\"none\" stroke=\"black\" d=\"M288.41,-73.5C296.06,-73.5 304.94,-73.5 314.49,-73.5\"/>\n<polygon fill=\"black\" stroke=\"black\" points=\"314.46,-77 324.46,-73.5 314.46,-70 314.46,-77\"/>\n</g>\n<!-- 4557496656 -->\n<g id=\"node11\" class=\"node\">\n<title>4557496656</title>\n<polygon fill=\"none\" stroke=\"black\" points=\"1397.25,-54.5 1397.25,-90.5 1581,-90.5 1581,-54.5 1397.25,-54.5\"/>\n<text text-anchor=\"middle\" x=\"1408.62\" y=\"-67.7\" font-family=\"Times,serif\" font-size=\"14.00\">o</text>\n<polyline fill=\"none\" stroke=\"black\" points=\"1420,-55 1420,-90.5\"/>\n<text text-anchor=\"middle\" x=\"1459.88\" y=\"-67.7\" font-family=\"Times,serif\" font-size=\"14.00\">data 0.7071</text>\n<polyline fill=\"none\" stroke=\"black\" points=\"1499.75,-55 1499.75,-90.5\"/>\n<text text-anchor=\"middle\" x=\"1540.38\" y=\"-67.7\" font-family=\"Times,serif\" font-size=\"14.00\">grad 0.0000</text>\n</g>\n<!-- 4557496656tanh&#45;&gt;4557496656 -->\n<g id=\"edge5\" class=\"edge\">\n<title>4557496656tanh&#45;&gt;4557496656</title>\n<path fill=\"none\" stroke=\"black\" d=\"M1361.53,-72.5C1368.67,-72.5 1376.86,-72.5 1385.57,-72.5\"/>\n<polygon fill=\"black\" stroke=\"black\" points=\"1385.31,-76 1395.31,-72.5 1385.31,-69 1385.31,-76\"/>\n</g>\n<!-- 4557499728 -->\n<g id=\"node13\" class=\"node\">\n<title>4557499728</title>\n<polygon fill=\"none\" stroke=\"black\" points=\"2.25,-55.5 2.25,-91.5 195.75,-91.5 195.75,-55.5 2.25,-55.5\"/>\n<text text-anchor=\"middle\" x=\"18.5\" y=\"-68.7\" font-family=\"Times,serif\" font-size=\"14.00\">w2</text>\n<polyline fill=\"none\" stroke=\"black\" points=\"34.75,-56 34.75,-91.5\"/>\n<text text-anchor=\"middle\" x=\"74.62\" y=\"-68.7\" font-family=\"Times,serif\" font-size=\"14.00\">data 1.0000</text>\n<polyline fill=\"none\" stroke=\"black\" points=\"114.5,-56 114.5,-91.5\"/>\n<text text-anchor=\"middle\" x=\"155.12\" y=\"-68.7\" font-family=\"Times,serif\" font-size=\"14.00\">grad 0.0000</text>\n</g>\n<!-- 4557499728&#45;&gt;4557489360* -->\n<g id=\"edge6\" class=\"edge\">\n<title>4557499728&#45;&gt;4557489360*</title>\n<path fill=\"none\" stroke=\"black\" d=\"M195.84,-73.5C205.14,-73.5 214.15,-73.5 222.32,-73.5\"/>\n<polygon fill=\"black\" stroke=\"black\" points=\"222.13,-77 232.13,-73.5 222.13,-70 222.13,-77\"/>\n</g>\n<!-- 4557494608 -->\n<g id=\"node14\" class=\"node\">\n<title>4557494608</title>\n<polygon fill=\"none\" stroke=\"black\" points=\"726.75,-27.5 726.75,-63.5 910.5,-63.5 910.5,-27.5 726.75,-27.5\"/>\n<text text-anchor=\"middle\" x=\"738.12\" y=\"-40.7\" font-family=\"Times,serif\" font-size=\"14.00\">b</text>\n<polyline fill=\"none\" stroke=\"black\" points=\"749.5,-28 749.5,-63.5\"/>\n<text text-anchor=\"middle\" x=\"789.38\" y=\"-40.7\" font-family=\"Times,serif\" font-size=\"14.00\">data 6.8814</text>\n<polyline fill=\"none\" stroke=\"black\" points=\"829.25,-28 829.25,-63.5\"/>\n<text text-anchor=\"middle\" x=\"869.88\" y=\"-40.7\" font-family=\"Times,serif\" font-size=\"14.00\">grad 0.0000</text>\n</g>\n<!-- 4557494608&#45;&gt;4557496912+ -->\n<g id=\"edge7\" class=\"edge\">\n<title>4557494608&#45;&gt;4557496912+</title>\n<path fill=\"none\" stroke=\"black\" d=\"M910.83,-57.58C937.54,-61.12 965.25,-64.79 986.5,-67.6\"/>\n<polygon fill=\"black\" stroke=\"black\" points=\"986.03,-71.07 996.4,-68.91 986.95,-64.13 986.03,-71.07\"/>\n</g>\n<!-- 4550398416 -->\n<g id=\"node15\" class=\"node\">\n<title>4550398416</title>\n<polygon fill=\"none\" stroke=\"black\" points=\"3.75,-0.5 3.75,-36.5 194.25,-36.5 194.25,-0.5 3.75,-0.5\"/>\n<text text-anchor=\"middle\" x=\"18.5\" y=\"-13.7\" font-family=\"Times,serif\" font-size=\"14.00\">x2</text>\n<polyline fill=\"none\" stroke=\"black\" points=\"33.25,-1 33.25,-36.5\"/>\n<text text-anchor=\"middle\" x=\"73.12\" y=\"-13.7\" font-family=\"Times,serif\" font-size=\"14.00\">data 0.0000</text>\n<polyline fill=\"none\" stroke=\"black\" points=\"113,-1 113,-36.5\"/>\n<text text-anchor=\"middle\" x=\"153.62\" y=\"-13.7\" font-family=\"Times,serif\" font-size=\"14.00\">grad 0.0000</text>\n</g>\n<!-- 4550398416&#45;&gt;4557489360* -->\n<g id=\"edge11\" class=\"edge\">\n<title>4550398416&#45;&gt;4557489360*</title>\n<path fill=\"none\" stroke=\"black\" d=\"M172.12,-36.99C180.9,-39.65 189.7,-42.5 198,-45.5 208.09,-49.14 218.82,-53.73 228.47,-58.12\"/>\n<polygon fill=\"black\" stroke=\"black\" points=\"226.9,-61.25 237.45,-62.31 229.86,-54.91 226.9,-61.25\"/>\n</g>\n</g>\n</svg>\n",
      "text/plain": [
       "<graphviz.graphs.Digraph at 0x10fa5e090>"
      ]
     },
     "execution_count": 149,
     "metadata": {},
     "output_type": "execute_result"
    }
   ],
   "source": [
    "# inputs x1, x2\n",
    "x1 = Value(2.0, label='x1')\n",
    "x2 = Value(0.0, label='x2')\n",
    "# weights (synaptic strength of each input)\n",
    "w1 = Value(-3.0, label='w1')\n",
    "w2 = Value(1.0, label='w2')\n",
    "b = Value(6.8813735870195432, label='b')\n",
    "x1w1 = x1 * w1; x1w1.label = 'x1 * w1'\n",
    "x2w2 = x2 * w2; x2w2.label = 'x2 * w2'\n",
    "x1w1x2w2 = x1w1 + x2w2; x1w1x2w2.label = 'x1 * w1 + x2 * w2'\n",
    "n = x1w1x2w2 + b; n.label = 'n'\n",
    "o = n.tanh(); o.label = 'o'\n",
    "draw_dot(o)"
   ]
  },
  {
   "cell_type": "markdown",
   "metadata": {},
   "source": [
    "# Manual Backpropagation of the Neuron\n",
    "* do/do = 1\n",
    "* o = tanh(n)\n",
    "* do/dn = 1 - (tanh(n)**2) [this formula we can find online]\n",
    "* do/dn = 1 - (o**2)\n",
    "* If we see the below diagram, w2.grad = 0.0 as x2.data = 0. This makes sense because derivate always tells us the influence of the weight on the final output. If we change, w2 how is the output changing? It's not changing as the grad = 0.\n",
    "* We can also see that w1.grad = 1, which tells us that if we want to change the output, increase w1 will linearly increase the output."
   ]
  },
  {
   "cell_type": "code",
   "execution_count": 117,
   "metadata": {},
   "outputs": [
    {
     "data": {
      "image/svg+xml": "<?xml version=\"1.0\" encoding=\"UTF-8\" standalone=\"no\"?>\n<!DOCTYPE svg PUBLIC \"-//W3C//DTD SVG 1.1//EN\"\n \"http://www.w3.org/Graphics/SVG/1.1/DTD/svg11.dtd\">\n<!-- Generated by graphviz version 9.0.0 (20230911.1827)\n -->\n<!-- Pages: 1 -->\n<svg width=\"1589pt\" height=\"210pt\"\n viewBox=\"0.00 0.00 1589.00 210.00\" xmlns=\"http://www.w3.org/2000/svg\" xmlns:xlink=\"http://www.w3.org/1999/xlink\">\n<g id=\"graph0\" class=\"graph\" transform=\"scale(1 1) rotate(0) translate(4 206)\">\n<polygon fill=\"white\" stroke=\"none\" points=\"-4,4 -4,-206 1585,-206 1585,4 -4,4\"/>\n<!-- 4555749392 -->\n<g id=\"node1\" class=\"node\">\n<title>4555749392</title>\n<polygon fill=\"none\" stroke=\"black\" points=\"1.5,-165.5 1.5,-201.5 196.5,-201.5 196.5,-165.5 1.5,-165.5\"/>\n<text text-anchor=\"middle\" x=\"16.25\" y=\"-178.7\" font-family=\"Times,serif\" font-size=\"14.00\">x1</text>\n<polyline fill=\"none\" stroke=\"black\" points=\"31,-166 31,-201.5\"/>\n<text text-anchor=\"middle\" x=\"70.88\" y=\"-178.7\" font-family=\"Times,serif\" font-size=\"14.00\">data 2.0000</text>\n<polyline fill=\"none\" stroke=\"black\" points=\"110.75,-166 110.75,-201.5\"/>\n<text text-anchor=\"middle\" x=\"153.62\" y=\"-178.7\" font-family=\"Times,serif\" font-size=\"14.00\">grad &#45;1.5000</text>\n</g>\n<!-- 4550468112* -->\n<g id=\"node3\" class=\"node\">\n<title>4550468112*</title>\n<ellipse fill=\"none\" stroke=\"black\" cx=\"261\" cy=\"-128.5\" rx=\"27\" ry=\"18\"/>\n<text text-anchor=\"middle\" x=\"261\" y=\"-123.45\" font-family=\"Times,serif\" font-size=\"14.00\">*</text>\n</g>\n<!-- 4555749392&#45;&gt;4550468112* -->\n<g id=\"edge13\" class=\"edge\">\n<title>4555749392&#45;&gt;4550468112*</title>\n<path fill=\"none\" stroke=\"black\" d=\"M172.12,-165.01C180.9,-162.35 189.7,-159.5 198,-156.5 208.09,-152.86 218.82,-148.27 228.47,-143.88\"/>\n<polygon fill=\"black\" stroke=\"black\" points=\"229.86,-147.09 237.45,-139.69 226.9,-140.75 229.86,-147.09\"/>\n</g>\n<!-- 4550468112 -->\n<g id=\"node2\" class=\"node\">\n<title>4550468112</title>\n<polygon fill=\"none\" stroke=\"black\" points=\"324,-110.5 324,-146.5 549.75,-146.5 549.75,-110.5 324,-110.5\"/>\n<text text-anchor=\"middle\" x=\"354.12\" y=\"-123.7\" font-family=\"Times,serif\" font-size=\"14.00\">x1 * w1</text>\n<polyline fill=\"none\" stroke=\"black\" points=\"384.25,-111 384.25,-146.5\"/>\n<text text-anchor=\"middle\" x=\"426.38\" y=\"-123.7\" font-family=\"Times,serif\" font-size=\"14.00\">data &#45;6.0000</text>\n<polyline fill=\"none\" stroke=\"black\" points=\"468.5,-111 468.5,-146.5\"/>\n<text text-anchor=\"middle\" x=\"509.12\" y=\"-123.7\" font-family=\"Times,serif\" font-size=\"14.00\">grad 0.5000</text>\n</g>\n<!-- 4550473616+ -->\n<g id=\"node15\" class=\"node\">\n<title>4550473616+</title>\n<ellipse fill=\"none\" stroke=\"black\" cx=\"612.75\" cy=\"-100.5\" rx=\"27\" ry=\"18\"/>\n<text text-anchor=\"middle\" x=\"612.75\" y=\"-95.45\" font-family=\"Times,serif\" font-size=\"14.00\">+</text>\n</g>\n<!-- 4550468112&#45;&gt;4550473616+ -->\n<g id=\"edge12\" class=\"edge\">\n<title>4550468112&#45;&gt;4550473616+</title>\n<path fill=\"none\" stroke=\"black\" d=\"M549.96,-110.45C558.76,-109.03 567.18,-107.68 574.82,-106.45\"/>\n<polygon fill=\"black\" stroke=\"black\" points=\"575.31,-109.91 584.63,-104.87 574.2,-103 575.31,-109.91\"/>\n</g>\n<!-- 4550468112*&#45;&gt;4550468112 -->\n<g id=\"edge1\" class=\"edge\">\n<title>4550468112*&#45;&gt;4550468112</title>\n<path fill=\"none\" stroke=\"black\" d=\"M288.41,-128.5C295.49,-128.5 303.63,-128.5 312.38,-128.5\"/>\n<polygon fill=\"black\" stroke=\"black\" points=\"312.24,-132 322.24,-128.5 312.24,-125 312.24,-132\"/>\n</g>\n<!-- 4550465552 -->\n<g id=\"node4\" class=\"node\">\n<title>4550465552</title>\n<polygon fill=\"none\" stroke=\"black\" points=\"726.75,-27.5 726.75,-63.5 910.5,-63.5 910.5,-27.5 726.75,-27.5\"/>\n<text text-anchor=\"middle\" x=\"738.12\" y=\"-40.7\" font-family=\"Times,serif\" font-size=\"14.00\">b</text>\n<polyline fill=\"none\" stroke=\"black\" points=\"749.5,-28 749.5,-63.5\"/>\n<text text-anchor=\"middle\" x=\"789.38\" y=\"-40.7\" font-family=\"Times,serif\" font-size=\"14.00\">data 6.8814</text>\n<polyline fill=\"none\" stroke=\"black\" points=\"829.25,-28 829.25,-63.5\"/>\n<text text-anchor=\"middle\" x=\"869.88\" y=\"-40.7\" font-family=\"Times,serif\" font-size=\"14.00\">grad 0.5000</text>\n</g>\n<!-- 4550396624+ -->\n<g id=\"node9\" class=\"node\">\n<title>4550396624+</title>\n<ellipse fill=\"none\" stroke=\"black\" cx=\"1024.5\" cy=\"-72.5\" rx=\"27\" ry=\"18\"/>\n<text text-anchor=\"middle\" x=\"1024.5\" y=\"-67.45\" font-family=\"Times,serif\" font-size=\"14.00\">+</text>\n</g>\n<!-- 4550465552&#45;&gt;4550396624+ -->\n<g id=\"edge7\" class=\"edge\">\n<title>4550465552&#45;&gt;4550396624+</title>\n<path fill=\"none\" stroke=\"black\" d=\"M910.83,-57.58C937.54,-61.12 965.25,-64.79 986.5,-67.6\"/>\n<polygon fill=\"black\" stroke=\"black\" points=\"986.03,-71.07 996.4,-68.91 986.95,-64.13 986.03,-71.07\"/>\n</g>\n<!-- 4550465104 -->\n<g id=\"node5\" class=\"node\">\n<title>4550465104</title>\n<polygon fill=\"none\" stroke=\"black\" points=\"326.25,-55.5 326.25,-91.5 547.5,-91.5 547.5,-55.5 326.25,-55.5\"/>\n<text text-anchor=\"middle\" x=\"356.38\" y=\"-68.7\" font-family=\"Times,serif\" font-size=\"14.00\">x2 * w2</text>\n<polyline fill=\"none\" stroke=\"black\" points=\"386.5,-56 386.5,-91.5\"/>\n<text text-anchor=\"middle\" x=\"426.38\" y=\"-68.7\" font-family=\"Times,serif\" font-size=\"14.00\">data 0.0000</text>\n<polyline fill=\"none\" stroke=\"black\" points=\"466.25,-56 466.25,-91.5\"/>\n<text text-anchor=\"middle\" x=\"506.88\" y=\"-68.7\" font-family=\"Times,serif\" font-size=\"14.00\">grad 0.5000</text>\n</g>\n<!-- 4550465104&#45;&gt;4550473616+ -->\n<g id=\"edge11\" class=\"edge\">\n<title>4550465104&#45;&gt;4550473616+</title>\n<path fill=\"none\" stroke=\"black\" d=\"M547.99,-90.6C557.5,-92.08 566.61,-93.49 574.82,-94.77\"/>\n<polygon fill=\"black\" stroke=\"black\" points=\"574.23,-98.22 584.65,-96.29 575.3,-91.3 574.23,-98.22\"/>\n</g>\n<!-- 4550465104* -->\n<g id=\"node6\" class=\"node\">\n<title>4550465104*</title>\n<ellipse fill=\"none\" stroke=\"black\" cx=\"261\" cy=\"-73.5\" rx=\"27\" ry=\"18\"/>\n<text text-anchor=\"middle\" x=\"261\" y=\"-68.45\" font-family=\"Times,serif\" font-size=\"14.00\">*</text>\n</g>\n<!-- 4550465104*&#45;&gt;4550465104 -->\n<g id=\"edge2\" class=\"edge\">\n<title>4550465104*&#45;&gt;4550465104</title>\n<path fill=\"none\" stroke=\"black\" d=\"M288.41,-73.5C296.06,-73.5 304.94,-73.5 314.49,-73.5\"/>\n<polygon fill=\"black\" stroke=\"black\" points=\"314.46,-77 324.46,-73.5 314.46,-70 314.46,-77\"/>\n</g>\n<!-- 4550473872 -->\n<g id=\"node7\" class=\"node\">\n<title>4550473872</title>\n<polygon fill=\"none\" stroke=\"black\" points=\"2.25,-55.5 2.25,-91.5 195.75,-91.5 195.75,-55.5 2.25,-55.5\"/>\n<text text-anchor=\"middle\" x=\"18.5\" y=\"-68.7\" font-family=\"Times,serif\" font-size=\"14.00\">w2</text>\n<polyline fill=\"none\" stroke=\"black\" points=\"34.75,-56 34.75,-91.5\"/>\n<text text-anchor=\"middle\" x=\"74.62\" y=\"-68.7\" font-family=\"Times,serif\" font-size=\"14.00\">data 1.0000</text>\n<polyline fill=\"none\" stroke=\"black\" points=\"114.5,-56 114.5,-91.5\"/>\n<text text-anchor=\"middle\" x=\"155.12\" y=\"-68.7\" font-family=\"Times,serif\" font-size=\"14.00\">grad 0.0000</text>\n</g>\n<!-- 4550473872&#45;&gt;4550465104* -->\n<g id=\"edge10\" class=\"edge\">\n<title>4550473872&#45;&gt;4550465104*</title>\n<path fill=\"none\" stroke=\"black\" d=\"M195.84,-73.5C205.14,-73.5 214.15,-73.5 222.32,-73.5\"/>\n<polygon fill=\"black\" stroke=\"black\" points=\"222.13,-77 232.13,-73.5 222.13,-70 222.13,-77\"/>\n</g>\n<!-- 4550396624 -->\n<g id=\"node8\" class=\"node\">\n<title>4550396624</title>\n<polygon fill=\"none\" stroke=\"black\" points=\"1087.5,-54.5 1087.5,-90.5 1271.25,-90.5 1271.25,-54.5 1087.5,-54.5\"/>\n<text text-anchor=\"middle\" x=\"1098.88\" y=\"-67.7\" font-family=\"Times,serif\" font-size=\"14.00\">n</text>\n<polyline fill=\"none\" stroke=\"black\" points=\"1110.25,-55 1110.25,-90.5\"/>\n<text text-anchor=\"middle\" x=\"1150.12\" y=\"-67.7\" font-family=\"Times,serif\" font-size=\"14.00\">data 0.8814</text>\n<polyline fill=\"none\" stroke=\"black\" points=\"1190,-55 1190,-90.5\"/>\n<text text-anchor=\"middle\" x=\"1230.62\" y=\"-67.7\" font-family=\"Times,serif\" font-size=\"14.00\">grad 0.5000</text>\n</g>\n<!-- 4550402448tanh -->\n<g id=\"node11\" class=\"node\">\n<title>4550402448tanh</title>\n<ellipse fill=\"none\" stroke=\"black\" cx=\"1334.25\" cy=\"-72.5\" rx=\"27\" ry=\"18\"/>\n<text text-anchor=\"middle\" x=\"1334.25\" y=\"-67.45\" font-family=\"Times,serif\" font-size=\"14.00\">tanh</text>\n</g>\n<!-- 4550396624&#45;&gt;4550402448tanh -->\n<g id=\"edge6\" class=\"edge\">\n<title>4550396624&#45;&gt;4550402448tanh</title>\n<path fill=\"none\" stroke=\"black\" d=\"M1271.51,-72.5C1279.89,-72.5 1288.02,-72.5 1295.48,-72.5\"/>\n<polygon fill=\"black\" stroke=\"black\" points=\"1295.45,-76 1305.45,-72.5 1295.45,-69 1295.45,-76\"/>\n</g>\n<!-- 4550396624+&#45;&gt;4550396624 -->\n<g id=\"edge3\" class=\"edge\">\n<title>4550396624+&#45;&gt;4550396624</title>\n<path fill=\"none\" stroke=\"black\" d=\"M1051.78,-72.5C1058.92,-72.5 1067.11,-72.5 1075.82,-72.5\"/>\n<polygon fill=\"black\" stroke=\"black\" points=\"1075.56,-76 1085.56,-72.5 1075.56,-69 1075.56,-76\"/>\n</g>\n<!-- 4550402448 -->\n<g id=\"node10\" class=\"node\">\n<title>4550402448</title>\n<polygon fill=\"none\" stroke=\"black\" points=\"1397.25,-54.5 1397.25,-90.5 1581,-90.5 1581,-54.5 1397.25,-54.5\"/>\n<text text-anchor=\"middle\" x=\"1408.62\" y=\"-67.7\" font-family=\"Times,serif\" font-size=\"14.00\">o</text>\n<polyline fill=\"none\" stroke=\"black\" points=\"1420,-55 1420,-90.5\"/>\n<text text-anchor=\"middle\" x=\"1459.88\" y=\"-67.7\" font-family=\"Times,serif\" font-size=\"14.00\">data 0.7071</text>\n<polyline fill=\"none\" stroke=\"black\" points=\"1499.75,-55 1499.75,-90.5\"/>\n<text text-anchor=\"middle\" x=\"1540.38\" y=\"-67.7\" font-family=\"Times,serif\" font-size=\"14.00\">grad 1.0000</text>\n</g>\n<!-- 4550402448tanh&#45;&gt;4550402448 -->\n<g id=\"edge4\" class=\"edge\">\n<title>4550402448tanh&#45;&gt;4550402448</title>\n<path fill=\"none\" stroke=\"black\" d=\"M1361.53,-72.5C1368.67,-72.5 1376.86,-72.5 1385.57,-72.5\"/>\n<polygon fill=\"black\" stroke=\"black\" points=\"1385.31,-76 1395.31,-72.5 1385.31,-69 1385.31,-76\"/>\n</g>\n<!-- 4550475472 -->\n<g id=\"node12\" class=\"node\">\n<title>4550475472</title>\n<polygon fill=\"none\" stroke=\"black\" points=\"0,-110.5 0,-146.5 198,-146.5 198,-110.5 0,-110.5\"/>\n<text text-anchor=\"middle\" x=\"16.25\" y=\"-123.7\" font-family=\"Times,serif\" font-size=\"14.00\">w1</text>\n<polyline fill=\"none\" stroke=\"black\" points=\"32.5,-111 32.5,-146.5\"/>\n<text text-anchor=\"middle\" x=\"74.62\" y=\"-123.7\" font-family=\"Times,serif\" font-size=\"14.00\">data &#45;3.0000</text>\n<polyline fill=\"none\" stroke=\"black\" points=\"116.75,-111 116.75,-146.5\"/>\n<text text-anchor=\"middle\" x=\"157.38\" y=\"-123.7\" font-family=\"Times,serif\" font-size=\"14.00\">grad 1.0000</text>\n</g>\n<!-- 4550475472&#45;&gt;4550468112* -->\n<g id=\"edge8\" class=\"edge\">\n<title>4550475472&#45;&gt;4550468112*</title>\n<path fill=\"none\" stroke=\"black\" d=\"M198.14,-128.5C206.61,-128.5 214.8,-128.5 222.29,-128.5\"/>\n<polygon fill=\"black\" stroke=\"black\" points=\"222.29,-132 232.29,-128.5 222.29,-125 222.29,-132\"/>\n</g>\n<!-- 4555676432 -->\n<g id=\"node13\" class=\"node\">\n<title>4555676432</title>\n<polygon fill=\"none\" stroke=\"black\" points=\"3.75,-0.5 3.75,-36.5 194.25,-36.5 194.25,-0.5 3.75,-0.5\"/>\n<text text-anchor=\"middle\" x=\"18.5\" y=\"-13.7\" font-family=\"Times,serif\" font-size=\"14.00\">x2</text>\n<polyline fill=\"none\" stroke=\"black\" points=\"33.25,-1 33.25,-36.5\"/>\n<text text-anchor=\"middle\" x=\"73.12\" y=\"-13.7\" font-family=\"Times,serif\" font-size=\"14.00\">data 0.0000</text>\n<polyline fill=\"none\" stroke=\"black\" points=\"113,-1 113,-36.5\"/>\n<text text-anchor=\"middle\" x=\"153.62\" y=\"-13.7\" font-family=\"Times,serif\" font-size=\"14.00\">grad 0.5000</text>\n</g>\n<!-- 4555676432&#45;&gt;4550465104* -->\n<g id=\"edge9\" class=\"edge\">\n<title>4555676432&#45;&gt;4550465104*</title>\n<path fill=\"none\" stroke=\"black\" d=\"M168.91,-36.94C178.74,-39.93 188.67,-43.15 198,-46.5 207.96,-50.07 218.58,-54.47 228.18,-58.68\"/>\n<polygon fill=\"black\" stroke=\"black\" points=\"226.54,-61.78 237.1,-62.67 229.4,-55.39 226.54,-61.78\"/>\n</g>\n<!-- 4550473616 -->\n<g id=\"node14\" class=\"node\">\n<title>4550473616</title>\n<polygon fill=\"none\" stroke=\"black\" points=\"675.75,-82.5 675.75,-118.5 961.5,-118.5 961.5,-82.5 675.75,-82.5\"/>\n<text text-anchor=\"middle\" x=\"735.88\" y=\"-95.7\" font-family=\"Times,serif\" font-size=\"14.00\">x1 * w1 + x2 * w2</text>\n<polyline fill=\"none\" stroke=\"black\" points=\"796,-83 796,-118.5\"/>\n<text text-anchor=\"middle\" x=\"838.12\" y=\"-95.7\" font-family=\"Times,serif\" font-size=\"14.00\">data &#45;6.0000</text>\n<polyline fill=\"none\" stroke=\"black\" points=\"880.25,-83 880.25,-118.5\"/>\n<text text-anchor=\"middle\" x=\"920.88\" y=\"-95.7\" font-family=\"Times,serif\" font-size=\"14.00\">grad 0.5000</text>\n</g>\n<!-- 4550473616&#45;&gt;4550396624+ -->\n<g id=\"edge14\" class=\"edge\">\n<title>4550473616&#45;&gt;4550396624+</title>\n<path fill=\"none\" stroke=\"black\" d=\"M954.19,-82.02C965.69,-80.44 976.56,-78.95 986.14,-77.63\"/>\n<polygon fill=\"black\" stroke=\"black\" points=\"986.6,-81.1 996.04,-76.27 985.65,-74.17 986.6,-81.1\"/>\n</g>\n<!-- 4550473616+&#45;&gt;4550473616 -->\n<g id=\"edge5\" class=\"edge\">\n<title>4550473616+&#45;&gt;4550473616</title>\n<path fill=\"none\" stroke=\"black\" d=\"M639.99,-100.5C647.1,-100.5 655.33,-100.5 664.29,-100.5\"/>\n<polygon fill=\"black\" stroke=\"black\" points=\"664.02,-104 674.02,-100.5 664.02,-97 664.02,-104\"/>\n</g>\n</g>\n</svg>\n",
      "text/plain": [
       "<graphviz.graphs.Digraph at 0x10e58e810>"
      ]
     },
     "execution_count": 117,
     "metadata": {},
     "output_type": "execute_result"
    }
   ],
   "source": [
    "o.grad = 1.0\n",
    "n.grad = 0.5\n",
    "x1w1x2w2.grad = 0.5\n",
    "b.grad = 0.5\n",
    "x1w1.grad = 0.5\n",
    "x2w2.grad = 0.5\n",
    "x1.grad = -1.5\n",
    "w1.grad = 1.0\n",
    "x2.grad = 0.5\n",
    "w2.grad = 0.0\n",
    "draw_dot(o)"
   ]
  },
  {
   "cell_type": "code",
   "execution_count": 145,
   "metadata": {},
   "outputs": [],
   "source": [
    "def reset_grad():\n",
    "    o.grad = 0.0\n",
    "    n.grad = 0.0\n",
    "    x1w1x2w2.grad = 0.0\n",
    "    b.grad = 0.0\n",
    "    x1w1.grad = 0.0\n",
    "    x2w2.grad = 0.0\n",
    "    x1.grad = 0.0\n",
    "    w1.grad = 0.0\n",
    "    x2.grad = 0.0\n",
    "    w2.grad = 0.0\n",
    "reset_grad()"
   ]
  },
  {
   "cell_type": "code",
   "execution_count": 151,
   "metadata": {},
   "outputs": [
    {
     "data": {
      "image/svg+xml": "<?xml version=\"1.0\" encoding=\"UTF-8\" standalone=\"no\"?>\n<!DOCTYPE svg PUBLIC \"-//W3C//DTD SVG 1.1//EN\"\n \"http://www.w3.org/Graphics/SVG/1.1/DTD/svg11.dtd\">\n<!-- Generated by graphviz version 9.0.0 (20230911.1827)\n -->\n<!-- Pages: 1 -->\n<svg width=\"1589pt\" height=\"210pt\"\n viewBox=\"0.00 0.00 1589.00 210.00\" xmlns=\"http://www.w3.org/2000/svg\" xmlns:xlink=\"http://www.w3.org/1999/xlink\">\n<g id=\"graph0\" class=\"graph\" transform=\"scale(1 1) rotate(0) translate(4 206)\">\n<polygon fill=\"white\" stroke=\"none\" points=\"-4,4 -4,-206 1585,-206 1585,4 -4,4\"/>\n<!-- 4557496912 -->\n<g id=\"node1\" class=\"node\">\n<title>4557496912</title>\n<polygon fill=\"none\" stroke=\"black\" points=\"1087.5,-54.5 1087.5,-90.5 1271.25,-90.5 1271.25,-54.5 1087.5,-54.5\"/>\n<text text-anchor=\"middle\" x=\"1098.88\" y=\"-67.7\" font-family=\"Times,serif\" font-size=\"14.00\">n</text>\n<polyline fill=\"none\" stroke=\"black\" points=\"1110.25,-55 1110.25,-90.5\"/>\n<text text-anchor=\"middle\" x=\"1150.12\" y=\"-67.7\" font-family=\"Times,serif\" font-size=\"14.00\">data 0.8814</text>\n<polyline fill=\"none\" stroke=\"black\" points=\"1190,-55 1190,-90.5\"/>\n<text text-anchor=\"middle\" x=\"1230.62\" y=\"-67.7\" font-family=\"Times,serif\" font-size=\"14.00\">grad 0.5000</text>\n</g>\n<!-- 4557496656tanh -->\n<g id=\"node12\" class=\"node\">\n<title>4557496656tanh</title>\n<ellipse fill=\"none\" stroke=\"black\" cx=\"1334.25\" cy=\"-72.5\" rx=\"27\" ry=\"18\"/>\n<text text-anchor=\"middle\" x=\"1334.25\" y=\"-67.45\" font-family=\"Times,serif\" font-size=\"14.00\">tanh</text>\n</g>\n<!-- 4557496912&#45;&gt;4557496656tanh -->\n<g id=\"edge8\" class=\"edge\">\n<title>4557496912&#45;&gt;4557496656tanh</title>\n<path fill=\"none\" stroke=\"black\" d=\"M1271.51,-72.5C1279.89,-72.5 1288.02,-72.5 1295.48,-72.5\"/>\n<polygon fill=\"black\" stroke=\"black\" points=\"1295.45,-76 1305.45,-72.5 1295.45,-69 1295.45,-76\"/>\n</g>\n<!-- 4557496912+ -->\n<g id=\"node2\" class=\"node\">\n<title>4557496912+</title>\n<ellipse fill=\"none\" stroke=\"black\" cx=\"1024.5\" cy=\"-72.5\" rx=\"27\" ry=\"18\"/>\n<text text-anchor=\"middle\" x=\"1024.5\" y=\"-67.45\" font-family=\"Times,serif\" font-size=\"14.00\">+</text>\n</g>\n<!-- 4557496912+&#45;&gt;4557496912 -->\n<g id=\"edge1\" class=\"edge\">\n<title>4557496912+&#45;&gt;4557496912</title>\n<path fill=\"none\" stroke=\"black\" d=\"M1051.78,-72.5C1058.92,-72.5 1067.11,-72.5 1075.82,-72.5\"/>\n<polygon fill=\"black\" stroke=\"black\" points=\"1075.56,-76 1085.56,-72.5 1075.56,-69 1075.56,-76\"/>\n</g>\n<!-- 4557488272 -->\n<g id=\"node3\" class=\"node\">\n<title>4557488272</title>\n<polygon fill=\"none\" stroke=\"black\" points=\"675.75,-82.5 675.75,-118.5 961.5,-118.5 961.5,-82.5 675.75,-82.5\"/>\n<text text-anchor=\"middle\" x=\"735.88\" y=\"-95.7\" font-family=\"Times,serif\" font-size=\"14.00\">x1 * w1 + x2 * w2</text>\n<polyline fill=\"none\" stroke=\"black\" points=\"796,-83 796,-118.5\"/>\n<text text-anchor=\"middle\" x=\"838.12\" y=\"-95.7\" font-family=\"Times,serif\" font-size=\"14.00\">data &#45;6.0000</text>\n<polyline fill=\"none\" stroke=\"black\" points=\"880.25,-83 880.25,-118.5\"/>\n<text text-anchor=\"middle\" x=\"920.88\" y=\"-95.7\" font-family=\"Times,serif\" font-size=\"14.00\">grad 0.5000</text>\n</g>\n<!-- 4557488272&#45;&gt;4557496912+ -->\n<g id=\"edge14\" class=\"edge\">\n<title>4557488272&#45;&gt;4557496912+</title>\n<path fill=\"none\" stroke=\"black\" d=\"M954.19,-82.02C965.69,-80.44 976.56,-78.95 986.14,-77.63\"/>\n<polygon fill=\"black\" stroke=\"black\" points=\"986.6,-81.1 996.04,-76.27 985.65,-74.17 986.6,-81.1\"/>\n</g>\n<!-- 4557488272+ -->\n<g id=\"node4\" class=\"node\">\n<title>4557488272+</title>\n<ellipse fill=\"none\" stroke=\"black\" cx=\"612.75\" cy=\"-100.5\" rx=\"27\" ry=\"18\"/>\n<text text-anchor=\"middle\" x=\"612.75\" y=\"-95.45\" font-family=\"Times,serif\" font-size=\"14.00\">+</text>\n</g>\n<!-- 4557488272+&#45;&gt;4557488272 -->\n<g id=\"edge2\" class=\"edge\">\n<title>4557488272+&#45;&gt;4557488272</title>\n<path fill=\"none\" stroke=\"black\" d=\"M639.99,-100.5C647.1,-100.5 655.33,-100.5 664.29,-100.5\"/>\n<polygon fill=\"black\" stroke=\"black\" points=\"664.02,-104 674.02,-100.5 664.02,-97 664.02,-104\"/>\n</g>\n<!-- 4557502096 -->\n<g id=\"node5\" class=\"node\">\n<title>4557502096</title>\n<polygon fill=\"none\" stroke=\"black\" points=\"324,-110.5 324,-146.5 549.75,-146.5 549.75,-110.5 324,-110.5\"/>\n<text text-anchor=\"middle\" x=\"354.12\" y=\"-123.7\" font-family=\"Times,serif\" font-size=\"14.00\">x1 * w1</text>\n<polyline fill=\"none\" stroke=\"black\" points=\"384.25,-111 384.25,-146.5\"/>\n<text text-anchor=\"middle\" x=\"426.38\" y=\"-123.7\" font-family=\"Times,serif\" font-size=\"14.00\">data &#45;6.0000</text>\n<polyline fill=\"none\" stroke=\"black\" points=\"468.5,-111 468.5,-146.5\"/>\n<text text-anchor=\"middle\" x=\"509.12\" y=\"-123.7\" font-family=\"Times,serif\" font-size=\"14.00\">grad 0.5000</text>\n</g>\n<!-- 4557502096&#45;&gt;4557488272+ -->\n<g id=\"edge12\" class=\"edge\">\n<title>4557502096&#45;&gt;4557488272+</title>\n<path fill=\"none\" stroke=\"black\" d=\"M549.96,-110.45C558.76,-109.03 567.18,-107.68 574.82,-106.45\"/>\n<polygon fill=\"black\" stroke=\"black\" points=\"575.31,-109.91 584.63,-104.87 574.2,-103 575.31,-109.91\"/>\n</g>\n<!-- 4557502096* -->\n<g id=\"node6\" class=\"node\">\n<title>4557502096*</title>\n<ellipse fill=\"none\" stroke=\"black\" cx=\"261\" cy=\"-128.5\" rx=\"27\" ry=\"18\"/>\n<text text-anchor=\"middle\" x=\"261\" y=\"-123.45\" font-family=\"Times,serif\" font-size=\"14.00\">*</text>\n</g>\n<!-- 4557502096*&#45;&gt;4557502096 -->\n<g id=\"edge3\" class=\"edge\">\n<title>4557502096*&#45;&gt;4557502096</title>\n<path fill=\"none\" stroke=\"black\" d=\"M288.41,-128.5C295.49,-128.5 303.63,-128.5 312.38,-128.5\"/>\n<polygon fill=\"black\" stroke=\"black\" points=\"312.24,-132 322.24,-128.5 312.24,-125 312.24,-132\"/>\n</g>\n<!-- 4550408912 -->\n<g id=\"node7\" class=\"node\">\n<title>4550408912</title>\n<polygon fill=\"none\" stroke=\"black\" points=\"1.5,-165.5 1.5,-201.5 196.5,-201.5 196.5,-165.5 1.5,-165.5\"/>\n<text text-anchor=\"middle\" x=\"16.25\" y=\"-178.7\" font-family=\"Times,serif\" font-size=\"14.00\">x1</text>\n<polyline fill=\"none\" stroke=\"black\" points=\"31,-166 31,-201.5\"/>\n<text text-anchor=\"middle\" x=\"70.88\" y=\"-178.7\" font-family=\"Times,serif\" font-size=\"14.00\">data 2.0000</text>\n<polyline fill=\"none\" stroke=\"black\" points=\"110.75,-166 110.75,-201.5\"/>\n<text text-anchor=\"middle\" x=\"153.62\" y=\"-178.7\" font-family=\"Times,serif\" font-size=\"14.00\">grad &#45;1.5000</text>\n</g>\n<!-- 4550408912&#45;&gt;4557502096* -->\n<g id=\"edge10\" class=\"edge\">\n<title>4550408912&#45;&gt;4557502096*</title>\n<path fill=\"none\" stroke=\"black\" d=\"M172.12,-165.01C180.9,-162.35 189.7,-159.5 198,-156.5 208.09,-152.86 218.82,-148.27 228.47,-143.88\"/>\n<polygon fill=\"black\" stroke=\"black\" points=\"229.86,-147.09 237.45,-139.69 226.9,-140.75 229.86,-147.09\"/>\n</g>\n<!-- 4534916816 -->\n<g id=\"node8\" class=\"node\">\n<title>4534916816</title>\n<polygon fill=\"none\" stroke=\"black\" points=\"0,-110.5 0,-146.5 198,-146.5 198,-110.5 0,-110.5\"/>\n<text text-anchor=\"middle\" x=\"16.25\" y=\"-123.7\" font-family=\"Times,serif\" font-size=\"14.00\">w1</text>\n<polyline fill=\"none\" stroke=\"black\" points=\"32.5,-111 32.5,-146.5\"/>\n<text text-anchor=\"middle\" x=\"74.62\" y=\"-123.7\" font-family=\"Times,serif\" font-size=\"14.00\">data &#45;3.0000</text>\n<polyline fill=\"none\" stroke=\"black\" points=\"116.75,-111 116.75,-146.5\"/>\n<text text-anchor=\"middle\" x=\"157.38\" y=\"-123.7\" font-family=\"Times,serif\" font-size=\"14.00\">grad 1.0000</text>\n</g>\n<!-- 4534916816&#45;&gt;4557502096* -->\n<g id=\"edge13\" class=\"edge\">\n<title>4534916816&#45;&gt;4557502096*</title>\n<path fill=\"none\" stroke=\"black\" d=\"M198.14,-128.5C206.61,-128.5 214.8,-128.5 222.29,-128.5\"/>\n<polygon fill=\"black\" stroke=\"black\" points=\"222.29,-132 232.29,-128.5 222.29,-125 222.29,-132\"/>\n</g>\n<!-- 4557489360 -->\n<g id=\"node9\" class=\"node\">\n<title>4557489360</title>\n<polygon fill=\"none\" stroke=\"black\" points=\"326.25,-55.5 326.25,-91.5 547.5,-91.5 547.5,-55.5 326.25,-55.5\"/>\n<text text-anchor=\"middle\" x=\"356.38\" y=\"-68.7\" font-family=\"Times,serif\" font-size=\"14.00\">x2 * w2</text>\n<polyline fill=\"none\" stroke=\"black\" points=\"386.5,-56 386.5,-91.5\"/>\n<text text-anchor=\"middle\" x=\"426.38\" y=\"-68.7\" font-family=\"Times,serif\" font-size=\"14.00\">data 0.0000</text>\n<polyline fill=\"none\" stroke=\"black\" points=\"466.25,-56 466.25,-91.5\"/>\n<text text-anchor=\"middle\" x=\"506.88\" y=\"-68.7\" font-family=\"Times,serif\" font-size=\"14.00\">grad 0.5000</text>\n</g>\n<!-- 4557489360&#45;&gt;4557488272+ -->\n<g id=\"edge9\" class=\"edge\">\n<title>4557489360&#45;&gt;4557488272+</title>\n<path fill=\"none\" stroke=\"black\" d=\"M547.99,-90.6C557.5,-92.08 566.61,-93.49 574.82,-94.77\"/>\n<polygon fill=\"black\" stroke=\"black\" points=\"574.23,-98.22 584.65,-96.29 575.3,-91.3 574.23,-98.22\"/>\n</g>\n<!-- 4557489360* -->\n<g id=\"node10\" class=\"node\">\n<title>4557489360*</title>\n<ellipse fill=\"none\" stroke=\"black\" cx=\"261\" cy=\"-73.5\" rx=\"27\" ry=\"18\"/>\n<text text-anchor=\"middle\" x=\"261\" y=\"-68.45\" font-family=\"Times,serif\" font-size=\"14.00\">*</text>\n</g>\n<!-- 4557489360*&#45;&gt;4557489360 -->\n<g id=\"edge4\" class=\"edge\">\n<title>4557489360*&#45;&gt;4557489360</title>\n<path fill=\"none\" stroke=\"black\" d=\"M288.41,-73.5C296.06,-73.5 304.94,-73.5 314.49,-73.5\"/>\n<polygon fill=\"black\" stroke=\"black\" points=\"314.46,-77 324.46,-73.5 314.46,-70 314.46,-77\"/>\n</g>\n<!-- 4557496656 -->\n<g id=\"node11\" class=\"node\">\n<title>4557496656</title>\n<polygon fill=\"none\" stroke=\"black\" points=\"1397.25,-54.5 1397.25,-90.5 1581,-90.5 1581,-54.5 1397.25,-54.5\"/>\n<text text-anchor=\"middle\" x=\"1408.62\" y=\"-67.7\" font-family=\"Times,serif\" font-size=\"14.00\">o</text>\n<polyline fill=\"none\" stroke=\"black\" points=\"1420,-55 1420,-90.5\"/>\n<text text-anchor=\"middle\" x=\"1459.88\" y=\"-67.7\" font-family=\"Times,serif\" font-size=\"14.00\">data 0.7071</text>\n<polyline fill=\"none\" stroke=\"black\" points=\"1499.75,-55 1499.75,-90.5\"/>\n<text text-anchor=\"middle\" x=\"1540.38\" y=\"-67.7\" font-family=\"Times,serif\" font-size=\"14.00\">grad 1.0000</text>\n</g>\n<!-- 4557496656tanh&#45;&gt;4557496656 -->\n<g id=\"edge5\" class=\"edge\">\n<title>4557496656tanh&#45;&gt;4557496656</title>\n<path fill=\"none\" stroke=\"black\" d=\"M1361.53,-72.5C1368.67,-72.5 1376.86,-72.5 1385.57,-72.5\"/>\n<polygon fill=\"black\" stroke=\"black\" points=\"1385.31,-76 1395.31,-72.5 1385.31,-69 1385.31,-76\"/>\n</g>\n<!-- 4557499728 -->\n<g id=\"node13\" class=\"node\">\n<title>4557499728</title>\n<polygon fill=\"none\" stroke=\"black\" points=\"2.25,-55.5 2.25,-91.5 195.75,-91.5 195.75,-55.5 2.25,-55.5\"/>\n<text text-anchor=\"middle\" x=\"18.5\" y=\"-68.7\" font-family=\"Times,serif\" font-size=\"14.00\">w2</text>\n<polyline fill=\"none\" stroke=\"black\" points=\"34.75,-56 34.75,-91.5\"/>\n<text text-anchor=\"middle\" x=\"74.62\" y=\"-68.7\" font-family=\"Times,serif\" font-size=\"14.00\">data 1.0000</text>\n<polyline fill=\"none\" stroke=\"black\" points=\"114.5,-56 114.5,-91.5\"/>\n<text text-anchor=\"middle\" x=\"155.12\" y=\"-68.7\" font-family=\"Times,serif\" font-size=\"14.00\">grad 0.0000</text>\n</g>\n<!-- 4557499728&#45;&gt;4557489360* -->\n<g id=\"edge6\" class=\"edge\">\n<title>4557499728&#45;&gt;4557489360*</title>\n<path fill=\"none\" stroke=\"black\" d=\"M195.84,-73.5C205.14,-73.5 214.15,-73.5 222.32,-73.5\"/>\n<polygon fill=\"black\" stroke=\"black\" points=\"222.13,-77 232.13,-73.5 222.13,-70 222.13,-77\"/>\n</g>\n<!-- 4557494608 -->\n<g id=\"node14\" class=\"node\">\n<title>4557494608</title>\n<polygon fill=\"none\" stroke=\"black\" points=\"726.75,-27.5 726.75,-63.5 910.5,-63.5 910.5,-27.5 726.75,-27.5\"/>\n<text text-anchor=\"middle\" x=\"738.12\" y=\"-40.7\" font-family=\"Times,serif\" font-size=\"14.00\">b</text>\n<polyline fill=\"none\" stroke=\"black\" points=\"749.5,-28 749.5,-63.5\"/>\n<text text-anchor=\"middle\" x=\"789.38\" y=\"-40.7\" font-family=\"Times,serif\" font-size=\"14.00\">data 6.8814</text>\n<polyline fill=\"none\" stroke=\"black\" points=\"829.25,-28 829.25,-63.5\"/>\n<text text-anchor=\"middle\" x=\"869.88\" y=\"-40.7\" font-family=\"Times,serif\" font-size=\"14.00\">grad 0.5000</text>\n</g>\n<!-- 4557494608&#45;&gt;4557496912+ -->\n<g id=\"edge7\" class=\"edge\">\n<title>4557494608&#45;&gt;4557496912+</title>\n<path fill=\"none\" stroke=\"black\" d=\"M910.83,-57.58C937.54,-61.12 965.25,-64.79 986.5,-67.6\"/>\n<polygon fill=\"black\" stroke=\"black\" points=\"986.03,-71.07 996.4,-68.91 986.95,-64.13 986.03,-71.07\"/>\n</g>\n<!-- 4550398416 -->\n<g id=\"node15\" class=\"node\">\n<title>4550398416</title>\n<polygon fill=\"none\" stroke=\"black\" points=\"3.75,-0.5 3.75,-36.5 194.25,-36.5 194.25,-0.5 3.75,-0.5\"/>\n<text text-anchor=\"middle\" x=\"18.5\" y=\"-13.7\" font-family=\"Times,serif\" font-size=\"14.00\">x2</text>\n<polyline fill=\"none\" stroke=\"black\" points=\"33.25,-1 33.25,-36.5\"/>\n<text text-anchor=\"middle\" x=\"73.12\" y=\"-13.7\" font-family=\"Times,serif\" font-size=\"14.00\">data 0.0000</text>\n<polyline fill=\"none\" stroke=\"black\" points=\"113,-1 113,-36.5\"/>\n<text text-anchor=\"middle\" x=\"153.62\" y=\"-13.7\" font-family=\"Times,serif\" font-size=\"14.00\">grad 0.5000</text>\n</g>\n<!-- 4550398416&#45;&gt;4557489360* -->\n<g id=\"edge11\" class=\"edge\">\n<title>4550398416&#45;&gt;4557489360*</title>\n<path fill=\"none\" stroke=\"black\" d=\"M172.12,-36.99C180.9,-39.65 189.7,-42.5 198,-45.5 208.09,-49.14 218.82,-53.73 228.47,-58.12\"/>\n<polygon fill=\"black\" stroke=\"black\" points=\"226.9,-61.25 237.45,-62.31 229.86,-54.91 226.9,-61.25\"/>\n</g>\n</g>\n</svg>\n",
      "text/plain": [
       "<graphviz.graphs.Digraph at 0x10e5ab790>"
      ]
     },
     "execution_count": 151,
     "metadata": {},
     "output_type": "execute_result"
    }
   ],
   "source": [
    "draw_dot(o)"
   ]
  },
  {
   "cell_type": "code",
   "execution_count": 136,
   "metadata": {},
   "outputs": [],
   "source": [
    "# Implementing the backward function for each operation and calling them\n",
    "o.grad = 1.0\n",
    "o._backward()\n",
    "\n",
    "n._backward()\n",
    "\n",
    "b._backward()\n",
    "x1w1x2w2._backward()\n",
    "\n",
    "x1w1._backward()\n",
    "x2w2._backward()"
   ]
  },
  {
   "cell_type": "markdown",
   "metadata": {},
   "source": [
    "# Backward propagation for the whole expression graph\n",
    "* The backward propagation works in such a way that in order for us to evaluate a node, all of its dependencies need to be evaluated first.\n",
    "* This is what we do in topological sort. "
   ]
  },
  {
   "cell_type": "code",
   "execution_count": 150,
   "metadata": {},
   "outputs": [],
   "source": [
    "o.backward()"
   ]
  },
  {
   "cell_type": "markdown",
   "metadata": {},
   "source": [
    "# Fixing a backprop bug when a node is used multiple times\n",
    "* When a node is being used multiple times, its value will be overriden by the last value, rather than probably being the sum of the values. Example shared below:"
   ]
  },
  {
   "cell_type": "code",
   "execution_count": 154,
   "metadata": {},
   "outputs": [
    {
     "data": {
      "image/svg+xml": "<?xml version=\"1.0\" encoding=\"UTF-8\" standalone=\"no\"?>\n<!DOCTYPE svg PUBLIC \"-//W3C//DTD SVG 1.1//EN\"\n \"http://www.w3.org/Graphics/SVG/1.1/DTD/svg11.dtd\">\n<!-- Generated by graphviz version 9.0.0 (20230911.1827)\n -->\n<!-- Pages: 1 -->\n<svg width=\"496pt\" height=\"45pt\"\n viewBox=\"0.00 0.00 495.50 45.00\" xmlns=\"http://www.w3.org/2000/svg\" xmlns:xlink=\"http://www.w3.org/1999/xlink\">\n<g id=\"graph0\" class=\"graph\" transform=\"scale(1 1) rotate(0) translate(4 41)\">\n<polygon fill=\"white\" stroke=\"none\" points=\"-4,4 -4,-41 491.5,-41 491.5,4 -4,4\"/>\n<!-- 4557229776 -->\n<g id=\"node1\" class=\"node\">\n<title>4557229776</title>\n<polygon fill=\"none\" stroke=\"black\" points=\"0,-0.5 0,-36.5 180.75,-36.5 180.75,-0.5 0,-0.5\"/>\n<text text-anchor=\"middle\" x=\"9.88\" y=\"-13.7\" font-family=\"Times,serif\" font-size=\"14.00\"> </text>\n<polyline fill=\"none\" stroke=\"black\" points=\"19.75,-1 19.75,-36.5\"/>\n<text text-anchor=\"middle\" x=\"59.62\" y=\"-13.7\" font-family=\"Times,serif\" font-size=\"14.00\">data 2.0000</text>\n<polyline fill=\"none\" stroke=\"black\" points=\"99.5,-1 99.5,-36.5\"/>\n<text text-anchor=\"middle\" x=\"140.12\" y=\"-13.7\" font-family=\"Times,serif\" font-size=\"14.00\">grad 2.0000</text>\n</g>\n<!-- 4557242320+ -->\n<g id=\"node3\" class=\"node\">\n<title>4557242320+</title>\n<ellipse fill=\"none\" stroke=\"black\" cx=\"243.75\" cy=\"-18.5\" rx=\"27\" ry=\"18\"/>\n<text text-anchor=\"middle\" x=\"243.75\" y=\"-13.45\" font-family=\"Times,serif\" font-size=\"14.00\">+</text>\n</g>\n<!-- 4557229776&#45;&gt;4557242320+ -->\n<g id=\"edge2\" class=\"edge\">\n<title>4557229776&#45;&gt;4557242320+</title>\n<path fill=\"none\" stroke=\"black\" d=\"M181.18,-18.5C189.52,-18.5 197.62,-18.5 205.06,-18.5\"/>\n<polygon fill=\"black\" stroke=\"black\" points=\"205,-22 215,-18.5 205,-15 205,-22\"/>\n</g>\n<!-- 4557242320 -->\n<g id=\"node2\" class=\"node\">\n<title>4557242320</title>\n<polygon fill=\"none\" stroke=\"black\" points=\"306.75,-0.5 306.75,-36.5 487.5,-36.5 487.5,-0.5 306.75,-0.5\"/>\n<text text-anchor=\"middle\" x=\"316.62\" y=\"-13.7\" font-family=\"Times,serif\" font-size=\"14.00\"> </text>\n<polyline fill=\"none\" stroke=\"black\" points=\"326.5,-1 326.5,-36.5\"/>\n<text text-anchor=\"middle\" x=\"366.38\" y=\"-13.7\" font-family=\"Times,serif\" font-size=\"14.00\">data 4.0000</text>\n<polyline fill=\"none\" stroke=\"black\" points=\"406.25,-1 406.25,-36.5\"/>\n<text text-anchor=\"middle\" x=\"446.88\" y=\"-13.7\" font-family=\"Times,serif\" font-size=\"14.00\">grad 1.0000</text>\n</g>\n<!-- 4557242320+&#45;&gt;4557242320 -->\n<g id=\"edge1\" class=\"edge\">\n<title>4557242320+&#45;&gt;4557242320</title>\n<path fill=\"none\" stroke=\"black\" d=\"M271.12,-18.5C278.26,-18.5 286.45,-18.5 295.14,-18.5\"/>\n<polygon fill=\"black\" stroke=\"black\" points=\"294.86,-22 304.86,-18.5 294.86,-15 294.86,-22\"/>\n</g>\n</g>\n</svg>\n",
      "text/plain": [
       "<graphviz.graphs.Digraph at 0x10fa1d6d0>"
      ]
     },
     "execution_count": 154,
     "metadata": {},
     "output_type": "execute_result"
    }
   ],
   "source": [
    "a = Value(2)\n",
    "b = a + a\n",
    "b.backward()\n",
    "draw_dot(b) # a = 2 * b ==> db/da = 2 but this gave the ans as 1\n",
    "# instead of self.grad = 1.0 * out.grad, we change it to self.grad += 1.0 * out.grad"
   ]
  }
 ],
 "metadata": {
  "kernelspec": {
   "display_name": "Python 3.11.5 64-bit",
   "language": "python",
   "name": "python3"
  },
  "language_info": {
   "codemirror_mode": {
    "name": "ipython",
    "version": 3
   },
   "file_extension": ".py",
   "mimetype": "text/x-python",
   "name": "python",
   "nbconvert_exporter": "python",
   "pygments_lexer": "ipython3",
   "version": "3.11.5"
  },
  "orig_nbformat": 4,
  "vscode": {
   "interpreter": {
    "hash": "b0fa6594d8f4cbf19f97940f81e996739fb7646882a419484c72d19e05852a7e"
   }
  }
 },
 "nbformat": 4,
 "nbformat_minor": 2
}
