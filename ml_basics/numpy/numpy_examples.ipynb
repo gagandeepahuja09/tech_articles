{
 "cells": [
  {
   "cell_type": "code",
   "execution_count": 4,
   "metadata": {},
   "outputs": [
    {
     "name": "stdout",
     "output_type": "stream",
     "text": [
      "CPU times: user 11.9 ms, sys: 4.13 ms, total: 16.1 ms\n",
      "Wall time: 16.5 ms\n"
     ]
    }
   ],
   "source": [
    "%%time\n",
    "a = [i for i in range(100000)]\n",
    "b = [i for i in range(100000)]\n",
    "\n",
    "c = []\n",
    "for i in range(len(a)):\n",
    "    c.append(a[i] + 2 * b[i])"
   ]
  },
  {
   "cell_type": "code",
   "execution_count": 5,
   "metadata": {},
   "outputs": [
    {
     "name": "stdout",
     "output_type": "stream",
     "text": [
      "CPU times: user 1.98 ms, sys: 2.42 ms, total: 4.41 ms\n",
      "Wall time: 3.45 ms\n"
     ]
    }
   ],
   "source": [
    "%%time\n",
    "import numpy as np\n",
    "\n",
    "a = np.arange(100000)\n",
    "b = np.arange(100000)\n",
    "\n",
    "c = a + 2 * b"
   ]
  },
  {
   "cell_type": "markdown",
   "metadata": {},
   "source": [
    "Regular python is much slower due to:\n",
    "    - type-checking\n",
    "    - abstractions\n",
    "    - interpreting code\n",
    "\n",
    "Numpy uses pre-compiled C code."
   ]
  },
  {
   "cell_type": "markdown",
   "metadata": {},
   "source": [
    "**Vectorization**\n",
    "- Applying operation to arrays instead of just numbers.\n",
    "- Representing like mathematical notation."
   ]
  },
  {
   "cell_type": "markdown",
   "metadata": {},
   "source": [
    "**ndarray**\n",
    "\n",
    "* Same type and fixed size, hence offer less flexibility than Python lists.\n",
    "* Can be much more efficient runtime and memory wise.\n",
    "* Python lists are array of pointers. This indirection adds both latency and more memory."
   ]
  },
  {
   "cell_type": "code",
   "execution_count": 1,
   "metadata": {},
   "outputs": [
    {
     "name": "stdout",
     "output_type": "stream",
     "text": [
      "(3,)\n",
      "<class 'numpy.ndarray'>\n",
      "(2, 3)\n",
      "<class 'numpy.ndarray'>\n",
      "[[0. 0.]\n",
      " [0. 0.]]\n",
      "[[7 7 7]\n",
      " [7 7 7]]\n"
     ]
    }
   ],
   "source": [
    "import numpy as np\n",
    "\n",
    "a = np.array([1, 2, 3])\n",
    "print(a.shape)\n",
    "print(type(a))\n",
    "\n",
    "b = np.array([[1, 2, 3], \n",
    "            [4, 5, 6]])\n",
    "print(b.shape)\n",
    "print(type(b))\n",
    "\n",
    "c = np.zeros((2, 2))\n",
    "print(c)\n",
    "d = np.full((2, 3), 7)\n",
    "print(d)"
   ]
  },
  {
   "cell_type": "code",
   "execution_count": 3,
   "metadata": {},
   "outputs": [
    {
     "name": "stdout",
     "output_type": "stream",
     "text": [
      "[0 1 2 3 4 5 6 7]\n",
      "(8,)\n",
      "[[0 1 2 3]\n",
      " [4 5 6 7]]\n",
      "[[0 1]\n",
      " [2 3]\n",
      " [4 5]\n",
      " [6 7]]\n",
      "0\n",
      "0\n"
     ]
    }
   ],
   "source": [
    "nums = np.arange(8)\n",
    "print(nums)\n",
    "print(nums.shape)\n",
    "\n",
    "nums = nums.reshape(2, 4)\n",
    "print(nums)\n",
    "\n",
    "nums = nums.reshape(4, -1)\n",
    "print(nums)\n",
    "\n",
    "print(nums.min())\n",
    "print(np.min(nums))"
   ]
  },
  {
   "cell_type": "code",
   "execution_count": 6,
   "metadata": {},
   "outputs": [
    {
     "name": "stdout",
     "output_type": "stream",
     "text": [
      "[[ 6.  8.]\n",
      " [10. 12.]] [[-4. -4.]\n",
      " [-4. -4.]] [[ 5. 12.]\n",
      " [21. 32.]] [[1.         1.41421356]\n",
      " [1.73205081 2.        ]]\n"
     ]
    }
   ],
   "source": [
    "# Array operations or math\n",
    "\n",
    "x = np.array([\n",
    "    [1, 2],\n",
    "    [3, 4]\n",
    "], dtype=np.float64)\n",
    "\n",
    "y = np.array([\n",
    "    [5, 6],\n",
    "    [7, 8]\n",
    "], dtype=np.float64)\n",
    "\n",
    "print(x + y, x - y, x * y, np.sqrt(x))"
   ]
  },
  {
   "cell_type": "code",
   "execution_count": 9,
   "metadata": {},
   "outputs": [
    {
     "name": "stdout",
     "output_type": "stream",
     "text": [
      "21\n",
      "[5 7 9]\n",
      "[ 6 15]\n",
      "[2 2]\n"
     ]
    }
   ],
   "source": [
    "x = np.array([[1, 2, 3], [4, 5, 6]])\n",
    "print(np.sum(x))\n",
    "print(np.sum(x, axis=0)) # column\n",
    "print(np.sum(x, axis=1)) # row\n",
    "\n",
    "print(np.argmax(x, axis=1))"
   ]
  },
  {
   "cell_type": "code",
   "execution_count": 12,
   "metadata": {},
   "outputs": [
    {
     "name": "stdout",
     "output_type": "stream",
     "text": [
      "(2, 2, 3)\n",
      "[[10 23 33]\n",
      " [43 52 16]]\n"
     ]
    }
   ],
   "source": [
    "x = np.array([ [[1, 2, 3], [4, 5, 6]], [[10, 23, 33], [43, 52, 16]] ])\n",
    "print(x.shape)\n",
    "print(x.max(axis=0))"
   ]
  },
  {
   "cell_type": "code",
   "execution_count": 15,
   "metadata": {},
   "outputs": [
    {
     "name": "stdout",
     "output_type": "stream",
     "text": [
      "1 1\n",
      "[[1 2 3 4]\n",
      " [5 6 7 8]]\n",
      "[[2 3]\n",
      " [6 7]]\n",
      "[4 3 2 1]\n"
     ]
    }
   ],
   "source": [
    "# Indexing\n",
    "\n",
    "a = np.array([\n",
    "    [1, 2, 3, 4],\n",
    "    [5, 6, 7, 8],\n",
    "    [9, 10, 11, 12],\n",
    "])\n",
    "print(a[0][0], a[0, 0])\n",
    "print(a[:2]) # first 2 rows\n",
    "print(a[:2, 1:3]) # second and third columns from first 2 rows\n",
    "print(a[0, ::-1])"
   ]
  }
 ],
 "metadata": {
  "kernelspec": {
   "display_name": "Python 3.11.5 64-bit",
   "language": "python",
   "name": "python3"
  },
  "language_info": {
   "codemirror_mode": {
    "name": "ipython",
    "version": 3
   },
   "file_extension": ".py",
   "mimetype": "text/x-python",
   "name": "python",
   "nbconvert_exporter": "python",
   "pygments_lexer": "ipython3",
   "version": "3.11.5"
  },
  "orig_nbformat": 4,
  "vscode": {
   "interpreter": {
    "hash": "b0fa6594d8f4cbf19f97940f81e996739fb7646882a419484c72d19e05852a7e"
   }
  }
 },
 "nbformat": 4,
 "nbformat_minor": 2
}
